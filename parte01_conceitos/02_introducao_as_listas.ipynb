{
  "nbformat": 4,
  "nbformat_minor": 0,
  "metadata": {
    "colab": {
      "provenance": [],
      "authorship_tag": "ABX9TyMdAAfu2TLzNGk7rSMGrjKX"
    },
    "kernelspec": {
      "name": "python3",
      "display_name": "Python 3"
    },
    "language_info": {
      "name": "python"
    }
  },
  "cells": [
    {
      "cell_type": "markdown",
      "source": [
        "# O que é uma lista?\n",
        "\n"
      ],
      "metadata": {
        "id": "0AY_SFHxYhIm"
      }
    },
    {
      "cell_type": "markdown",
      "source": [
        "É uma coleção de itens em uma ordem em particular. Você pode colocar qualquer\n",
        "informação que quiser em uma lista, e os itens de sua lista não precisam\n",
        "estar relacionados de nenhum modo em particular. Como uma lista geralmente contém mais de um elemento, **é uma boa ideia deixar seu nome no plural**, por exemplo, *`letters`*, *`digits`* ou *`names`*.\n",
        "\n",
        "Em Python, colchetes ([ ]) indicam uma lista, e elementos individuais\n",
        "da lista são separados por vírgulas. Eis um exemplo simples de uma lista\n",
        "que contém alguns tipos de bicicleta:"
      ],
      "metadata": {
        "id": "Utf3Hcd3DcpS"
      }
    },
    {
      "cell_type": "code",
      "execution_count": null,
      "metadata": {
        "id": "LF8Nm5pLYakF",
        "colab": {
          "base_uri": "https://localhost:8080/"
        },
        "outputId": "457f4311-0eb0-4833-f444-ff2adcc34480"
      },
      "outputs": [
        {
          "output_type": "stream",
          "name": "stdout",
          "text": [
            "trek\n"
          ]
        }
      ],
      "source": [
        "bicycles = ['trek','cannondale', 'redline', 'specialized']\n",
        "print(bicycles[0])"
      ]
    },
    {
      "cell_type": "markdown",
      "source": [
        "# Acessando elementos de uma lista"
      ],
      "metadata": {
        "id": "seujNGVkYgjX"
      }
    },
    {
      "cell_type": "markdown",
      "source": [
        "Listas são coleções ordenadas, portanto você pode acessar qualquer elemento de uma lista informando a posição – ou `índice` – do item desejado ao interpretador Python.\n",
        "\n",
        "Por exemplo, vamos extrair a primeira bicicleta da lista bicycles:"
      ],
      "metadata": {
        "id": "rZEG2U6iDfmn"
      }
    },
    {
      "cell_type": "code",
      "source": [
        "bicycles = ['trek','cannondale', 'redline', 'specialized']\n",
        "print(bicycles[0].title())"
      ],
      "metadata": {
        "id": "byDof4TfYhsv",
        "colab": {
          "base_uri": "https://localhost:8080/"
        },
        "outputId": "2de1950b-e81c-4424-e0c3-e8b2a3c590f6"
      },
      "execution_count": null,
      "outputs": [
        {
          "output_type": "stream",
          "name": "stdout",
          "text": [
            "Trek\n"
          ]
        }
      ]
    },
    {
      "cell_type": "markdown",
      "source": [],
      "metadata": {
        "id": "yVfbsJLBEEZY"
      }
    },
    {
      "cell_type": "markdown",
      "source": [
        "# A posição dos índices começa em 0, e não em 1"
      ],
      "metadata": {
        "id": "8pQBVaklEAQd"
      }
    },
    {
      "cell_type": "markdown",
      "source": [
        "Python considera que o primeiro item de uma lista está na posição 0, e não na posição 1. Isso é válido para a maioria das linguagens de programação, e o motivo tem a ver com o modo como as operações em lista são implementadas em um nível mais baixo.\n",
        "\n",
        "As instruções a seguir acessam as bicicletas nos índices 1 e 3:"
      ],
      "metadata": {
        "id": "op50JETGEF-y"
      }
    },
    {
      "cell_type": "code",
      "source": [
        "bicycles = ['trek', 'cannondale', 'redline', 'specialized']\n",
        "print(bicycles[1])\n",
        "print(bicycles[3])"
      ],
      "metadata": {
        "colab": {
          "base_uri": "https://localhost:8080/"
        },
        "id": "x4YM_r8WEVvU",
        "outputId": "e8caa252-eb2d-4d60-c261-86b18326902d"
      },
      "execution_count": null,
      "outputs": [
        {
          "output_type": "stream",
          "name": "stdout",
          "text": [
            "cannondale\n",
            "specialized\n"
          ]
        }
      ]
    },
    {
      "cell_type": "markdown",
      "source": [
        "**Python tem uma sintaxe especial para acessar o último elemento de uma lista**. Ao solicitar o item no índice **-1**, Python sempre devolve o último item da lista:"
      ],
      "metadata": {
        "id": "GKY3xbVxEdxh"
      }
    },
    {
      "cell_type": "code",
      "source": [
        "bicycles = ['trek', 'cannondale', 'redline', 'specialized']\n",
        "print(bicycles[-1])"
      ],
      "metadata": {
        "colab": {
          "base_uri": "https://localhost:8080/"
        },
        "id": "7ovFKGQ-ElQq",
        "outputId": "7d82cc07-6ea6-4ced-d344-41a3fed5be4b"
      },
      "execution_count": null,
      "outputs": [
        {
          "output_type": "stream",
          "name": "stdout",
          "text": [
            "specialized\n"
          ]
        }
      ]
    },
    {
      "cell_type": "markdown",
      "source": [
        "`Essa convenção também se estende a outros valores negativos de índice. O índice -2 devolve o segundo item a partir do final da lista, o índice -3 devolve o terceiro item a partir do final, e assim sucessivamente.`"
      ],
      "metadata": {
        "id": "Xgc0-QgJEuKx"
      }
    },
    {
      "cell_type": "markdown",
      "source": [
        "# Usando valores individuais de uma lista"
      ],
      "metadata": {
        "id": "HswQC8deFJsd"
      }
    },
    {
      "cell_type": "markdown",
      "source": [
        "Você pode usar valores individuais de uma lista, exatamente como faria\n",
        "com qualquer outra variável. Por exemplo, podemos usar concatenação para criar uma mensagem com base em um valor de uma lista.\n",
        "\n",
        "Vamos tentar obter a primeira bicicleta da lista e compor uma\n",
        "mensagem usando esse valor."
      ],
      "metadata": {
        "id": "vrfOSnX6FUjx"
      }
    },
    {
      "cell_type": "code",
      "source": [
        "bicycles = ['trek', 'cannondale', 'redline', 'specialized']\n",
        "message = \"My first bicycle was a \" + bicycles[0].title() + \".\"\n",
        "print(message)"
      ],
      "metadata": {
        "colab": {
          "base_uri": "https://localhost:8080/"
        },
        "id": "IYlZjo1-FcMY",
        "outputId": "d3a1420c-6c66-4033-b9ab-7b863c0a2848"
      },
      "execution_count": null,
      "outputs": [
        {
          "output_type": "stream",
          "name": "stdout",
          "text": [
            "My first bicycle was a Trek.\n"
          ]
        }
      ]
    },
    {
      "cell_type": "markdown",
      "source": [
        "# Alterando, acrescentando e removendo elementos"
      ],
      "metadata": {
        "id": "TRLI1bYLFsC5"
      }
    },
    {
      "cell_type": "markdown",
      "source": [
        "A maioria das listas que você criar será dinâmica, o que significa que você criará uma lista e então adicionará e removerá elementos dela à medida que seu programa executar."
      ],
      "metadata": {
        "id": "XTFsupI_Fvkh"
      }
    },
    {
      "cell_type": "markdown",
      "source": [
        "# Modificando elementos de uma lista"
      ],
      "metadata": {
        "id": "eeL7nCBDF-Mr"
      }
    },
    {
      "cell_type": "markdown",
      "source": [
        "A sintaxe para modificar um elemento é semelhante à sintaxe para acessar um elemento de uma lista. Para alterar um elemento, use o nome da lista seguido do índice do elemento que você quer modificar e, então, forneça o novo valor que você quer que esse item tenha.\n",
        "\n",
        "Por exemplo, vamos supor que temos uma lista de motocicletas, e que\n",
        "o primeiro item da lista seja '`honda`'. Como mudaríamos o valor desse\n",
        "primeiro item?"
      ],
      "metadata": {
        "id": "k886DDnJGAX3"
      }
    },
    {
      "cell_type": "code",
      "source": [
        "motorcycles = ['honda', 'yamaha', 'suzuki']\n",
        "print(motorcycles)\n",
        "motorcycles[0] = 'ducati'\n",
        "print(motorcycles)"
      ],
      "metadata": {
        "colab": {
          "base_uri": "https://localhost:8080/"
        },
        "id": "wsifSLWcGIUz",
        "outputId": "b0089a92-e8f9-4a5f-c148-dbc159fc13a7"
      },
      "execution_count": null,
      "outputs": [
        {
          "output_type": "stream",
          "name": "stdout",
          "text": [
            "['honda', 'yamaha', 'suzuki']\n",
            "['ducati', 'yamaha', 'suzuki']\n"
          ]
        }
      ]
    },
    {
      "cell_type": "markdown",
      "source": [
        "# Acrescentando elementos em uma lista"
      ],
      "metadata": {
        "id": "xwMxbK6DGoIS"
      }
    },
    {
      "cell_type": "markdown",
      "source": [
        "### Concatenando elementos no final de uma lista"
      ],
      "metadata": {
        "id": "FjFeb1ebGrjy"
      }
    },
    {
      "cell_type": "markdown",
      "source": [
        "A maneira mais simples de acrescentar um novo elemento em uma lista é `concatenar` o item na lista. Quando concatenamos um item em uma lista, o novo elemento é acrescentado no final. Usando a mesma lista que tínhamos no exemplo anterior, adicionaremos o novo elemento '`ducati`' no final da lista:"
      ],
      "metadata": {
        "id": "U6THqmzgG6Bo"
      }
    },
    {
      "cell_type": "code",
      "source": [
        "motorcycles = ['honda', 'yamaha', 'suzuki']\n",
        "print(motorcycles)\n",
        "motorcycles.append('ducati')\n",
        "print(motorcycles)"
      ],
      "metadata": {
        "colab": {
          "base_uri": "https://localhost:8080/"
        },
        "id": "5e61Nc3sHMm0",
        "outputId": "9f5a070b-0596-4855-953a-7c7f5c3c78f3"
      },
      "execution_count": null,
      "outputs": [
        {
          "output_type": "stream",
          "name": "stdout",
          "text": [
            "['honda', 'yamaha', 'suzuki']\n",
            "['honda', 'yamaha', 'suzuki', 'ducati']\n"
          ]
        }
      ]
    },
    {
      "cell_type": "markdown",
      "source": [
        "O método `append()` facilita criar listas dinamicamente. Por exemplo, podemos começar com uma lista vazia e então acrescentar itens à lista usando uma série de instruções append(). Usando uma lista vazia, vamos adicionar os elementos '`honda`', '`yamaha`' e '`suzuki`' à lista:"
      ],
      "metadata": {
        "id": "Gb6Rc39QHhpC"
      }
    },
    {
      "cell_type": "code",
      "source": [
        "motorcycles = []\n",
        "motorcycles.append('honda')\n",
        "motorcycles.append('yamaha')\n",
        "motorcycles.append('suzuki')\n",
        "print(motorcycles)"
      ],
      "metadata": {
        "colab": {
          "base_uri": "https://localhost:8080/"
        },
        "id": "WT8-IZNuHtfq",
        "outputId": "111ab7fb-88eb-4491-e695-bd7710c98c7d"
      },
      "execution_count": null,
      "outputs": [
        {
          "output_type": "stream",
          "name": "stdout",
          "text": [
            "['honda', 'yamaha', 'suzuki']\n"
          ]
        }
      ]
    },
    {
      "cell_type": "code",
      "source": [],
      "metadata": {
        "id": "lDIv14a1IZZ5"
      },
      "execution_count": null,
      "outputs": []
    },
    {
      "cell_type": "markdown",
      "source": [
        "Criar listas dessa maneira é bem comum, pois, com frequência, você não conhecerá os dados que seus usuários querem armazenar em um programa até que ele esteja executando. Para deixar que seus usuários tenham o controle, comece definindo uma lista vazia que armazenará os valores dos usuários. Em seguida, concatene cada novo valor fornecido à lista que você acabou de criar."
      ],
      "metadata": {
        "id": "tTlpvOB1IE9F"
      }
    },
    {
      "cell_type": "markdown",
      "source": [
        "### Inserindo elementos em uma lista"
      ],
      "metadata": {
        "id": "UZ7vJ24XIWus"
      }
    },
    {
      "cell_type": "markdown",
      "source": [
        "Você pode adicionar um novo elemento em qualquer posição de sua lista usando o método `insert()`. Faça isso especificando o índice do novo elemento e o valor do novo item."
      ],
      "metadata": {
        "id": "v_eEdahWIf8x"
      }
    },
    {
      "cell_type": "code",
      "source": [
        "motorcycles = ['honda', 'yamaha', 'suzuki']\n",
        "motorcycles.insert(0, 'ducati')\n",
        "print(motorcycles)"
      ],
      "metadata": {
        "colab": {
          "base_uri": "https://localhost:8080/"
        },
        "id": "NzSUXzeOIzvs",
        "outputId": "18fa0162-55f2-4cd8-80cd-ab69e81bb2b7"
      },
      "execution_count": null,
      "outputs": [
        {
          "output_type": "stream",
          "name": "stdout",
          "text": [
            "['ducati', 'honda', 'yamaha', 'suzuki']\n"
          ]
        }
      ]
    },
    {
      "cell_type": "markdown",
      "source": [
        "# Removendo elementos de uma lista"
      ],
      "metadata": {
        "id": "jDMwQxzuJAen"
      }
    },
    {
      "cell_type": "markdown",
      "source": [
        "Você pode remover um item de acordo com sua **posição na lista** ou seu **valor**."
      ],
      "metadata": {
        "id": "vA_3xQ7mJFIK"
      }
    },
    {
      "cell_type": "markdown",
      "source": [
        "### Removendo um item usando a instrução del"
      ],
      "metadata": {
        "id": "05B21T-IJHg-"
      }
    },
    {
      "cell_type": "markdown",
      "source": [
        "Se a **posição** do item que você quer remover de uma lista for conhecida, a instrução `del` poderá ser usada."
      ],
      "metadata": {
        "id": "loaEXLQrJM_H"
      }
    },
    {
      "cell_type": "code",
      "source": [
        "motorcycles = ['honda', 'yamaha', 'suzuki']\n",
        "print(motorcycles)\n",
        "del motorcycles[0]\n",
        "print(motorcycles)"
      ],
      "metadata": {
        "colab": {
          "base_uri": "https://localhost:8080/"
        },
        "id": "vbStu5lBvm3I",
        "outputId": "efba3333-6be2-42f9-ab4b-e1ba55fbfd2c"
      },
      "execution_count": null,
      "outputs": [
        {
          "output_type": "stream",
          "name": "stdout",
          "text": [
            "['honda', 'yamaha', 'suzuki']\n",
            "['yamaha', 'suzuki']\n"
          ]
        }
      ]
    },
    {
      "cell_type": "markdown",
      "source": [
        "`O código usa del para remover o primeiro item, 'honda', da lista de motocicletas: ['honda', 'yamaha', 'suzuki']`\n",
        "\n",
        "Você pode remover um item de qualquer posição em uma lista usando\n",
        "a instrução `del`, se souber qual é o seu índice."
      ],
      "metadata": {
        "id": "vz5wsxHdvwsI"
      }
    },
    {
      "cell_type": "markdown",
      "source": [
        "### Removendo um item com o método pop()"
      ],
      "metadata": {
        "id": "fZycw6alJOfD"
      }
    },
    {
      "cell_type": "markdown",
      "source": [
        "O método `pop()` remove o último item de uma lista, mas permite que você trabalhe com esse item depois da remoção. O termo `pop` deriva de\n",
        "pensar em uma lista como se fosse uma pilha de itens e remover um item\n",
        "(fazer um pop) do topo da pilha. Nessa analogia, o topo da pilha\n",
        "corresponde ao final da lista.\n",
        "\n",
        "Vamos fazer um pop de uma motocicleta da lista de motocicletas:"
      ],
      "metadata": {
        "id": "WqHXBZJ6JR-W"
      }
    },
    {
      "cell_type": "code",
      "source": [
        "motorcycles = ['honda', 'yamaha', 'suzuki']\n",
        "print(motorcycles)\n",
        "popped_motorcycle = motorcycles.pop()\n",
        "print(motorcycles)\n",
        "print(popped_motorcycle)"
      ],
      "metadata": {
        "colab": {
          "base_uri": "https://localhost:8080/"
        },
        "id": "el1WIKr1wicj",
        "outputId": "5b5bd175-80b4-4eb1-f487-65d0251ff4a6"
      },
      "execution_count": null,
      "outputs": [
        {
          "output_type": "stream",
          "name": "stdout",
          "text": [
            "['honda', 'yamaha', 'suzuki']\n",
            "['honda', 'yamaha']\n",
            "suzuki\n"
          ]
        }
      ]
    },
    {
      "cell_type": "markdown",
      "source": [
        "`Começamos definindo e exibindo a lista motorcycles. Fazemos pop de um valor da lista e o armazenamos na variável popped_motorcycle. Exibimos a lista para mostrar que um valor foi removido da lista. Então exibimos o valor removido para provar que ainda temos acesso ao valor removido.`"
      ],
      "metadata": {
        "id": "lLdv_ec2wjWR"
      }
    },
    {
      "cell_type": "markdown",
      "source": [
        "### Removendo itens de qualquer posição em uma lista"
      ],
      "metadata": {
        "id": "lk-9A5dqxQ0-"
      }
    },
    {
      "cell_type": "markdown",
      "source": [
        "Na verdade, você pode usar `pop()` para remover um item de qualquer posição em uma lista se incluir o índice do item que você deseja remover entre parênteses."
      ],
      "metadata": {
        "id": "6dcmSMo7xZnW"
      }
    },
    {
      "cell_type": "code",
      "source": [
        "motorcycles = ['honda', 'yamaha', 'suzuki']\n",
        "first_owned = motorcycles.pop(0)\n",
        "print('The first motorcycle I owned was a ' + first_owned.title() + '.')"
      ],
      "metadata": {
        "colab": {
          "base_uri": "https://localhost:8080/"
        },
        "id": "2RP96-4AxaYq",
        "outputId": "4d951171-867f-47e6-e652-6a7d3797aaac"
      },
      "execution_count": null,
      "outputs": [
        {
          "output_type": "stream",
          "name": "stdout",
          "text": [
            "The first motorcycle I owned was a Honda.\n"
          ]
        }
      ]
    },
    {
      "cell_type": "markdown",
      "source": [
        "`Lembre-se de que, sempre que usar pop(), o item com o qual você trabalhar não estará mais armazenado na lista.`"
      ],
      "metadata": {
        "id": "HDKnytoIxa0u"
      }
    },
    {
      "cell_type": "markdown",
      "source": [
        "Se você não tiver certeza se deve usar a instrução `del` ou o método `pop()`, eis um modo fácil de decidir: quando quiser apagar um item de uma lista e esse item não vai ser usado de modo algum, utilize a instrução `del`; se quiser usar um item à medida que removê-lo, utilize o método `pop()`."
      ],
      "metadata": {
        "id": "lDgI9J47x_-N"
      }
    },
    {
      "cell_type": "markdown",
      "source": [
        "### Removendo um item de acordo com o valor"
      ],
      "metadata": {
        "id": "fE_3OY0TyVED"
      }
    },
    {
      "cell_type": "markdown",
      "source": [
        "Se conhecer apenas o valor do item que deseja remover, o método `remove()` poderá ser usado."
      ],
      "metadata": {
        "id": "LLPoCO6PyZgg"
      }
    },
    {
      "cell_type": "code",
      "source": [
        "motorcycles = ['honda', 'yamaha', 'suzuki', 'ducati']\n",
        "print(motorcycles)\n",
        "motorcycles.remove('ducati')\n",
        "print(motorcycles)"
      ],
      "metadata": {
        "colab": {
          "base_uri": "https://localhost:8080/"
        },
        "id": "F1_BiBlSxb1Q",
        "outputId": "da35cefc-35ea-4c4b-80df-b2e69450ad7a"
      },
      "execution_count": null,
      "outputs": [
        {
          "output_type": "stream",
          "name": "stdout",
          "text": [
            "['honda', 'yamaha', 'suzuki', 'ducati']\n",
            "['honda', 'yamaha', 'suzuki']\n"
          ]
        }
      ]
    },
    {
      "cell_type": "markdown",
      "source": [
        "**NOTA:** O método `remove()` apaga apenas a primeira ocorrência do valor que você especificar. Se houver a possibilidade de o valor aparecer mais de uma vez na lista, será necessário usar um laço para determinar se todas as ocorrências desse valor foram removidas. Vamos a um exemplo prático:"
      ],
      "metadata": {
        "id": "vpLH-hv0y2Cz"
      }
    },
    {
      "cell_type": "code",
      "source": [
        "motorcycles = ['honda', 'ducati', 'yamaha', 'suzuki', 'ducati']\n",
        "print(motorcycles)\n",
        "motorcycles.remove('ducati')\n",
        "print(motorcycles)"
      ],
      "metadata": {
        "colab": {
          "base_uri": "https://localhost:8080/"
        },
        "id": "Uv7fPdwjzl4b",
        "outputId": "cf41a1ed-d9b6-4f39-e341-97c5b1995dbb"
      },
      "execution_count": null,
      "outputs": [
        {
          "output_type": "stream",
          "name": "stdout",
          "text": [
            "['honda', 'ducati', 'yamaha', 'suzuki', 'ducati']\n",
            "['honda', 'yamaha', 'suzuki', 'ducati']\n"
          ]
        }
      ]
    },
    {
      "cell_type": "markdown",
      "source": [
        "## Organizando uma lista"
      ],
      "metadata": {
        "id": "YbKcitPcz03J"
      }
    },
    {
      "cell_type": "markdown",
      "source": [
        "Python oferece várias maneiras de organizar suas listas de acordo com a situação."
      ],
      "metadata": {
        "id": "F2V3BUFu0DrY"
      }
    },
    {
      "cell_type": "markdown",
      "source": [
        "### Ordenando uma lista de forma permanente com o método sort()"
      ],
      "metadata": {
        "id": "JlmbL1V10EqI"
      }
    },
    {
      "cell_type": "markdown",
      "source": [
        "O método `sort()` de Python faz com que seja relativamente fácil ordenar\n",
        "uma lista."
      ],
      "metadata": {
        "id": "bYG_kWyf0GFP"
      }
    },
    {
      "cell_type": "code",
      "source": [
        "cars = ['bmw', 'audi', 'toyota', 'subaru']\n",
        "cars.sort()\n",
        "print(cars)"
      ],
      "metadata": {
        "colab": {
          "base_uri": "https://localhost:8080/"
        },
        "id": "BtNKFmDc0eNd",
        "outputId": "91547ea1-ab9a-43e1-b870-aa0179ed4f90"
      },
      "execution_count": null,
      "outputs": [
        {
          "output_type": "stream",
          "name": "stdout",
          "text": [
            "['audi', 'bmw', 'subaru', 'toyota']\n"
          ]
        }
      ]
    },
    {
      "cell_type": "markdown",
      "source": [
        "`O método sort() mostrado altera a ordem da lista de forma permanente. Os carros agora estão em ordem alfabética e não podemos mais retornar à ordem original.`"
      ],
      "metadata": {
        "id": "EiVJnuBq009j"
      }
    },
    {
      "cell_type": "markdown",
      "source": [
        "Também podemos ordenar essa lista em ordem alfabética inversa, passando o argumento `reverse=True `ao método `sort()`."
      ],
      "metadata": {
        "id": "X_WEVzEh09Iw"
      }
    },
    {
      "cell_type": "code",
      "source": [
        "cars = ['bmw', 'audi', 'toyota', 'subaru']\n",
        "cars.sort(reverse=True)\n",
        "print(cars)"
      ],
      "metadata": {
        "colab": {
          "base_uri": "https://localhost:8080/"
        },
        "id": "x1EMJsXp1C9B",
        "outputId": "90359dfc-5713-41e1-a85a-d88532b9956a"
      },
      "execution_count": null,
      "outputs": [
        {
          "output_type": "stream",
          "name": "stdout",
          "text": [
            "['toyota', 'subaru', 'bmw', 'audi']\n"
          ]
        }
      ]
    },
    {
      "cell_type": "markdown",
      "source": [
        "## Ordenando uma lista temporariamente com a função sorted()"
      ],
      "metadata": {
        "id": "j1rTa6QJ1K5l"
      }
    },
    {
      "cell_type": "markdown",
      "source": [
        "Para preservar a ordem original de uma lista, mas apresentá-la de forma ordenada, podemos usar a função `sorted()`. A função `sorted()` permite exibir sua lista em uma ordem em particular, mas não afeta a ordem propriamente dita da lista."
      ],
      "metadata": {
        "id": "EUKkO-Fj1Nxs"
      }
    },
    {
      "cell_type": "code",
      "source": [
        "cars = ['bmw', 'audi', 'toyota', 'subaru']\n",
        "print(\"Here is the original list: \" + str(cars))\n",
        "print(\"\\nHere is the sorted list: \" + str(sorted(cars)))\n",
        "print(\"\\nHere is the original list again: \" + str(cars))"
      ],
      "metadata": {
        "colab": {
          "base_uri": "https://localhost:8080/"
        },
        "id": "zQZGnrcF1XJE",
        "outputId": "89458f27-11eb-45f4-e855-39a81fcff09f"
      },
      "execution_count": null,
      "outputs": [
        {
          "output_type": "stream",
          "name": "stdout",
          "text": [
            "Here is the original list: ['bmw', 'audi', 'toyota', 'subaru']\n",
            "\n",
            "Here is the sorted list: ['audi', 'bmw', 'subaru', 'toyota']\n",
            "\n",
            "Here is the original list again: ['bmw', 'audi', 'toyota', 'subaru']\n"
          ]
        }
      ]
    },
    {
      "cell_type": "markdown",
      "source": [
        "Observe que a lista preserva sua ordem original, depois que a função `sorted()` foi usada. Essa função também pode aceitar um argumento `reverse=True` se você quiser exibir uma lista em ordem alfabética inversa."
      ],
      "metadata": {
        "id": "go6pr8Sb37DB"
      }
    },
    {
      "cell_type": "markdown",
      "source": [
        "**NOTA:** Ordenar uma lista em ordem alfabética é um pouco mais complicado\n",
        "quando todos **os valores não utilizam letras minúsculas**. Há várias maneiras de interpretar letras maiúsculas quando decidimos por uma sequência de ordenação, e especificar a ordem exata pode apresentar um nível de complexidade maior que aquele com que queremos lidar no momento."
      ],
      "metadata": {
        "id": "nEi4H6qx4CXp"
      }
    },
    {
      "cell_type": "markdown",
      "source": [
        "## Exibindo uma lista em ordem inversa"
      ],
      "metadata": {
        "id": "fSYgkrMC4bBl"
      }
    },
    {
      "cell_type": "markdown",
      "source": [
        "Para inverter a ordem original de uma lista, podemos usar o método `reverse()`."
      ],
      "metadata": {
        "id": "l9CbG0PR4iMX"
      }
    },
    {
      "cell_type": "code",
      "source": [
        "cars = ['bmw', 'audi', 'toyota', 'subaru']\n",
        "print(\"Here is the original list: \" + str(cars))\n",
        "cars.reverse()\n",
        "print(\"\\nHere is the reverse list: \" + str(cars))"
      ],
      "metadata": {
        "colab": {
          "base_uri": "https://localhost:8080/"
        },
        "id": "ep56QyxG4jAz",
        "outputId": "0e210347-9917-43f3-d281-bb66c588e2c2"
      },
      "execution_count": null,
      "outputs": [
        {
          "output_type": "stream",
          "name": "stdout",
          "text": [
            "Here is the original list: ['bmw', 'audi', 'toyota', 'subaru']\n",
            "\n",
            "Here is the reverse list: ['subaru', 'toyota', 'audi', 'bmw']\n"
          ]
        }
      ]
    },
    {
      "cell_type": "markdown",
      "source": [
        "`Observe que reverse() não reorganiza em ordem alfabética inversa; `\n",
        "`ele simplesmente inverte a ordem da lista.`\n",
        "\n",
        "O método `reverse()` muda a ordem de uma lista de forma permanente, mas podemos restaurar a ordem original a qualquer momento aplicando `reverse()` à mesma lista uma segunda vez."
      ],
      "metadata": {
        "id": "aGH0HF4g4jeV"
      }
    },
    {
      "cell_type": "markdown",
      "source": [
        "## Descobrindo o tamanho de uma lista"
      ],
      "metadata": {
        "id": "i5kBdRjs4lP4"
      }
    },
    {
      "cell_type": "markdown",
      "source": [
        "Podemos rapidamente descobrir o tamanho de uma lista usando a função `len()`."
      ],
      "metadata": {
        "id": "kC-HcqpT4m4B"
      }
    },
    {
      "cell_type": "code",
      "source": [
        "cars = ['bmw', 'audi', 'toyota', 'subaru']\n",
        "print('Esse é o tamanho da lista de carros: ' + str(len(cars)))"
      ],
      "metadata": {
        "colab": {
          "base_uri": "https://localhost:8080/"
        },
        "id": "scwsiZtd4pGL",
        "outputId": "56bb44a0-3630-48b1-c87b-4f176c720a9d"
      },
      "execution_count": null,
      "outputs": [
        {
          "output_type": "stream",
          "name": "stdout",
          "text": [
            "Esse é o tamanho da lista de carros: 4\n"
          ]
        }
      ]
    },
    {
      "cell_type": "markdown",
      "source": [
        "## Evitando erros de índice quando trabalhar com listas"
      ],
      "metadata": {
        "id": "nbJwrqF76atN"
      }
    },
    {
      "cell_type": "markdown",
      "source": [
        "Tenha em mente que, sempre que quiser acessar o último item de uma lista, você deve usar o índice `-1`. Isso sempre funcionará, mesmo que sua lista tenha mudado de tamanho desde a última vez que você a acessou:"
      ],
      "metadata": {
        "id": "ffPjnXOl6cNq"
      }
    },
    {
      "cell_type": "code",
      "source": [
        "motorcycles = ['honda', 'yamaha', 'suzuki']\n",
        "print(motorcycles[-1])"
      ],
      "metadata": {
        "colab": {
          "base_uri": "https://localhost:8080/"
        },
        "id": "dd8RYx_W6nCU",
        "outputId": "129b0ee6-8dba-44ce-f537-e9a730a0ec22"
      },
      "execution_count": null,
      "outputs": [
        {
          "output_type": "stream",
          "name": "stdout",
          "text": [
            "suzuki\n"
          ]
        }
      ]
    },
    {
      "cell_type": "markdown",
      "source": [
        "**NOTA:** Se um erro de índice ocorrer e você não consegue descobrir como resolvê-lo, experimente exibir sua lista ou simplesmente mostrar o tamanho dela. Sua lista poderá estar bem diferente do que você imaginou, em especial se ela foi tratada dinamicamente pelo seu programa. Ver a lista propriamente dita ou o número exato de itens que ela contém pode ajudar a entender esses erros de lógica."
      ],
      "metadata": {
        "id": "wb-x4T696veT"
      }
    }
  ]
}