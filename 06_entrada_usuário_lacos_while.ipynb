{
  "nbformat": 4,
  "nbformat_minor": 0,
  "metadata": {
    "colab": {
      "provenance": [],
      "authorship_tag": "ABX9TyOUM9fMCxPfRioPEG3BD+3B"
    },
    "kernelspec": {
      "name": "python3",
      "display_name": "Python 3"
    },
    "language_info": {
      "name": "python"
    }
  },
  "cells": [
    {
      "cell_type": "markdown",
      "source": [
        "## Como a função input() trabalha\n",
        "\n",
        "A função `input()` faz uma pausa em seu programa e espera o usuário fornecer um texto. Depois que Python recebe a entrada do usuário, esse dado é armazenado em uma variável para que você possa trabalhar com ele de forma conveniente."
      ],
      "metadata": {
        "id": "0AY_SFHxYhIm"
      }
    },
    {
      "cell_type": "code",
      "execution_count": 1,
      "metadata": {
        "id": "LF8Nm5pLYakF",
        "colab": {
          "base_uri": "https://localhost:8080/"
        },
        "outputId": "719fa085-7841-460a-b597-fe156b970dd2"
      },
      "outputs": [
        {
          "output_type": "stream",
          "name": "stdout",
          "text": [
            "Tell me something, and I will repeat it back to you: Alex\n",
            "Alex\n"
          ]
        }
      ],
      "source": [
        "message = input(\"Tell me something, and I will repeat it back to you: \")\n",
        "print(message)"
      ]
    },
    {
      "cell_type": "markdown",
      "source": [
        "## Escrevendo prompts claros\n",
        "\n",
        "Sempre que usar a função input(), inclua um prompt claro, fácil de compreender, que informe o usuário exatamente que tipo de informação você procura. Qualquer frase que diga aos usuários o que eles devem fornecer será apropriada."
      ],
      "metadata": {
        "id": "seujNGVkYgjX"
      }
    },
    {
      "cell_type": "code",
      "source": [
        "name = input(\"Please enter your name: \")\n",
        "print(\"Hello, \" + name + \"!\")"
      ],
      "metadata": {
        "id": "byDof4TfYhsv",
        "colab": {
          "base_uri": "https://localhost:8080/"
        },
        "outputId": "e9922c2f-26e9-4ea2-fd1a-c50f76213cbb"
      },
      "execution_count": 2,
      "outputs": [
        {
          "output_type": "stream",
          "name": "stdout",
          "text": [
            "Please enter your name: Alex\n",
            "Hello, Alex!\n"
          ]
        }
      ]
    },
    {
      "cell_type": "markdown",
      "source": [
        "## Usando int() para aceitar entradas numéricas\n",
        "\n",
        "Se usarmos a função `input()`, Python interpretará tudo que o usuário fornecer como uma `string`.\n",
        "\n",
        "Entretanto, se tentar usar a entrada como um número, você obterá um erro:"
      ],
      "metadata": {
        "id": "DdFeqV0pqWSc"
      }
    },
    {
      "cell_type": "code",
      "source": [
        "age = input(\"How old are you? \")\n",
        "age >= 18"
      ],
      "metadata": {
        "colab": {
          "base_uri": "https://localhost:8080/",
          "height": 210
        },
        "id": "55cv0dSPqWtX",
        "outputId": "c34bf543-0fe4-4d21-9fe5-d37bedeb4aca"
      },
      "execution_count": 3,
      "outputs": [
        {
          "name": "stdout",
          "output_type": "stream",
          "text": [
            "How old are you? 21\n"
          ]
        },
        {
          "output_type": "error",
          "ename": "TypeError",
          "evalue": "'>=' not supported between instances of 'str' and 'int'",
          "traceback": [
            "\u001b[0;31m---------------------------------------------------------------------------\u001b[0m",
            "\u001b[0;31mTypeError\u001b[0m                                 Traceback (most recent call last)",
            "\u001b[0;32m<ipython-input-3-677716768126>\u001b[0m in \u001b[0;36m<cell line: 2>\u001b[0;34m()\u001b[0m\n\u001b[1;32m      1\u001b[0m \u001b[0mage\u001b[0m \u001b[0;34m=\u001b[0m \u001b[0minput\u001b[0m\u001b[0;34m(\u001b[0m\u001b[0;34m\"How old are you? \"\u001b[0m\u001b[0;34m)\u001b[0m\u001b[0;34m\u001b[0m\u001b[0;34m\u001b[0m\u001b[0m\n\u001b[0;32m----> 2\u001b[0;31m \u001b[0mage\u001b[0m \u001b[0;34m>=\u001b[0m \u001b[0;36m18\u001b[0m\u001b[0;34m\u001b[0m\u001b[0;34m\u001b[0m\u001b[0m\n\u001b[0m",
            "\u001b[0;31mTypeError\u001b[0m: '>=' not supported between instances of 'str' and 'int'"
          ]
        }
      ]
    },
    {
      "cell_type": "markdown",
      "source": [
        "Podemos resolver esse problema usando a função `int()`, que diz a Python para tratar a entrada como um valor numérico. A função `int()` converte a representação em string de um número em uma representação numérica, como vemos a seguir:"
      ],
      "metadata": {
        "id": "7AfV071IqXSO"
      }
    },
    {
      "cell_type": "code",
      "source": [
        "age = int(input(\"How old are you? \"))\n",
        "age >= 18"
      ],
      "metadata": {
        "colab": {
          "base_uri": "https://localhost:8080/"
        },
        "id": "DsShNc5rqXv-",
        "outputId": "a2a17b31-156f-4042-f69f-d5cd30e4d010"
      },
      "execution_count": 4,
      "outputs": [
        {
          "name": "stdout",
          "output_type": "stream",
          "text": [
            "How old are you? 21\n"
          ]
        },
        {
          "output_type": "execute_result",
          "data": {
            "text/plain": [
              "True"
            ]
          },
          "metadata": {},
          "execution_count": 4
        }
      ]
    },
    {
      "cell_type": "markdown",
      "source": [
        "## Operador de módulo\n",
        "\n",
        "Uma ferramenta útil para trabalhar com informações numéricas é o *operador de módulo* (%), que divide um número por outro e devolve o resto:"
      ],
      "metadata": {
        "id": "DxjmzKjXzzwH"
      }
    },
    {
      "cell_type": "code",
      "source": [
        "print(4 % 3)\n",
        "print(5 % 3)\n",
        "print(6 % 3)\n",
        "print(7 % 3)"
      ],
      "metadata": {
        "colab": {
          "base_uri": "https://localhost:8080/"
        },
        "id": "HzUc8jDJz0Nz",
        "outputId": "aa11ea34-dde0-4ce0-8f85-2403d2e06a46"
      },
      "execution_count": 7,
      "outputs": [
        {
          "output_type": "stream",
          "name": "stdout",
          "text": [
            "1\n",
            "2\n",
            "0\n",
            "1\n"
          ]
        }
      ]
    },
    {
      "cell_type": "markdown",
      "source": [
        "O operador de módulo não diz quantas vezes um número cabe em outro; ele simplesmente informa o resto.\n",
        "Quando um número é divisível por outro, o resto é 0, portanto o operador de módulo sempre devolve 0 nesse caso."
      ],
      "metadata": {
        "id": "EDHL9oLwz02e"
      }
    },
    {
      "cell_type": "code",
      "source": [
        "number = int(input(\"Enter a number, and I'll tell you if it's even or odd: \"))\n",
        "\n",
        "if number % 2 == 0:\n",
        "  print(\"\\nThe number \" + str(number) + \" is even.\")\n",
        "else:\n",
        "  print(\"\\nThe number \" + str(number) + \" is odd.\")"
      ],
      "metadata": {
        "colab": {
          "base_uri": "https://localhost:8080/"
        },
        "id": "g4TM3dATz1Tn",
        "outputId": "b9f63105-f3ea-487c-b9df-f623c051bb9d"
      },
      "execution_count": 8,
      "outputs": [
        {
          "output_type": "stream",
          "name": "stdout",
          "text": [
            "Enter a number, and I'll tell you if it's even or odd: 30\n",
            "\n",
            "The number 30 is even.\n"
          ]
        }
      ]
    },
    {
      "cell_type": "markdown",
      "source": [
        "## Laço while em ação\n",
        "\n",
        "Os programas que você usa no dia a dia provavelmente contêm laços `while`. Por exemplo, um jogo precisa de um laço `while` para continuar executando enquanto você quiser jogar, e pode parar de executar assim que você pedir para sair. Os programas não seriam divertidos se parassem de executar antes que lhes disséssemos para parar ou se continuassem executando mesmo depois que quiséssemos sair, portanto os laços while são bem úteis."
      ],
      "metadata": {
        "id": "vtm1iHUc2iRW"
      }
    },
    {
      "cell_type": "code",
      "source": [
        "current_number = 1\n",
        "\n",
        "while current_number <= 5:\n",
        "  print(current_number)\n",
        "  current_number += 1"
      ],
      "metadata": {
        "colab": {
          "base_uri": "https://localhost:8080/"
        },
        "id": "bj6-Jl0T2itD",
        "outputId": "64928cba-f6e9-4d23-fdd1-b9a679e6bd76"
      },
      "execution_count": 10,
      "outputs": [
        {
          "output_type": "stream",
          "name": "stdout",
          "text": [
            "1\n",
            "2\n",
            "3\n",
            "4\n",
            "5\n"
          ]
        }
      ]
    },
    {
      "cell_type": "markdown",
      "source": [
        "## Deixando o usuário decidir quando quer sair\n",
        "\n"
      ],
      "metadata": {
        "id": "iKukWRXI2jQZ"
      }
    },
    {
      "cell_type": "code",
      "source": [
        "prompt = \"\\nTell me something, and I will repeat it back to you:\"\n",
        "prompt += \"\\nEnter 'quit' to end the program. \"\n",
        "\n",
        "message = \"\"\n",
        "while message != 'quit':\n",
        "  message = input(prompt)\n",
        "  print(message)"
      ],
      "metadata": {
        "colab": {
          "base_uri": "https://localhost:8080/"
        },
        "id": "4RQn-kjO2jxl",
        "outputId": "b6af042e-4d53-45f2-8da0-74421af0bf31"
      },
      "execution_count": 11,
      "outputs": [
        {
          "output_type": "stream",
          "name": "stdout",
          "text": [
            "\n",
            "Tell me something, and I will repeat it back to you:\n",
            "Enter 'quit' to end the program. Alex\n",
            "Alex\n",
            "\n",
            "Tell me something, and I will repeat it back to you:\n",
            "Enter 'quit' to end the program. Alba\n",
            "Alba\n",
            "\n",
            "Tell me something, and I will repeat it back to you:\n",
            "Enter 'quit' to end the program. Pedro Henrique\n",
            "Pedro Henrique\n",
            "\n",
            "Tell me something, and I will repeat it back to you:\n",
            "Enter 'quit' to end the program. quit\n",
            "quit\n"
          ]
        }
      ]
    },
    {
      "cell_type": "markdown",
      "source": [
        "## Usando uma flag\n",
        "\n",
        "No exemplo anterior, tínhamos um programa que executava determinadas tarefas enquanto uma dada condição era verdadeira. E como ficaria em programas mais complicados, em que muitos eventos diferentes poderiam fazer o programa parar de executar?\n",
        "\n",
        "Para um programa que deva executar somente enquanto muitas condições forem verdadeiras, podemos definir uma variável que determina se o programa como um todo deve estar ativo. Essa variável, chamada de ***flag***, atua como um sinal para o programa. Podemos escrever nossos programas de modo que executem enquanto a flag estiver definida com `True` e parem de executar quando qualquer um dos\n",
        "vários eventos definir o valor da flag com `False`.\n",
        "\n",
        "Como resultado, nossa instrução `while` geral precisa verificar apenas uma condição: se a flag, no momento, é `True`. Então todos os nossos demais testes (para ver se um evento que deve definir a flag com `False` ocorreu) podem estar bem organizados no restante do programa."
      ],
      "metadata": {
        "id": "Z0FuM7ON2kRb"
      }
    },
    {
      "cell_type": "code",
      "source": [
        "prompt = \"\\nTell me something, and I will repeat it back to you:\"\n",
        "prompt += \"\\nEnter 'quit' to end the program. \"\n",
        "\n",
        "active = True\n",
        "\n",
        "while active:\n",
        "  message = input(prompt)\n",
        "  if message == 'quit':\n",
        "    active = False\n",
        "  else:\n",
        "    print(message)"
      ],
      "metadata": {
        "colab": {
          "base_uri": "https://localhost:8080/"
        },
        "id": "eDG8DbEN2kwj",
        "outputId": "90eeda15-8208-413d-acae-ba4a11bd50d1"
      },
      "execution_count": 12,
      "outputs": [
        {
          "name": "stdout",
          "output_type": "stream",
          "text": [
            "\n",
            "Tell me something, and I will repeat it back to you:\n",
            "Enter 'quit' to end the program. Hello\n",
            "Hello\n",
            "\n",
            "Tell me something, and I will repeat it back to you:\n",
            "Enter 'quit' to end the program. Ola\n",
            "Ola\n",
            "\n",
            "Tell me something, and I will repeat it back to you:\n",
            "Enter 'quit' to end the program. Oi\n",
            "Oi\n",
            "\n",
            "Tell me something, and I will repeat it back to you:\n",
            "Enter 'quit' to end the program. Hi\n",
            "Hi\n",
            "\n",
            "Tell me something, and I will repeat it back to you:\n",
            "Enter 'quit' to end the program. quit\n"
          ]
        }
      ]
    },
    {
      "cell_type": "markdown",
      "source": [
        "## Usando break para sair de um laço\n",
        "\n",
        "Para sair de um laço `while` de imediato, sem executar qualquer código restante no laço, independentemente do resultado de qualquer teste condicional, utilize a instrução `break`.\n",
        "\n",
        "A instrução `break` direciona o fluxo de seu programa; podemos usá-la para controlar quais linhas de código são ou não são executadas, de modo que o programa execute apenas o código que você quiser, quando você quiser."
      ],
      "metadata": {
        "id": "nwNF40tZ4NPi"
      }
    },
    {
      "cell_type": "code",
      "source": [
        "prompt = \"\\nPlease enter the name of a city you have visited:\"\n",
        "prompt += \"\\n(Enter 'quit' when you are finished.) \"\n",
        "\n",
        "while True:\n",
        "  city = input(prompt)\n",
        "  if city == 'quit':\n",
        "    break\n",
        "  else:\n",
        "    print(\"I'd love to go to \" + city.title() + \"!\")"
      ],
      "metadata": {
        "colab": {
          "base_uri": "https://localhost:8080/"
        },
        "id": "nSGNMJKJ4Nn9",
        "outputId": "3a443fdc-a41b-4fe2-b0f9-85062c813ce2"
      },
      "execution_count": 13,
      "outputs": [
        {
          "name": "stdout",
          "output_type": "stream",
          "text": [
            "\n",
            "Please enter the name of a city you have visited:\n",
            "(Enter 'quit' when you are finished.) São Paulo\n",
            "I'd love to go to São Paulo!\n",
            "\n",
            "Please enter the name of a city you have visited:\n",
            "(Enter 'quit' when you are finished.) Bahia\n",
            "I'd love to go to Bahia!\n",
            "\n",
            "Please enter the name of a city you have visited:\n",
            "(Enter 'quit' when you are finished.) quit\n"
          ]
        }
      ]
    },
    {
      "cell_type": "markdown",
      "source": [
        "## Usando continue em um laço\n",
        "\n",
        "Em vez de sair totalmente de um laço sem executar o restante de seu código, podemos usar a instrução continue para retornar ao início, com base no resultado de um teste condicional."
      ],
      "metadata": {
        "id": "j718LpVT4N8M"
      }
    },
    {
      "cell_type": "code",
      "source": [
        "current_number = 0\n",
        "\n",
        "while current_number < 10:\n",
        "  current_number += 1\n",
        "  if current_number % 2 == 0:\n",
        "    continue\n",
        "  print(current_number)"
      ],
      "metadata": {
        "colab": {
          "base_uri": "https://localhost:8080/"
        },
        "id": "ufRP42bX4OQv",
        "outputId": "8b36d139-ba48-4a2b-e092-0804042ca823"
      },
      "execution_count": 16,
      "outputs": [
        {
          "output_type": "stream",
          "name": "stdout",
          "text": [
            "1\n",
            "3\n",
            "5\n",
            "7\n",
            "9\n"
          ]
        }
      ]
    },
    {
      "cell_type": "markdown",
      "source": [
        "## Evitando loops infinitos\n",
        "\n",
        "Todo laço `while` precisa de uma maneira de interromper a execução para que não continue executando indefinidamente.\n",
        "\n",
        "Para evitar escrever loops infinitos, teste todos os laços `while` e certifique-se de que eles serão encerrados conforme esperado. Se quiser que seu programa termine quando o usuário fornecer determinado valor de entrada, execute o programa e forneça esse valor. Se o programa não terminar, analise cuidadosamente o modo como seu programa trata o valor que deveria fazer o laço parar. Garanta que pelo menos uma parte do programa possa fazer a condição do laço ser `False` ou fazer uma instrução `break` ser alcançada."
      ],
      "metadata": {
        "id": "0PmfHput6_SW"
      }
    },
    {
      "cell_type": "markdown",
      "source": [
        "## Usando um laço while com listas e dicionários\n",
        "\n",
        "Um laço `for` é eficiente para percorrer uma lista, mas você não deve modificar uma lista em um laço `for`, pois Python terá problemas para manter o controle dos itens da lista. Para modificar uma lista enquanto trabalhar com ela, utilize um laço `while`. Usar laços `while` com listas e dicionários permite coletar, armazenar e organizar muitas entradas a fim de analisá-las e apresentá-las posteriormente."
      ],
      "metadata": {
        "id": "1obnG5lU760T"
      }
    },
    {
      "cell_type": "markdown",
      "source": [
        "## Transferindo itens de uma lista para outra\n"
      ],
      "metadata": {
        "id": "cSIno72l8Y1K"
      }
    },
    {
      "cell_type": "code",
      "source": [
        "# Começa com os usuários que precisam ser verificados,\n",
        "# e com uma lista vazia para armazenar os usuários confirmados\n",
        "unconfirmed_users = ['alice', 'brian', 'candace']\n",
        "confirmed_users = []\n",
        "\n",
        "# Verifica cada usuário até que não haja mais usuários não confirmados\n",
        "# Transfere cada usuário verificado para a lista de usuários confirmados\n",
        "while unconfirmed_users:\n",
        "  current_user = unconfirmed_users.pop()\n",
        "  print(\"Verifying user: \" + current_user.title())\n",
        "  confirmed_users.append(current_user)\n",
        "\n",
        "# Exibe todos os usuários confirmados\n",
        "print(\"\\nThe following users have been confirmed:\")\n",
        "for confirmed_user in confirmed_users:\n",
        "  print(confirmed_user.title())"
      ],
      "metadata": {
        "colab": {
          "base_uri": "https://localhost:8080/"
        },
        "id": "iFjuBp9o6_w5",
        "outputId": "b556261e-06af-465a-8ff3-a87393c4434f"
      },
      "execution_count": 17,
      "outputs": [
        {
          "output_type": "stream",
          "name": "stdout",
          "text": [
            "Verifying user: Candace\n",
            "Verifying user: Brian\n",
            "Verifying user: Alice\n",
            "\n",
            "The following users have been confirmed:\n",
            "Candace\n",
            "Brian\n",
            "Alice\n"
          ]
        }
      ]
    },
    {
      "cell_type": "markdown",
      "source": [
        "## Removendo todas as instâncias de valores específicos de uma lista\n",
        "\n",
        "Aprendemos a usar `remove()` para remover um valor específico de uma lista. A função `remove()` era apropriada porque o valor em que estávamos interessados aparecia apenas uma vez na lista. Porém, e se quiséssemos remover da lista todas as instâncias de um valor?\n",
        "\n"
      ],
      "metadata": {
        "id": "xPDJ7SZs7AXI"
      }
    },
    {
      "cell_type": "code",
      "source": [
        "pets = ['dog', 'cat', 'dog', 'goldfish', 'cat', 'rabbit', 'cat']\n",
        "print(pets)\n",
        "\n",
        "while 'cat' in pets:\n",
        "  pets.remove('cat')\n",
        "\n",
        "print(pets)"
      ],
      "metadata": {
        "colab": {
          "base_uri": "https://localhost:8080/"
        },
        "id": "VRY_XDs77Art",
        "outputId": "c0e453e7-d4e2-47c7-99f7-65081610267a"
      },
      "execution_count": 18,
      "outputs": [
        {
          "output_type": "stream",
          "name": "stdout",
          "text": [
            "['dog', 'cat', 'dog', 'goldfish', 'cat', 'rabbit', 'cat']\n",
            "['dog', 'dog', 'goldfish', 'rabbit']\n"
          ]
        }
      ]
    },
    {
      "cell_type": "markdown",
      "source": [
        "## Preenchendo um dicionário com dados de entrada do usuário\n",
        "\n"
      ],
      "metadata": {
        "id": "0r6-eHSf9ldL"
      }
    },
    {
      "cell_type": "code",
      "source": [
        "responses = {}\n",
        "\n",
        "# Define uma flag para indicar que a enquete está ativa\n",
        "polling_active = True\n",
        "\n",
        "while polling_active:\n",
        "  # Pede o nome da pessoa e a resposta\n",
        "  name = input(\"\\nWhat is your name? \")\n",
        "  response = input(\"Which mountain would you like to climb someday? \")\n",
        "\n",
        "  # Armazena a resposta no dicionário\n",
        "  responses[name] = response\n",
        "\n",
        "  # Descobre se outra pessoa vai responder à enquete\n",
        "  repeat = input(\"Would you like to let another person respond? (yes/ no) \")\n",
        "\n",
        "  if repeat == 'no':\n",
        "    polling_active = False\n",
        "\n",
        "# A enquete foi concluída. Mostra os resultados\n",
        "print(\"\\n--- Poll Results---\")\n",
        "\n",
        "for name, response in responses.items():\n",
        "  print(name + \" would like to climb \" + response + \".\")\n",
        "\n",
        "print(\"\\n--- Imprimindo o dicionário---\")\n",
        "print(responses)"
      ],
      "metadata": {
        "colab": {
          "base_uri": "https://localhost:8080/"
        },
        "id": "3lZiA_Vy9mIN",
        "outputId": "24d4ac4a-7a5b-4794-f089-8c5759ad0eff"
      },
      "execution_count": 25,
      "outputs": [
        {
          "output_type": "stream",
          "name": "stdout",
          "text": [
            "\n",
            "What is your name? Alex\n",
            "Which mountain would you like to climb someday? Morro do Samurai\n",
            "Would you like to let another person respond? (yes/ no) yes\n",
            "\n",
            "What is your name? Bingo\n",
            "Which mountain would you like to climb someday? Morro do Sanduba\n",
            "Would you like to let another person respond? (yes/ no) y\n",
            "\n",
            "What is your name? Manguso\n",
            "Which mountain would you like to climb someday? Morro do Hermano\n",
            "Would you like to let another person respond? (yes/ no) ues\n",
            "\n",
            "What is your name? Julian Genaro\n",
            "Which mountain would you like to climb someday? Morro do Cravo na Rosa\n",
            "Would you like to let another person respond? (yes/ no) s\n",
            "\n",
            "What is your name? Julimara\n",
            "Which mountain would you like to climb someday? Morro das Maravilhas das Julipiras\n",
            "Would you like to let another person respond? (yes/ no) no\n",
            "\n",
            "--- Poll Results---\n",
            "Alex would like to climb Morro do Samurai.\n",
            "Bingo would like to climb Morro do Sanduba.\n",
            "Manguso would like to climb Morro do Hermano.\n",
            "Julian Genaro would like to climb Morro do Cravo na Rosa.\n",
            "Julimara would like to climb Morro das Maravilhas das Julipiras.\n",
            "\n",
            "--- Imprimindo o dicionário---\n",
            "{'Alex': 'Morro do Samurai', 'Bingo': 'Morro do Sanduba', 'Manguso': 'Morro do Hermano', 'Julian Genaro': 'Morro do Cravo na Rosa', 'Julimara': 'Morro das Maravilhas das Julipiras'}\n"
          ]
        }
      ]
    }
  ]
}