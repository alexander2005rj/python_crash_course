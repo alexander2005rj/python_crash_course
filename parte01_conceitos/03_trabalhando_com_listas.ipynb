{
  "nbformat": 4,
  "nbformat_minor": 0,
  "metadata": {
    "colab": {
      "provenance": [],
      "authorship_tag": "ABX9TyNPIj/D+o36GZh6ex5EN497"
    },
    "kernelspec": {
      "name": "python3",
      "display_name": "Python 3"
    },
    "language_info": {
      "name": "python"
    }
  },
  "cells": [
    {
      "cell_type": "markdown",
      "source": [
        "# Percorrendo uma lista inteira com um laço\n",
        "\n"
      ],
      "metadata": {
        "id": "0AY_SFHxYhIm"
      }
    },
    {
      "cell_type": "markdown",
      "source": [
        "Quando quiser executar a mesma ação em todos os itens de uma lista,\n",
        "você pode usar o laço `for` de Python.\n",
        "\n",
        "Um laço for evita problemas ao permitir que Python administre essas questões\n",
        "internamente. Vamos usar um laço for para exibir cada um dos nomes de uma lista\n",
        "de mágicos:"
      ],
      "metadata": {
        "id": "g-2yrKw97avM"
      }
    },
    {
      "cell_type": "code",
      "execution_count": null,
      "metadata": {
        "id": "LF8Nm5pLYakF",
        "colab": {
          "base_uri": "https://localhost:8080/"
        },
        "outputId": "2a483242-6795-4823-88c2-8ec2966f434a"
      },
      "outputs": [
        {
          "output_type": "stream",
          "name": "stdout",
          "text": [
            "alice\n",
            "david\n",
            "carolina\n"
          ]
        }
      ],
      "source": [
        "magicians = ['alice', 'david', 'carolina']\n",
        "for magician in magicians:\n",
        "  print(magician)"
      ]
    },
    {
      "cell_type": "markdown",
      "source": [
        "## Observando os laços com mais detalhes"
      ],
      "metadata": {
        "id": "seujNGVkYgjX"
      }
    },
    {
      "cell_type": "markdown",
      "source": [
        "Quando usar laços pela primeira vez, tenha em mente que o conjunto de passos será repetido, uma vez para cada item da lista, não importa quantos itens haja na lista. Se você tiver um milhão de itens em sua lista, Python repetirá esses passos um milhão de vezes – e geralmente o fará bem rápido.\n",
        "\n",
        "Tenha em mente também que quando escrever seus próprios laços for, você poderá escolher qualquer nome que quiser para a variável temporária que armazena cada valor da lista. No entanto, é conveniente escolher um nome significativo, que represente um único item da lista.\n",
        "\n",
        "Por exemplo, eis uma boa maneira de iniciar um laço for para uma lista\n",
        "de gatos, uma lista de cachorros e uma lista genérica de itens:\n",
        "* `for cat in cats: `\n",
        "* `for dog in dogs: `\n",
        "* `for item in list_of_items: `\n",
        "\n",
        "Essas convenções de nomenclatura podem ajudar você a acompanhar a ação executada em cada item em um laço for. O uso de nomes no singular e no plural pode ajudar a identificar se a seção de código atua em um único elemento da\n",
        "lista ou em toda a lista."
      ],
      "metadata": {
        "id": "9-eQayRo9xkG"
      }
    },
    {
      "cell_type": "markdown",
      "source": [
        "## Executando mais tarefas em um laço for"
      ],
      "metadata": {
        "id": "FTJbXAZT-nFQ"
      }
    },
    {
      "cell_type": "markdown",
      "source": [
        "Também podemos escrever tantas linhas de código quantas quisermos no laço for. Considera-se que toda linha indentada após a linha `for magician in magicians` está dentro do laço, e cada linha indentada é executada uma vez para cada valor da lista. Assim, você pode executar o volume de trabalho que quiser com cada valor da lista."
      ],
      "metadata": {
        "id": "No8Uat6xIvO0"
      }
    },
    {
      "cell_type": "code",
      "source": [
        "magicians = ['alice', 'david', 'carolina']\n",
        "for magician in magicians:\n",
        "  print(magician.title() + \", that was a great trick!\")\n",
        "  print(\"I can't wait to see your next trick, \" + magician.title() + \".\\n\")"
      ],
      "metadata": {
        "id": "byDof4TfYhsv",
        "colab": {
          "base_uri": "https://localhost:8080/"
        },
        "outputId": "a69430e4-9f0d-4048-e50d-08facc99f3d5"
      },
      "execution_count": null,
      "outputs": [
        {
          "output_type": "stream",
          "name": "stdout",
          "text": [
            "Alice, that was a great trick!\n",
            "I can't wait to see your next trick, Alice.\n",
            "\n",
            "David, that was a great trick!\n",
            "I can't wait to see your next trick, David.\n",
            "\n",
            "Carolina, that was a great trick!\n",
            "I can't wait to see your next trick, Carolina.\n",
            "\n"
          ]
        }
      ]
    },
    {
      "cell_type": "markdown",
      "source": [
        "## Fazendo algo após um laço for"
      ],
      "metadata": {
        "id": "bj_l3DdCJK5R"
      }
    },
    {
      "cell_type": "code",
      "source": [
        "magicians = ['alice', 'david', 'carolina']\n",
        "\n",
        "for magician in magicians:\n",
        "  print(magician.title() + \", that was a great trick!\")\n",
        "  print(\"I can't wait to see your next trick, \" + magician.title() + \".\\n\")\n",
        "\n",
        "print(\"Thank you, everyone. That was a great magic show!\")"
      ],
      "metadata": {
        "colab": {
          "base_uri": "https://localhost:8080/"
        },
        "id": "a2ZBp5KPJWvx",
        "outputId": "4aae331d-4e99-4cd5-b66e-866ef5caabc2"
      },
      "execution_count": null,
      "outputs": [
        {
          "output_type": "stream",
          "name": "stdout",
          "text": [
            "Alice, that was a great trick!\n",
            "I can't wait to see your next trick, Alice.\n",
            "\n",
            "David, that was a great trick!\n",
            "I can't wait to see your next trick, David.\n",
            "\n",
            "Carolina, that was a great trick!\n",
            "I can't wait to see your next trick, Carolina.\n",
            "\n",
            "Thank you, everyone. That was a great magic show!\n"
          ]
        }
      ]
    },
    {
      "cell_type": "markdown",
      "source": [
        "## Evitando erros de indentação"
      ],
      "metadata": {
        "id": "O9MhTE4kJMXR"
      }
    },
    {
      "cell_type": "markdown",
      "source": [
        "O uso de indentação por Python deixa o código bem fácil de ler. Basicamente, Python usa espaços em branco para forçar você a escrever um código formatado de modo organizado, com uma estrutura visual clara. Em programas Python mais longos, você perceberá que há blocos de código indentados em alguns níveis\n",
        "diferentes. Esses níveis de indentação ajudam a ter uma noção geral da\n",
        "organização do programa como um todo.\n",
        "\n",
        "Vamos analisar alguns dos erros mais comuns de indentação.\n",
        "* `Esquecendo-se de indentar`\n",
        "* `Esquecendo-se de indentar linhas adicionais`\n",
        "* `Indentando desnecessariamente`\n",
        "* `Indentando desnecessariamente após o laço`\n",
        "* `Esquecendo os dois-pontos no final de uma instrução for`\n"
      ],
      "metadata": {
        "id": "I1gHYTEyJkAJ"
      }
    },
    {
      "cell_type": "markdown",
      "source": [
        "## Criando listas numéricas"
      ],
      "metadata": {
        "id": "kd2gQeHVLkqo"
      }
    },
    {
      "cell_type": "markdown",
      "source": [
        "As listas são ideais para armazenar conjuntos de números, e Python oferece várias ferramentas para ajudar você a trabalhar com listas de números de forma eficiente."
      ],
      "metadata": {
        "id": "y1L2oqcTLkXg"
      }
    },
    {
      "cell_type": "markdown",
      "source": [
        "## Usando a função range()"
      ],
      "metadata": {
        "id": "O3v2YDhxLouk"
      }
    },
    {
      "cell_type": "markdown",
      "source": [
        "A função `range()` faz Python começar a contar no primeiro valor que você lhe fornecer e parar quando atingir o segundo valor especificado. Como ele para nesse segundo valor, a saída não conterá o valor final nesse caso."
      ],
      "metadata": {
        "id": "UUmRLjTILskA"
      }
    },
    {
      "cell_type": "code",
      "source": [
        "for value in range(1,5):\n",
        "  print(value)"
      ],
      "metadata": {
        "colab": {
          "base_uri": "https://localhost:8080/"
        },
        "id": "TRjRBDXqLtVx",
        "outputId": "0aea6d11-ee7b-48c9-cda2-7d2ec2d05a19"
      },
      "execution_count": null,
      "outputs": [
        {
          "output_type": "stream",
          "name": "stdout",
          "text": [
            "1\n",
            "2\n",
            "3\n",
            "4\n"
          ]
        }
      ]
    },
    {
      "cell_type": "markdown",
      "source": [
        "## Usando range() para criar uma lista de números"
      ],
      "metadata": {
        "id": "DhHVsgg8MrYX"
      }
    },
    {
      "cell_type": "markdown",
      "source": [
        "Se quiser criar uma lista de números, você pode converter os resultados de `range()` diretamente em uma lista usando a função `list()`. Quando colocamos `list()` em torno de uma chamada à função `range()`, a saída será uma lista de números.\n"
      ],
      "metadata": {
        "id": "5pps1iMXMxw6"
      }
    },
    {
      "cell_type": "code",
      "source": [
        "numbers = list(range(1,6))\n",
        "print(numbers)"
      ],
      "metadata": {
        "colab": {
          "base_uri": "https://localhost:8080/"
        },
        "id": "hR4Vusx4NO4v",
        "outputId": "57593ce2-12c7-487c-9a77-c931e0dc0ef6"
      },
      "execution_count": null,
      "outputs": [
        {
          "output_type": "stream",
          "name": "stdout",
          "text": [
            "[1, 2, 3, 4, 5]\n"
          ]
        }
      ]
    },
    {
      "cell_type": "markdown",
      "source": [
        "Também podemos usar a função `range()` para dizer a Python que ignore alguns números em um dado intervalo."
      ],
      "metadata": {
        "id": "XjmAw8jcNPPd"
      }
    },
    {
      "cell_type": "code",
      "source": [
        "even_numbers = list(range(2,11,2))\n",
        "print(even_numbers)"
      ],
      "metadata": {
        "colab": {
          "base_uri": "https://localhost:8080/"
        },
        "id": "O2ldMC7aNYGz",
        "outputId": "12702b40-5c50-49f7-b5f4-73dd873352ed"
      },
      "execution_count": null,
      "outputs": [
        {
          "output_type": "stream",
          "name": "stdout",
          "text": [
            "[2, 4, 6, 8, 10]\n"
          ]
        }
      ]
    },
    {
      "cell_type": "markdown",
      "source": [
        "Nesse exemplo, a função `range()` começa com o valor 2 e então soma 2 a esse valor. O valor 2 é somado repetidamente até o valor final, que é 11, ser alcançado ou ultrapassado, e o resultado a seguir é gerado: `[2, 4, 6, 8, 10]`"
      ],
      "metadata": {
        "id": "kBO70GLhN8E7"
      }
    },
    {
      "cell_type": "markdown",
      "source": [
        "Podemos criar praticamente qualquer conjunto de números que quisermos com a função `range()`. Por exemplo, considere como criaríamos uma lista dos dez primeiros quadrados perfeitos (isto é, o quadrado de cada inteiro de 1 a 10). Em Python, dois asteriscos `(**)` representam exponenciais. Eis o modo como podemos colocar os dez primeiros quadrados perfeitos em uma lista:"
      ],
      "metadata": {
        "id": "E3nl2mPdNYgW"
      }
    },
    {
      "cell_type": "code",
      "source": [
        "squares = []\n",
        "\n",
        "for value in range(1,11):\n",
        "  squares.append(value**2)\n",
        "\n",
        "print(squares)"
      ],
      "metadata": {
        "colab": {
          "base_uri": "https://localhost:8080/"
        },
        "id": "nvyr8CTaNvLk",
        "outputId": "cf5d0357-19db-40f9-bc7d-364a08972c1f"
      },
      "execution_count": null,
      "outputs": [
        {
          "output_type": "stream",
          "name": "stdout",
          "text": [
            "[1, 4, 9, 16, 25, 36, 49, 64, 81, 100]\n"
          ]
        }
      ]
    },
    {
      "cell_type": "markdown",
      "source": [
        "# Estatísticas simples com uma lista de números"
      ],
      "metadata": {
        "id": "WAyK6osjOmts"
      }
    },
    {
      "cell_type": "markdown",
      "source": [
        "Algumas funções Python são específicas para listas de números. Por exemplo, podemos encontrar facilmente o valor mínimo, o valor máximo e a soma de uma lista de números:"
      ],
      "metadata": {
        "id": "kkAClw4BOoDF"
      }
    },
    {
      "cell_type": "code",
      "source": [
        "digits = [1, 2, 3, 4, 5, 6, 7, 8, 9, 0]\n",
        "print(min(digits))\n",
        "print(max(digits))\n",
        "print(sum(digits))"
      ],
      "metadata": {
        "colab": {
          "base_uri": "https://localhost:8080/"
        },
        "id": "fdq5CnOaOxNU",
        "outputId": "a661f087-b2df-49b6-ee54-ee9c46c6922f"
      },
      "execution_count": null,
      "outputs": [
        {
          "output_type": "stream",
          "name": "stdout",
          "text": [
            "0\n",
            "9\n",
            "45\n"
          ]
        }
      ]
    },
    {
      "cell_type": "markdown",
      "source": [
        "\n",
        "\n",
        "---\n",
        "\n"
      ],
      "metadata": {
        "id": "F9SHfv3Hdmf3"
      }
    },
    {
      "cell_type": "markdown",
      "source": [
        "## List comprehensions"
      ],
      "metadata": {
        "id": "Tv1Y7urjOzq_"
      }
    },
    {
      "cell_type": "markdown",
      "source": [
        "Uma `list comprehension` (abrangência de lista) permite gerar essa mesma lista com apenas uma linha de código. Uma list comprehension **combina o laço for e a criação de novos elementos em uma linha, e concatena cada novo elemento automaticamente.** As list comprehensions nem sempre são apresentadas aos iniciantes, mas eu as incluí aqui porque é bem provável que você as veja assim que começar a analisar códigos de outras pessoas.\n",
        "\n",
        "O exemplo a seguir cria a mesma lista de quadrados perfeitos que\n",
        "vimos antes, porém utiliza uma list comprehension:"
      ],
      "metadata": {
        "id": "XwFhwrdqO1bL"
      }
    },
    {
      "cell_type": "code",
      "source": [
        "squares = [value**2 for value in range(1,11)]\n",
        "print(squares)"
      ],
      "metadata": {
        "colab": {
          "base_uri": "https://localhost:8080/"
        },
        "id": "EZ0OvdUAO15E",
        "outputId": "b90be902-ac2b-4fb3-893b-c87f61a4201e"
      },
      "execution_count": null,
      "outputs": [
        {
          "output_type": "stream",
          "name": "stdout",
          "text": [
            "[1, 4, 9, 16, 25, 36, 49, 64, 81, 100]\n"
          ]
        }
      ]
    },
    {
      "cell_type": "markdown",
      "source": [
        "`Para usar essa sintaxe, comece com um nome descritivo para a lista, por exemplo, squares. Em seguida, insira um colchete de abertura e defina a expressão para os valores que você quer armazenar na nova lista. Nesse exemplo, a expressão é value**2, que eleva o valor ao quadrado. Então escreva um laço for para gerar os números que você quer fornecer à expressão e insira um colchete de fechamento. O laço for nesse exemplo é for value in range(1,11), que fornece os valores de 1 a 10 à expressão value**2. Observe que não usamos dois-pontos no final da instrução for.`"
      ],
      "metadata": {
        "id": "bpTG3hgTP5Zy"
      }
    },
    {
      "cell_type": "markdown",
      "source": [
        "\n",
        "\n",
        "---\n",
        "\n"
      ],
      "metadata": {
        "id": "9BH58961dkfy"
      }
    },
    {
      "cell_type": "markdown",
      "source": [
        "## Fatiando uma lista"
      ],
      "metadata": {
        "id": "95-fh3IlQUUQ"
      }
    },
    {
      "cell_type": "markdown",
      "source": [
        "Para criar uma fatia, especifique o índice do primeiro e do último elemento com os quais você quer trabalhar. Como ocorre na função `range()`, Python para em um item antes do segundo índice que você especificar."
      ],
      "metadata": {
        "id": "WWh7RcMHQa0M"
      }
    },
    {
      "cell_type": "code",
      "source": [
        "players = ['charles', 'martina', 'michael', 'florence', 'eli']\n",
        "print(players[0:3])"
      ],
      "metadata": {
        "colab": {
          "base_uri": "https://localhost:8080/"
        },
        "id": "QozDo7GdbINP",
        "outputId": "e5e7cf69-af3c-42cb-dfb3-a587273ce107"
      },
      "execution_count": null,
      "outputs": [
        {
          "output_type": "stream",
          "name": "stdout",
          "text": [
            "['charles', 'martina', 'michael']\n"
          ]
        }
      ]
    },
    {
      "cell_type": "markdown",
      "source": [
        "Você pode gerar qualquer subconjunto de uma lista. Por exemplo, se quiser o segundo, o terceiro e o quarto itens de uma lista, comece a fatia no índice 1 e termine no índice 4:"
      ],
      "metadata": {
        "id": "s5Voul6WbRb0"
      }
    },
    {
      "cell_type": "code",
      "source": [
        "players = ['charles', 'martina', 'michael', 'florence', 'eli']\n",
        "print(players[1:4])"
      ],
      "metadata": {
        "colab": {
          "base_uri": "https://localhost:8080/"
        },
        "id": "bGwl1_cTbbbj",
        "outputId": "9ac2f20c-0d07-4644-bcf1-d50fdeb07642"
      },
      "execution_count": null,
      "outputs": [
        {
          "output_type": "stream",
          "name": "stdout",
          "text": [
            "['martina', 'michael', 'florence']\n"
          ]
        }
      ]
    },
    {
      "cell_type": "markdown",
      "source": [
        "Se o primeiro índice de uma fatia for omitido, Python começará sua fatia automaticamente no início da lista:"
      ],
      "metadata": {
        "id": "lcIv3PZ0biKq"
      }
    },
    {
      "cell_type": "code",
      "source": [
        "players = ['charles', 'martina', 'michael', 'florence', 'eli']\n",
        "print(players[:4])"
      ],
      "metadata": {
        "colab": {
          "base_uri": "https://localhost:8080/"
        },
        "id": "3aGc4TRHbl7R",
        "outputId": "fd2a153b-f9a4-4179-c72e-31a6c9a4ef63"
      },
      "execution_count": null,
      "outputs": [
        {
          "output_type": "stream",
          "name": "stdout",
          "text": [
            "['charles', 'martina', 'michael', 'florence']\n"
          ]
        }
      ]
    },
    {
      "cell_type": "markdown",
      "source": [
        "Uma sintaxe semelhante funcionará se você quiser uma fatia que inclua o final de uma lista. Por exemplo, se quiser todos os itens do terceiro até o último item, podemos começar com o índice 2 e omitir o segundo índice:"
      ],
      "metadata": {
        "id": "YJeETwZRbr-x"
      }
    },
    {
      "cell_type": "code",
      "source": [
        "players = ['charles', 'martina', 'michael', 'florence', 'eli']\n",
        "print(players[2:])"
      ],
      "metadata": {
        "colab": {
          "base_uri": "https://localhost:8080/"
        },
        "id": "iwyt5eOJbxAv",
        "outputId": "c1a85377-765a-4029-bc18-6da068ffe841"
      },
      "execution_count": null,
      "outputs": [
        {
          "output_type": "stream",
          "name": "stdout",
          "text": [
            "['michael', 'florence', 'eli']\n"
          ]
        }
      ]
    },
    {
      "cell_type": "markdown",
      "source": [
        "Essa sintaxe permite apresentar todos os elementos a partir de qualquer ponto de sua lista até o final, independentemente do tamanho da lista. Lembre-se de que um índice negativo devolve um elemento a uma determinada distância do final de uma lista; assim, podemos exibir qualquer fatia a partir do final de uma lista. Por exemplo, se quisermos apresentar os três últimos jogadores da lista, podemos usar a fatia `players[-3:]`:"
      ],
      "metadata": {
        "id": "SIAI48x0b8UZ"
      }
    },
    {
      "cell_type": "code",
      "source": [
        "players = ['charles', 'martina', 'michael', 'florence', 'eli']\n",
        "print(players[-3:])"
      ],
      "metadata": {
        "colab": {
          "base_uri": "https://localhost:8080/"
        },
        "id": "nS8W04bJcDrD",
        "outputId": "611552eb-1e8c-4eee-dd0c-6b1a2cb13d36"
      },
      "execution_count": null,
      "outputs": [
        {
          "output_type": "stream",
          "name": "stdout",
          "text": [
            "['michael', 'florence', 'eli']\n"
          ]
        }
      ]
    },
    {
      "cell_type": "markdown",
      "source": [
        "\n",
        "\n",
        "---\n",
        "\n"
      ],
      "metadata": {
        "id": "GpIn8mLvdh1s"
      }
    },
    {
      "cell_type": "markdown",
      "source": [
        "## Percorrendo uma fatia com um laço"
      ],
      "metadata": {
        "id": "iUsUR6FLcOnr"
      }
    },
    {
      "cell_type": "markdown",
      "source": [
        "Você pode usar uma fatia em um laço for se quiser percorrer um subconjunto de elementos de uma lista. No próximo exemplo, percorreremos os três primeiros jogadores e exibiremos seus nomes como parte de uma lista simples:"
      ],
      "metadata": {
        "id": "4C7YIbt0cRE9"
      }
    },
    {
      "cell_type": "code",
      "source": [
        "players = ['charles', 'martina', 'michael', 'florence', 'eli']\n",
        "\n",
        "print(\"Here are the first three players on my team:\")\n",
        "\n",
        "for player in players[:3]:\n",
        "  print(player.title())"
      ],
      "metadata": {
        "colab": {
          "base_uri": "https://localhost:8080/"
        },
        "id": "y1RDzgBGcWy8",
        "outputId": "fe7edab6-c080-41e9-f3df-f4b146b5496a"
      },
      "execution_count": null,
      "outputs": [
        {
          "output_type": "stream",
          "name": "stdout",
          "text": [
            "Here are the first three players on my team:\n",
            "Charles\n",
            "Martina\n",
            "Michael\n"
          ]
        }
      ]
    },
    {
      "cell_type": "markdown",
      "source": [
        "\n",
        "\n",
        "---\n",
        "\n"
      ],
      "metadata": {
        "id": "VFub13C_deNB"
      }
    },
    {
      "cell_type": "markdown",
      "source": [
        "## Copiando uma lista"
      ],
      "metadata": {
        "id": "mUC_ZqEacoqq"
      }
    },
    {
      "cell_type": "markdown",
      "source": [
        "Com frequência, você vai querer começar com uma lista existente e criar uma lista totalmente nova com base na primeira. Vamos explorar o modo de copiar uma lista e analisar uma situação em que copiar uma lista é útil.\n",
        "\n",
        "Para copiar uma lista, podemos criar uma fatia que inclua a lista original inteira omitindo o primeiro e o segundo índices `([:])`. Isso diz a Python para criar uma lista que começa no primeiro item e termina no último, gerando uma cópia da lista toda.\n",
        "\n",
        "Por exemplo, suponha que temos uma lista de nossos alimentos prediletos e queremos criar uma lista separada de comidas que um amigo gosta. Esse amigo gosta de tudo que está em nossa lista até agora, portanto podemos criar sua lista copiando a nossa:"
      ],
      "metadata": {
        "id": "GFISpc_LcqHV"
      }
    },
    {
      "cell_type": "code",
      "source": [
        "my_foods = ['pizza', 'falafel', 'carrot cake']\n",
        "friend_foods = my_foods[:]\n",
        "\n",
        "print(\"My favorite foods are:\")\n",
        "print(my_foods)\n",
        "\n",
        "print(\"\\nMy friend's favorite foods are:\")\n",
        "print(friend_foods)"
      ],
      "metadata": {
        "colab": {
          "base_uri": "https://localhost:8080/"
        },
        "id": "207DVUGqc75C",
        "outputId": "588aed08-a1ff-4c66-9796-217874a8faec"
      },
      "execution_count": null,
      "outputs": [
        {
          "output_type": "stream",
          "name": "stdout",
          "text": [
            "My favorite foods are:\n",
            "['pizza', 'falafel', 'carrot cake']\n",
            "\n",
            "My friend's favorite foods are:\n",
            "['pizza', 'falafel', 'carrot cake']\n"
          ]
        }
      ]
    },
    {
      "cell_type": "markdown",
      "source": [
        "Para provar que realmente temos duas listas separadas, acrescentaremos um alimento em cada lista e mostraremos que cada lista mantém um registro\n",
        "apropriado das comidas favoritas de cada pessoa:"
      ],
      "metadata": {
        "id": "p4d645IQdTdL"
      }
    },
    {
      "cell_type": "code",
      "source": [
        "my_foods = ['pizza', 'falafel', 'carrot cake']\n",
        "friend_foods = my_foods[:]\n",
        "\n",
        "my_foods.append('cannoli')\n",
        "friend_foods.append('ice cream')\n",
        "\n",
        "print(\"My favorite foods are:\")\n",
        "print(my_foods)\n",
        "\n",
        "print(\"\\nMy friend's favorite foods are:\")\n",
        "print(friend_foods)"
      ],
      "metadata": {
        "colab": {
          "base_uri": "https://localhost:8080/"
        },
        "id": "ht-P4FFpduGX",
        "outputId": "c7ac1896-8e92-4f29-ee83-959d2bcdd10e"
      },
      "execution_count": null,
      "outputs": [
        {
          "output_type": "stream",
          "name": "stdout",
          "text": [
            "My favorite foods are:\n",
            "['pizza', 'falafel', 'carrot cake', 'cannoli']\n",
            "\n",
            "My friend's favorite foods are:\n",
            "['pizza', 'falafel', 'carrot cake', 'ice cream']\n"
          ]
        }
      ]
    },
    {
      "cell_type": "markdown",
      "source": [
        "Por exemplo, eis o que acontece quando tentamos copiar uma lista sem usar uma fatia:"
      ],
      "metadata": {
        "id": "-UdX-vfReH-D"
      }
    },
    {
      "cell_type": "code",
      "source": [
        "my_foods = ['pizza', 'falafel', 'carrot cake']\n",
        "friend_foods = my_foods\n",
        "\n",
        "my_foods.append('cannoli')\n",
        "friend_foods.append('ice cream')\n",
        "\n",
        "print(\"My favorite foods are:\")\n",
        "print(my_foods)\n",
        "\n",
        "print(\"\\nMy friend's favorite foods are:\")\n",
        "print(friend_foods)"
      ],
      "metadata": {
        "colab": {
          "base_uri": "https://localhost:8080/"
        },
        "id": "BezbiSjdeJ00",
        "outputId": "bfad48ef-8e9f-462b-8705-03a8947a5585"
      },
      "execution_count": null,
      "outputs": [
        {
          "output_type": "stream",
          "name": "stdout",
          "text": [
            "My favorite foods are:\n",
            "['pizza', 'falafel', 'carrot cake', 'cannoli', 'ice cream']\n",
            "\n",
            "My friend's favorite foods are:\n",
            "['pizza', 'falafel', 'carrot cake', 'cannoli', 'ice cream']\n"
          ]
        }
      ]
    },
    {
      "cell_type": "markdown",
      "source": [
        "`A saída mostra que as duas listas agora são iguais, mas não é isso que queríamos fazer`\n",
        "\n",
        "**NOTA:** Não se preocupe com os detalhes desse exemplo por enquanto. Basicamente, se você estiver tentando trabalhar com uma cópia de uma lista e vir um comportamento inesperado, certifique-se de que está copiando a lista usando uma fatia, como fizemos no primeiro exemplo."
      ],
      "metadata": {
        "id": "UR1zlreJegE_"
      }
    },
    {
      "cell_type": "markdown",
      "source": [
        "\n",
        "\n",
        "---\n",
        "\n"
      ],
      "metadata": {
        "id": "qzuxpuCzeu1Y"
      }
    },
    {
      "cell_type": "markdown",
      "source": [
        "# Tuplas"
      ],
      "metadata": {
        "id": "nRFgB2wcev2A"
      }
    },
    {
      "cell_type": "markdown",
      "source": [
        "As listas funcionam bem para armazenar conjuntos de itens que podem mudar durante a vida de um programa. No entanto, às vezes, você vai querer criar uma lista de itens que não poderá mudar. As tuplas permitir fazer exatamente isso. Python refere-se a valores que não podem mudar como `imutáveis`, e uma lista imutável é chamada de `tupla`."
      ],
      "metadata": {
        "id": "jgnfBgNheyBz"
      }
    },
    {
      "cell_type": "markdown",
      "source": [
        "## Definindo uma tupla"
      ],
      "metadata": {
        "id": "Kfh5Prf6fCfp"
      }
    },
    {
      "cell_type": "markdown",
      "source": [
        "Uma tupla se parece exatamente com uma lista, exceto por **usar parênteses no lugar de colchetes.** Depois de definir uma tupla, podemos acessar elementos individuais usando o índice de cada item, como faríamos com uma lista."
      ],
      "metadata": {
        "id": "dUFSF9qbfFVW"
      }
    },
    {
      "cell_type": "code",
      "source": [
        "dimensions = (200, 50)\n",
        "print(dimensions[0])\n",
        "print(dimensions[1])"
      ],
      "metadata": {
        "colab": {
          "base_uri": "https://localhost:8080/"
        },
        "id": "xJL2Z84QfQhz",
        "outputId": "76e079bc-c9f0-4d4a-ffcb-e22d4c6c005b"
      },
      "execution_count": null,
      "outputs": [
        {
          "output_type": "stream",
          "name": "stdout",
          "text": [
            "200\n",
            "50\n"
          ]
        }
      ]
    },
    {
      "cell_type": "markdown",
      "source": [
        "Vamos ver o que acontece se tentarmos alterar um dos itens da tupla `dimensions`:"
      ],
      "metadata": {
        "id": "vqa4H6LqfdaD"
      }
    },
    {
      "cell_type": "code",
      "source": [
        "dimensions = (200, 50)\n",
        "dimensions[0] = 250"
      ],
      "metadata": {
        "colab": {
          "base_uri": "https://localhost:8080/",
          "height": 193
        },
        "id": "dGA19EUzfiER",
        "outputId": "d7cddb34-a28b-4471-804b-722275f32ac4"
      },
      "execution_count": null,
      "outputs": [
        {
          "output_type": "error",
          "ename": "TypeError",
          "evalue": "ignored",
          "traceback": [
            "\u001b[0;31m---------------------------------------------------------------------------\u001b[0m",
            "\u001b[0;31mTypeError\u001b[0m                                 Traceback (most recent call last)",
            "\u001b[0;32m<ipython-input-23-82cdb98b9ef3>\u001b[0m in \u001b[0;36m<cell line: 2>\u001b[0;34m()\u001b[0m\n\u001b[1;32m      1\u001b[0m \u001b[0mdimensions\u001b[0m \u001b[0;34m=\u001b[0m \u001b[0;34m(\u001b[0m\u001b[0;36m200\u001b[0m\u001b[0;34m,\u001b[0m \u001b[0;36m50\u001b[0m\u001b[0;34m)\u001b[0m\u001b[0;34m\u001b[0m\u001b[0;34m\u001b[0m\u001b[0m\n\u001b[0;32m----> 2\u001b[0;31m \u001b[0mdimensions\u001b[0m\u001b[0;34m[\u001b[0m\u001b[0;36m0\u001b[0m\u001b[0;34m]\u001b[0m \u001b[0;34m=\u001b[0m \u001b[0;36m250\u001b[0m\u001b[0;34m\u001b[0m\u001b[0;34m\u001b[0m\u001b[0m\n\u001b[0m",
            "\u001b[0;31mTypeError\u001b[0m: 'tuple' object does not support item assignment"
          ]
        }
      ]
    },
    {
      "cell_type": "markdown",
      "source": [
        "## Percorrendo todos os valores de uma tupla com um laço"
      ],
      "metadata": {
        "id": "ca_iQlNafpim"
      }
    },
    {
      "cell_type": "markdown",
      "source": [
        "Podemos percorrer todos os valores de uma tupla usando um laço for, assim como fizemos com uma lista:"
      ],
      "metadata": {
        "id": "yyDJH5EvfvU_"
      }
    },
    {
      "cell_type": "code",
      "source": [
        "dimensions = (200, 50)\n",
        "\n",
        "for dimension in dimensions:\n",
        "    print(dimension)"
      ],
      "metadata": {
        "colab": {
          "base_uri": "https://localhost:8080/"
        },
        "id": "V4aDA5atfz3G",
        "outputId": "ab23164c-5c8c-4cd6-add1-044f7a937f98"
      },
      "execution_count": null,
      "outputs": [
        {
          "output_type": "stream",
          "name": "stdout",
          "text": [
            "200\n",
            "50\n"
          ]
        }
      ]
    },
    {
      "cell_type": "markdown",
      "source": [
        "## Sobrescrevendo uma tupla"
      ],
      "metadata": {
        "id": "-Y7L5EWJf9oi"
      }
    },
    {
      "cell_type": "markdown",
      "source": [
        "Embora não seja possível modificar uma tupla, podemos atribuir um novo valor a uma variável que armazena uma tupla. Portanto, se quiséssemos alterar nossas dimensões, poderíamos redefinir a tupla toda:"
      ],
      "metadata": {
        "id": "1swadmLef-6T"
      }
    },
    {
      "cell_type": "code",
      "source": [
        "dimensions = (200, 50)\n",
        "print(\"Original dimensions:\")\n",
        "\n",
        "for dimension in dimensions:\n",
        "  print(dimension)\n",
        "\n",
        "dimensions = (400, 100)\n",
        "print(\"\\nModified dimensions:\")\n",
        "\n",
        "for dimension in dimensions:\n",
        "  print(dimension)"
      ],
      "metadata": {
        "colab": {
          "base_uri": "https://localhost:8080/"
        },
        "id": "_f7PYVX5gE5d",
        "outputId": "a34bd892-e1b4-40a6-c3ef-bbf5b452330a"
      },
      "execution_count": null,
      "outputs": [
        {
          "output_type": "stream",
          "name": "stdout",
          "text": [
            "Original dimensions:\n",
            "200\n",
            "50\n",
            "\n",
            "Modified dimensions:\n",
            "400\n",
            "100\n"
          ]
        }
      ]
    },
    {
      "cell_type": "markdown",
      "source": [
        "`Se comparada com listas, as tuplas são estruturas de dados simples. Use-as quando quiser armazenar um conjunto de valores que não deva ser alterado durante a vida de um programa.`"
      ],
      "metadata": {
        "id": "IvJS-LfqgXOG"
      }
    }
  ]
}