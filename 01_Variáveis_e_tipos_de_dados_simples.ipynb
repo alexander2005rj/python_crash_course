{
  "nbformat": 4,
  "nbformat_minor": 0,
  "metadata": {
    "colab": {
      "provenance": [],
      "authorship_tag": "ABX9TyNf7dVZml0hpewtDeCWsIdP"
    },
    "kernelspec": {
      "name": "python3",
      "display_name": "Python 3"
    },
    "language_info": {
      "name": "python"
    }
  },
  "cells": [
    {
      "cell_type": "markdown",
      "source": [
        "# Nomeando e usando variáveis"
      ],
      "metadata": {
        "id": "OycfK8i9tb3F"
      }
    },
    {
      "cell_type": "markdown",
      "source": [
        "* Nomes de variáveis podem conter apenas letras, números e underscores. Podem   começar com uma letra ou um underscore, mas não com um número. Por exemplo, podemos chamar uma variável de ***message_1***, mas não de ***1_message***."
      ],
      "metadata": {
        "id": "0AY_SFHxYhIm"
      }
    },
    {
      "cell_type": "markdown",
      "source": [
        "* Espaços não são permitidos em nomes de variáveis, mas underscores podem ser usados para separar palavras em nomes de variáveis. Por exemplo, ***greeting_message*** funciona, mas ***greeting message*** causará erros."
      ],
      "metadata": {
        "id": "aJdpMATXtDu6"
      }
    },
    {
      "cell_type": "markdown",
      "source": [
        "* Evite usar palavras reservadas e nomes de funções em Python como nomes de variáveis, ou seja, não use palavras que Python reservou para um propósito particular de programação, por exemplo, a palavra ***print***."
      ],
      "metadata": {
        "id": "B3wcfph8tZgG"
      }
    },
    {
      "cell_type": "markdown",
      "source": [
        "* Nomes de variáveis devem ser concisos, porém descritivos. Por exemplo, ***name*** é melhor que ***n***, ***student_name*** é melhor que ***s_n*** e ***name_length*** é melhor que ***length_of_persons_name***."
      ],
      "metadata": {
        "id": "p30fgHw6uBsH"
      }
    },
    {
      "cell_type": "markdown",
      "source": [
        "* Tome cuidado ao usar a letra minúscula ***l*** e a letra maiúscula ***O***, pois elas podem ser confundidas com os números ***1*** e ***0***."
      ],
      "metadata": {
        "id": "SP5knxoRuWN3"
      }
    },
    {
      "cell_type": "markdown",
      "source": [
        "**NOTA:** As variáveis Python que você está usando no momento devem utilizar\n",
        "letras minúsculas. Você não terá erros se usar letras maiúsculas, mas é uma boa ideia evitá-las por enquanto."
      ],
      "metadata": {
        "id": "x4NV7ms3uvZ9"
      }
    },
    {
      "cell_type": "markdown",
      "source": [
        "**FAÇA VOCÊ MESMO**\n",
        "\n",
        "Escreva um programa separado para resolver cada um destes exercícios. Salve\n",
        "cada programa com um nome de arquivo que siga as convenções-padrão de\n",
        "Python, com letras minúsculas e underscores, por exemplo, ***simple_message.py*** e ***simple_messages.py***.\n",
        "\n",
        "**2.1 – Mensagem simples:** Armazene uma mensagem em uma variável e, em\n",
        "seguida, exiba essa mensagem.\n",
        "\n",
        "**2.2 – Mensagens simples:** Armazene uma mensagem em uma variável e, em\n",
        "seguida, exiba essa mensagem. Então altere o valor de sua variável para uma\n",
        "nova mensagem e mostre essa nova mensagem."
      ],
      "metadata": {
        "id": "9nLx_akavoF7"
      }
    },
    {
      "cell_type": "code",
      "source": [
        "message_1 = \"Teste de Mensagem Simples\"\n",
        "print(message_1)\n",
        "\n",
        "message_2 = message_1 + \" - Mais mensagens simples\"\n",
        "print(message_2)"
      ],
      "metadata": {
        "colab": {
          "base_uri": "https://localhost:8080/"
        },
        "id": "7L55ewoCv9W0",
        "outputId": "e4987e6c-2f1c-4af6-efd5-c18c5c405180"
      },
      "execution_count": null,
      "outputs": [
        {
          "output_type": "stream",
          "name": "stdout",
          "text": [
            "Teste de Mensagem Simples\n",
            "Teste de Mensagem Simples - Mais mensagens simples\n"
          ]
        }
      ]
    },
    {
      "cell_type": "markdown",
      "source": [
        "# Strings\n",
        "\n",
        "* Mudando para letras maiúsculas e minúsculas em uma string usando métodos\n"
      ],
      "metadata": {
        "id": "LJXtjKsDyvDL"
      }
    },
    {
      "cell_type": "code",
      "source": [
        "name = \"ada lovelace\"\n",
        "print(name.title())"
      ],
      "metadata": {
        "colab": {
          "base_uri": "https://localhost:8080/"
        },
        "id": "g3707Ywgy3ZR",
        "outputId": "7d498e45-314c-45ee-8f8e-155af30b38bc"
      },
      "execution_count": null,
      "outputs": [
        {
          "output_type": "stream",
          "name": "stdout",
          "text": [
            "Ada Lovelace\n"
          ]
        }
      ]
    },
    {
      "cell_type": "markdown",
      "source": [
        "* Por exemplo, você pode mudar uma string para que tenha somente letras maiúsculas ou somente letras minúsculas:"
      ],
      "metadata": {
        "id": "2yqcifplzDOx"
      }
    },
    {
      "cell_type": "code",
      "source": [
        "name = \"Ada Lovelace\"\n",
        "print(name.upper())\n",
        "print(name.lower())"
      ],
      "metadata": {
        "colab": {
          "base_uri": "https://localhost:8080/"
        },
        "id": "_3VXI5lXzJq1",
        "outputId": "b7851e20-e8e1-4adb-a101-ff71c0090da6"
      },
      "execution_count": null,
      "outputs": [
        {
          "output_type": "stream",
          "name": "stdout",
          "text": [
            "ADA LOVELACE\n",
            "ada lovelace\n"
          ]
        }
      ]
    },
    {
      "cell_type": "markdown",
      "source": [
        "* Removendo espaços em branco do lado direito de uma string com o método ***rstrip()***:"
      ],
      "metadata": {
        "id": "RtewK83YzbOC"
      }
    },
    {
      "cell_type": "code",
      "source": [
        "favorite_language = 'python '\n",
        "print(\"String original ==> \" + favorite_language)\n",
        "print(\"Removendo  espaços em branco do lado direito ==> \" + favorite_language.rstrip())\n",
        "temp_string = favorite_language.rstrip()\n",
        "print(\"Nova string sem espaço ==> \" + temp_string)"
      ],
      "metadata": {
        "colab": {
          "base_uri": "https://localhost:8080/"
        },
        "id": "4M8FPKndzy3y",
        "outputId": "fbf36a38-f961-423d-c95d-79d471711bfc"
      },
      "execution_count": null,
      "outputs": [
        {
          "output_type": "stream",
          "name": "stdout",
          "text": [
            "String original ==> python\n",
            "Removendo  espaços em branco do lado direito ==> python\n",
            "Nova string sem espaço ==> python\n"
          ]
        }
      ]
    },
    {
      "cell_type": "markdown",
      "source": [
        "* Removendo espaços em branco do lado direito de uma string com o método ***lstrip()***:"
      ],
      "metadata": {
        "id": "KRoqOXh7z4OF"
      }
    },
    {
      "cell_type": "code",
      "source": [
        "favorite_language = ' python'\n",
        "print(\"String original ==> \" + favorite_language)\n",
        "print(\"Removendo  espaços em branco do lado esquerdo ==> \" + favorite_language.lstrip())\n",
        "temp_string = favorite_language.lstrip()\n",
        "print(\"Nova string sem espaço ==> \" + temp_string)"
      ],
      "metadata": {
        "colab": {
          "base_uri": "https://localhost:8080/"
        },
        "id": "4p51sYiJz6VT",
        "outputId": "4e9a408b-3288-4567-bd58-18f8d159abfd"
      },
      "execution_count": null,
      "outputs": [
        {
          "output_type": "stream",
          "name": "stdout",
          "text": [
            "String original ==>  python\n",
            "Removendo  espaços em branco do lado esquerdo ==> python\n",
            "Nova string sem espaço ==> python\n"
          ]
        }
      ]
    },
    {
      "cell_type": "markdown",
      "source": [
        "* Removendo espaços em branco de ambos os lados de uma string com o método ***strip()***:"
      ],
      "metadata": {
        "id": "KaTCnJbS0LXp"
      }
    },
    {
      "cell_type": "code",
      "source": [
        "favorite_language = ' python '\n",
        "print(\"String original ==> \" + favorite_language)\n",
        "print(\"Removendo  espaços em branco de ambos os lados ==> \" + favorite_language.strip())\n",
        "temp_string = favorite_language.strip()\n",
        "print(\"Nova string sem espaço ==> \" + temp_string)"
      ],
      "metadata": {
        "colab": {
          "base_uri": "https://localhost:8080/"
        },
        "id": "1d1e5IdV0M8E",
        "outputId": "c669bed9-7171-4277-b5d2-16624c59d3f5"
      },
      "execution_count": null,
      "outputs": [
        {
          "output_type": "stream",
          "name": "stdout",
          "text": [
            "Removendo  espaços em branco de ambos os lados ==> python\n",
            "Resultado da string ==>  python \n",
            "Nova string sem espaço ==> python\n"
          ]
        }
      ]
    },
    {
      "cell_type": "markdown",
      "source": [
        "# Números"
      ],
      "metadata": {
        "id": "C1IjCc012NfK"
      }
    },
    {
      "cell_type": "markdown",
      "source": [
        "## Inteiros\n",
        "\n",
        "Você pode somar (+), subtrair (-), multiplicar (*) e dividir (/) inteiros em Python."
      ],
      "metadata": {
        "id": "HBH4mCXf2dq-"
      }
    },
    {
      "cell_type": "code",
      "source": [
        "num_1 = 2 + 3\n",
        "print(num_1)\n",
        "\n",
        "num_2 = 3 - 2\n",
        "print(num_2)\n",
        "\n",
        "num_3 = 2 * 3\n",
        "print(num_3)\n",
        "\n",
        "num_4 = 3 / 2\n",
        "print(num_4)"
      ],
      "metadata": {
        "colab": {
          "base_uri": "https://localhost:8080/"
        },
        "id": "zFr4RZ0M2xvN",
        "outputId": "a4ab1039-8786-4f54-9bc8-f45b52f8fa3f"
      },
      "execution_count": null,
      "outputs": [
        {
          "output_type": "stream",
          "name": "stdout",
          "text": [
            "5\n",
            "1\n",
            "6\n",
            "1.5\n"
          ]
        }
      ]
    },
    {
      "cell_type": "markdown",
      "source": [
        "Dois símbolos de multiplicação são usados em Python para representar exponenciais:"
      ],
      "metadata": {
        "id": "WWUfOjQk3FXy"
      }
    },
    {
      "cell_type": "code",
      "source": [
        "num_5 = 3 ** 3\n",
        "print(num_5)\n",
        "\n",
        "num_6 = 10 ** 6\n",
        "print(num_6)"
      ],
      "metadata": {
        "colab": {
          "base_uri": "https://localhost:8080/"
        },
        "id": "IoJBQuap3Ktr",
        "outputId": "589dbec1-4f14-4edd-f815-2fd446d0b439"
      },
      "execution_count": null,
      "outputs": [
        {
          "output_type": "stream",
          "name": "stdout",
          "text": [
            "27\n",
            "1000000\n"
          ]
        }
      ]
    },
    {
      "cell_type": "markdown",
      "source": [
        "## Números de ponto flutuante\n",
        "\n",
        "Qualquer número com um ponto decimal de *número de ponto flutuante* (***float***)"
      ],
      "metadata": {
        "id": "dW46vHk-3Xnc"
      }
    },
    {
      "cell_type": "code",
      "source": [
        "print(0.1 + 0.1)\n",
        "\n",
        "print(0.2 + 0.2)\n",
        "\n",
        "print(2 * 0.1)\n",
        "\n",
        "print(2 * 0.2)"
      ],
      "metadata": {
        "colab": {
          "base_uri": "https://localhost:8080/"
        },
        "id": "JJdrEJai30YE",
        "outputId": "521d3af8-b6ad-473c-f9e2-d6c9f7e67554"
      },
      "execution_count": null,
      "outputs": [
        {
          "output_type": "stream",
          "name": "stdout",
          "text": [
            "0.2\n",
            "0.4\n",
            "0.2\n",
            "0.4\n"
          ]
        }
      ]
    },
    {
      "cell_type": "markdown",
      "source": [
        "No entanto, tome cuidado, pois, às vezes, você poderá obter um número arbitrário de casas decimais em sua resposta:"
      ],
      "metadata": {
        "id": "ey2F5H2b4LPh"
      }
    },
    {
      "cell_type": "code",
      "source": [
        "print(0.2 + 0.1)\n",
        "\n",
        "print(3 * 0.1)"
      ],
      "metadata": {
        "colab": {
          "base_uri": "https://localhost:8080/"
        },
        "id": "OOZ9Kbtc4OvD",
        "outputId": "c150c2c5-e5ca-405f-8078-daa73dc1cd19"
      },
      "execution_count": null,
      "outputs": [
        {
          "output_type": "stream",
          "name": "stdout",
          "text": [
            "0.30000000000000004\n",
            "0.30000000000000004\n"
          ]
        }
      ]
    },
    {
      "cell_type": "markdown",
      "source": [
        "Python tenta encontrar uma forma de representar o resultado do modo mais exato possível, o que, às vezes, é difícil, considerando a maneira como os computadores devem representar os números internamente. Basta ignorar as casas decimais extras por enquanto;"
      ],
      "metadata": {
        "id": "_9TUKHE84YNc"
      }
    },
    {
      "cell_type": "markdown",
      "source": [
        "### Evitando erros de tipo com a função str()\n",
        "\n",
        "\n",
        "Com frequência, você vai querer usar o valor de uma variável em uma mensagem. Por exemplo, suponha que você queira desejar feliz aniversário a alguém. Você poderia escrever um código como este:"
      ],
      "metadata": {
        "id": "Aah5U3Pt4tA-"
      }
    },
    {
      "cell_type": "code",
      "source": [
        "age = 23\n",
        "message = \"Happy \" + age + \"rd Birthday!\""
      ],
      "metadata": {
        "colab": {
          "base_uri": "https://localhost:8080/",
          "height": 193
        },
        "id": "Jox0MkWU_-Pk",
        "outputId": "1a569160-2e6c-47e0-ace5-a255be5a7e56"
      },
      "execution_count": null,
      "outputs": [
        {
          "output_type": "error",
          "ename": "TypeError",
          "evalue": "ignored",
          "traceback": [
            "\u001b[0;31m---------------------------------------------------------------------------\u001b[0m",
            "\u001b[0;31mTypeError\u001b[0m                                 Traceback (most recent call last)",
            "\u001b[0;32m<ipython-input-21-43e2b76878c6>\u001b[0m in \u001b[0;36m<cell line: 2>\u001b[0;34m()\u001b[0m\n\u001b[1;32m      1\u001b[0m \u001b[0mage\u001b[0m \u001b[0;34m=\u001b[0m \u001b[0;36m23\u001b[0m\u001b[0;34m\u001b[0m\u001b[0;34m\u001b[0m\u001b[0m\n\u001b[0;32m----> 2\u001b[0;31m \u001b[0mmessage\u001b[0m \u001b[0;34m=\u001b[0m \u001b[0;34m\"Happy \"\u001b[0m \u001b[0;34m+\u001b[0m \u001b[0mage\u001b[0m \u001b[0;34m+\u001b[0m \u001b[0;34m\"rd Birthday!\"\u001b[0m\u001b[0;34m\u001b[0m\u001b[0;34m\u001b[0m\u001b[0m\n\u001b[0m",
            "\u001b[0;31mTypeError\u001b[0m: can only concatenate str (not \"int\") to str"
          ]
        }
      ]
    },
    {
      "cell_type": "markdown",
      "source": [
        "Nesse exemplo, Python vê que você está usando uma variável em cujo valor é um inteiro (int), mas não tem certeza de como interpretar esse valor. O interpretador sabe que a variável poderia representar um valor numérico 23 ou os caracteres *2* e *3*. Quando usar inteiros em strings desse modo, você precisará especificar explicitamente que quer que Python utilize o inteiro como uma string de caracteres. Podemos fazer isso envolvendo a variável com a função ***str()***; essa função diz a Python para representar valores que não são strings como strings:"
      ],
      "metadata": {
        "id": "EN9UxBozAM4x"
      }
    },
    {
      "cell_type": "code",
      "source": [
        "age = 23\n",
        "message = \"Happy \" + str(age) + \"rd Birthday!\"\n",
        "print(message)"
      ],
      "metadata": {
        "colab": {
          "base_uri": "https://localhost:8080/"
        },
        "id": "jqaSy4ZuAgtr",
        "outputId": "afe45fc6-8379-4101-d2cb-3153e9de3d74"
      },
      "execution_count": null,
      "outputs": [
        {
          "output_type": "stream",
          "name": "stdout",
          "text": [
            "Happy 23rd Birthday!\n"
          ]
        }
      ]
    },
    {
      "cell_type": "markdown",
      "source": [
        "# Comentários\n",
        "\n",
        "### Como escrever comentários?\n",
        "\n",
        "Em Python, o caractere sustenido (#) indica um comentário. Tudo que vier depois de um caractere sustenido em seu código será ignorado pelo interpretador Python."
      ],
      "metadata": {
        "id": "_HE-JdFRAxqp"
      }
    },
    {
      "cell_type": "code",
      "source": [
        "# Diga olá a todos\n",
        "print(\"Hello Python people!\")"
      ],
      "metadata": {
        "colab": {
          "base_uri": "https://localhost:8080/"
        },
        "id": "m295Ph-SBGDD",
        "outputId": "77a86237-7ae2-4bdb-c499-ad5b85a2c48c"
      },
      "execution_count": null,
      "outputs": [
        {
          "output_type": "stream",
          "name": "stdout",
          "text": [
            "Hello Python people!\n"
          ]
        }
      ]
    },
    {
      "cell_type": "markdown",
      "source": [
        "# Zen de Python\n",
        "\n",
        "A filosofia da comunidade Python está contida no “Zen de Python” de Tim Peters. Você pode acessar esse conjunto resumido de princípios para escrever um bom código Python fornecendo import this ao seu interpretador."
      ],
      "metadata": {
        "id": "ZP_-s0XeBbNy"
      }
    },
    {
      "cell_type": "code",
      "source": [
        "import this"
      ],
      "metadata": {
        "colab": {
          "base_uri": "https://localhost:8080/"
        },
        "id": "HL7-6bbWBwr0",
        "outputId": "31b4c4a9-53e7-49e1-e78e-7baccfd08b9c"
      },
      "execution_count": null,
      "outputs": [
        {
          "output_type": "stream",
          "name": "stdout",
          "text": [
            "The Zen of Python, by Tim Peters\n",
            "\n",
            "Beautiful is better than ugly.\n",
            "Explicit is better than implicit.\n",
            "Simple is better than complex.\n",
            "Complex is better than complicated.\n",
            "Flat is better than nested.\n",
            "Sparse is better than dense.\n",
            "Readability counts.\n",
            "Special cases aren't special enough to break the rules.\n",
            "Although practicality beats purity.\n",
            "Errors should never pass silently.\n",
            "Unless explicitly silenced.\n",
            "In the face of ambiguity, refuse the temptation to guess.\n",
            "There should be one-- and preferably only one --obvious way to do it.\n",
            "Although that way may not be obvious at first unless you're Dutch.\n",
            "Now is better than never.\n",
            "Although never is often better than *right* now.\n",
            "If the implementation is hard to explain, it's a bad idea.\n",
            "If the implementation is easy to explain, it may be a good idea.\n",
            "Namespaces are one honking great idea -- let's do more of those!\n"
          ]
        }
      ]
    }
  ]
}