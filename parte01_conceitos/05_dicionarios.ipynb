{
  "nbformat": 4,
  "nbformat_minor": 0,
  "metadata": {
    "colab": {
      "provenance": [],
      "authorship_tag": "ABX9TyMA5ikC57PWCwVjjxhyLMZs"
    },
    "kernelspec": {
      "name": "python3",
      "display_name": "Python 3"
    },
    "language_info": {
      "name": "python"
    }
  },
  "cells": [
    {
      "cell_type": "markdown",
      "source": [
        "## Um dicionário simples\n"
      ],
      "metadata": {
        "id": "0AY_SFHxYhIm"
      }
    },
    {
      "cell_type": "code",
      "execution_count": null,
      "metadata": {
        "id": "LF8Nm5pLYakF",
        "colab": {
          "base_uri": "https://localhost:8080/"
        },
        "outputId": "d672668d-369e-4108-86c0-dc2d9bc8aa22"
      },
      "outputs": [
        {
          "output_type": "stream",
          "name": "stdout",
          "text": [
            "green\n",
            "5\n"
          ]
        }
      ],
      "source": [
        "alien_0 = {\n",
        "    'color': 'green',\n",
        "    'points': 5\n",
        "}\n",
        "\n",
        "print(alien_0['color'])\n",
        "print(alien_0['points'])"
      ]
    },
    {
      "cell_type": "markdown",
      "source": [
        "## Trabalhando com dicionários\n",
        "\n",
        "Um `dicionário` em Python é uma coleção de `pares` `chave-valor`. Cada chave\n",
        "é conectada a um valor, e você pode usar uma chave para acessar o valor\n",
        "associado a ela. O valor de uma chave pode ser um número, uma string,\n",
        "uma lista ou até mesmo outro dicionário. De fato, podemos usar\n",
        "qualquer objeto que possa ser criado em Python como valor de um\n",
        "dicionário.\n",
        "\n",
        "Em Python, um dicionário é representado entre chaves, `{}`, com uma\n",
        "série de pares chave-valor entre elas, como mostramos no exemplo\n",
        "anterior: `alien_0 = {'color': 'green', 'points': 5}`\n",
        "\n",
        "Um `par` `chave-valor` é um conjunto de valores associados um ao outro.\n",
        "Quando fornecemos uma chave, Python devolve o valor associado a\n",
        "essa chave. Toda chave é associada a seu valor por meio de dois-pontos,\n",
        "e pares chave-valor individuais são separados por vírgulas. Podemos\n",
        "armazenar quantos pares chave-valor quisermos em um dicionário."
      ],
      "metadata": {
        "id": "seujNGVkYgjX"
      }
    },
    {
      "cell_type": "markdown",
      "source": [
        "## Acessando valores em um dicionário"
      ],
      "metadata": {
        "id": "WJ-2nYNJEDC-"
      }
    },
    {
      "cell_type": "code",
      "source": [
        "alien_0 = {'color':'green', 'points': 5}\n",
        "new_points = alien_0['points']\n",
        "\n",
        "print(\"You just earned \" + str(new_points) + \" points!\")"
      ],
      "metadata": {
        "id": "byDof4TfYhsv",
        "colab": {
          "base_uri": "https://localhost:8080/"
        },
        "outputId": "1551a4bd-ab06-499b-d143-aff0a010c8f1"
      },
      "execution_count": null,
      "outputs": [
        {
          "output_type": "stream",
          "name": "stdout",
          "text": [
            "You just earned 5 points!\n"
          ]
        }
      ]
    },
    {
      "cell_type": "markdown",
      "source": [
        "## Adicionando novos pares chave-valor\n",
        "\n",
        "Dicionários são estruturas dinâmicas, e você pode adicionar novos pares chave-valor a um dicionário a qualquer momento."
      ],
      "metadata": {
        "id": "vQIa-3pvEocJ"
      }
    },
    {
      "cell_type": "code",
      "source": [
        "alien_0 = {'color': 'green', 'points': 5}\n",
        "print(alien_0)\n",
        "\n",
        "alien_0['x_position'] = 0\n",
        "alien_0['y_position'] = 25\n",
        "print(alien_0)"
      ],
      "metadata": {
        "id": "k172cq7OEsns"
      },
      "execution_count": null,
      "outputs": []
    },
    {
      "cell_type": "markdown",
      "source": [
        "## Começando com um dicionário vazio"
      ],
      "metadata": {
        "id": "kG5Ey5jEb6qN"
      }
    },
    {
      "cell_type": "code",
      "source": [
        "alien_0 = {}\n",
        "\n",
        "alien_0['color'] = 'green'\n",
        "alien_0['points'] = 5\n",
        "\n",
        "print(alien_0)"
      ],
      "metadata": {
        "colab": {
          "base_uri": "https://localhost:8080/"
        },
        "id": "fT_owHHtb9aP",
        "outputId": "41f572c5-23f9-4220-e462-a03eb582e2e3"
      },
      "execution_count": null,
      "outputs": [
        {
          "output_type": "stream",
          "name": "stdout",
          "text": [
            "{'color': 'green', 'points': 5}\n"
          ]
        }
      ]
    },
    {
      "cell_type": "markdown",
      "source": [
        "## Modificando valores em um dicionário"
      ],
      "metadata": {
        "id": "um0_MX3_cEGZ"
      }
    },
    {
      "cell_type": "code",
      "source": [
        "alien_0 = {'color': 'green'}\n",
        "print(\"The alien is \" + alien_0['color'] + \".\")\n",
        "\n",
        "alien_0['color'] = 'yellow'\n",
        "print(\"The alien is now \" + alien_0['color'] + \".\")"
      ],
      "metadata": {
        "colab": {
          "base_uri": "https://localhost:8080/"
        },
        "id": "xtUCwgN1cGnJ",
        "outputId": "fb7fa200-36e9-4d2d-8797-909729b1ad84"
      },
      "execution_count": null,
      "outputs": [
        {
          "output_type": "stream",
          "name": "stdout",
          "text": [
            "The alien is green.\n",
            "The alien is now yellow.\n"
          ]
        }
      ]
    },
    {
      "cell_type": "markdown",
      "source": [
        "#### **Um exemplo mais interessante:**"
      ],
      "metadata": {
        "id": "MjAYjDkwd840"
      }
    },
    {
      "cell_type": "code",
      "source": [
        "alien_0 = {'x_position': 0, 'y_position': 25, 'speed': 'medium'}\n",
        "print(\"Original x-position: \" + str(alien_0['x_position']))\n",
        "\n",
        "# Move o alienígena para a direita\n",
        "# Determina a distância que o alienígena deve se deslocar de acordo com sua # velocidade atual\n",
        "if alien_0['speed'] == 'slow': x_increment = 1\n",
        "elif alien_0['speed'] == 'medium': x_increment = 2\n",
        "else: x_increment = 3\n",
        "\n",
        "alien_0['x_position'] = alien_0['x_position'] + x_increment\n",
        "print(\"New x-position: \" + str(alien_0['x_position']))"
      ],
      "metadata": {
        "colab": {
          "base_uri": "https://localhost:8080/"
        },
        "id": "onpPZlLrcUNL",
        "outputId": "16843a27-7d0b-4843-fc8c-1e3ad9eca2b8"
      },
      "execution_count": null,
      "outputs": [
        {
          "output_type": "stream",
          "name": "stdout",
          "text": [
            "Original x-position: 0\n",
            "New x-position: 2\n"
          ]
        }
      ]
    },
    {
      "cell_type": "markdown",
      "source": [
        "## Removendo pares chave-valor\n",
        "\n",
        "Quando não houver mais necessidade de uma informação armazenada em um dicionário, podemos usar a instrução `del` para remover totalmente um par chave-valor. Tudo de que `del` precisa é do nome do dicionário e da chave que você deseja remover."
      ],
      "metadata": {
        "id": "1ymxnP9neHxj"
      }
    },
    {
      "cell_type": "code",
      "source": [
        "alien_0 = {'color': 'green', 'points': 5}\n",
        "print(alien_0)\n",
        "\n",
        "del alien_0['points']\n",
        "print(alien_0)"
      ],
      "metadata": {
        "colab": {
          "base_uri": "https://localhost:8080/"
        },
        "id": "b1fqnbmaeV9p",
        "outputId": "6e7c1d8d-3b83-42b7-b4ff-10256998c102"
      },
      "execution_count": null,
      "outputs": [
        {
          "output_type": "stream",
          "name": "stdout",
          "text": [
            "{'color': 'green', 'points': 5}\n",
            "{'color': 'green'}\n"
          ]
        }
      ]
    },
    {
      "cell_type": "markdown",
      "source": [
        "**NOTA**: Saiba que o par chave-valor apagado é removido de forma permanente."
      ],
      "metadata": {
        "id": "_z1pf77Seg1O"
      }
    },
    {
      "cell_type": "markdown",
      "source": [
        "## Um dicionário de objetos semelhantes\n",
        "\n",
        "Podemos usar um dicionário para armazenar um tipo de informação sobre vários objetos."
      ],
      "metadata": {
        "id": "oX2hsAEdenHi"
      }
    },
    {
      "cell_type": "code",
      "source": [
        "favorite_languages = {\n",
        "    'jen': 'python',\n",
        "    'sarah': 'c',\n",
        "    'edward': 'ruby',\n",
        "    'phil': 'python',\n",
        "}\n",
        "\n",
        "print(\"Sarah's favorite language is \" + favorite_languages['sarah'].title() + \".\")"
      ],
      "metadata": {
        "colab": {
          "base_uri": "https://localhost:8080/"
        },
        "id": "toTCDfX6ee1N",
        "outputId": "b2cb8235-b4d7-468d-fabc-16f8278a099c"
      },
      "execution_count": null,
      "outputs": [
        {
          "output_type": "stream",
          "name": "stdout",
          "text": [
            "Sarah's favorite language is C.\n"
          ]
        }
      ]
    },
    {
      "cell_type": "markdown",
      "source": [
        "## Percorrendo todos os pares chave-valor com um laço\n",
        "\n",
        "Podemos percorrer todos os pares chave-valor de um dicionário usando suas chaves ou seus valores.\n",
        "\n"
      ],
      "metadata": {
        "id": "8cIBRVrxfih5"
      }
    },
    {
      "cell_type": "code",
      "source": [
        "user_0 = {\n",
        "    'username': 'efermi',\n",
        "    'first': 'enrico',\n",
        "    'last': 'fermi',\n",
        "}\n",
        "\n",
        "for key, value in user_0.items():\n",
        "  print(\"\\nKey: \" + key)\n",
        "  print(\"Value: \" + value)"
      ],
      "metadata": {
        "colab": {
          "base_uri": "https://localhost:8080/"
        },
        "id": "ymC6X00FfpgM",
        "outputId": "87639641-c1c1-4e52-9b02-3481a550ab93"
      },
      "execution_count": null,
      "outputs": [
        {
          "output_type": "stream",
          "name": "stdout",
          "text": [
            "\n",
            "Key: username\n",
            "Value: efermi\n",
            "\n",
            "Key: first\n",
            "Value: enrico\n",
            "\n",
            "Key: last\n",
            "Value: fermi\n"
          ]
        }
      ]
    },
    {
      "cell_type": "markdown",
      "source": [
        "#### **Outro exemplo possível**"
      ],
      "metadata": {
        "id": "BITUnUQOgD26"
      }
    },
    {
      "cell_type": "code",
      "source": [
        "favorite_languages = {\n",
        "    'jen': 'python',\n",
        "    'sarah': 'c',\n",
        "    'edward': 'ruby',\n",
        "    'phil': 'python',\n",
        "}\n",
        "\n",
        "for name, language in favorite_languages.items():\n",
        "  print(name.title() +\"'s favorite language is \" + language.title() + \".\")"
      ],
      "metadata": {
        "colab": {
          "base_uri": "https://localhost:8080/"
        },
        "id": "FBd1hGxEgMGU",
        "outputId": "333fb1b8-5585-4e2c-ae25-ce43dd852efd"
      },
      "execution_count": null,
      "outputs": [
        {
          "output_type": "stream",
          "name": "stdout",
          "text": [
            "Jen's favorite language is Python.\n",
            "Sarah's favorite language is C.\n",
            "Edward's favorite language is Ruby.\n",
            "Phil's favorite language is Python.\n"
          ]
        }
      ]
    },
    {
      "cell_type": "markdown",
      "source": [
        "## Percorrendo todas as chaves de um dicionário com um laço\n",
        "\n",
        "O método `keys()` é conveniente quando não precisamos trabalhar com\n",
        "todos os valores de um dicionário."
      ],
      "metadata": {
        "id": "-avy-z7hgc3Q"
      }
    },
    {
      "cell_type": "code",
      "source": [
        "favorite_languages = {\n",
        "    'jen': 'python',\n",
        "    'sarah': 'c',\n",
        "    'edward': 'ruby',\n",
        "    'phil': 'python',\n",
        "}\n",
        "\n",
        "for name in favorite_languages.keys():\n",
        "  print(name.title())"
      ],
      "metadata": {
        "colab": {
          "base_uri": "https://localhost:8080/"
        },
        "id": "E3BsR0fggm3o",
        "outputId": "d636a052-71be-498b-b85f-3c25cc468282"
      },
      "execution_count": null,
      "outputs": [
        {
          "output_type": "stream",
          "name": "stdout",
          "text": [
            "Jen\n",
            "Sarah\n",
            "Edward\n",
            "Phil\n"
          ]
        }
      ]
    },
    {
      "cell_type": "markdown",
      "source": [
        "Percorrer as chaves, na verdade, é o comportamento-padrão quando\n",
        "percorremos um dicionário com um laço.\n",
        "\n",
        "Podemos acessar o valor associado a qualquer chave que nos interessar no laço usando a chave atual."
      ],
      "metadata": {
        "id": "ApAflaJ5gy3m"
      }
    },
    {
      "cell_type": "code",
      "source": [
        "favorite_languages = {\n",
        "    'jen': 'python',\n",
        "    'sarah': 'c',\n",
        "    'edward': 'ruby',\n",
        "    'phil': 'python',\n",
        "}\n",
        "\n",
        "friends = ['phil', 'sarah']\n",
        "\n",
        "for name in favorite_languages.keys():\n",
        "  print(name.title())\n",
        "  if name in friends: print(\" Hi \" + name.title() +\", I see your favorite language is \" + favorite_languages[name].title() + \"!\")"
      ],
      "metadata": {
        "colab": {
          "base_uri": "https://localhost:8080/"
        },
        "id": "kt6_APcWg_bN",
        "outputId": "c40fa497-8a98-4537-b306-634f5b381d2d"
      },
      "execution_count": null,
      "outputs": [
        {
          "output_type": "stream",
          "name": "stdout",
          "text": [
            "Jen\n",
            "Sarah\n",
            " Hi Sarah, I see your favorite language is C!\n",
            "Edward\n",
            "Phil\n",
            " Hi Phil, I see your favorite language is Python!\n"
          ]
        }
      ]
    },
    {
      "cell_type": "markdown",
      "source": [
        "Você também pode usar o método `keys()` para descobrir se uma pessoa\n",
        "em particular participou da enquete. Dessa vez, vamos ver se ***Erin***\n",
        "respondeu à enquete:"
      ],
      "metadata": {
        "id": "C6-Hfsp1hjcG"
      }
    },
    {
      "cell_type": "code",
      "source": [
        "favorite_languages = {\n",
        "    'jen': 'python',\n",
        "    'sarah': 'c',\n",
        "    'edward': 'ruby',\n",
        "    'phil': 'python',\n",
        "}\n",
        "\n",
        "if 'erin' not in favorite_languages.keys(): print(\"Erin, please take our poll!\")"
      ],
      "metadata": {
        "colab": {
          "base_uri": "https://localhost:8080/"
        },
        "id": "hPmbpmwohly1",
        "outputId": "022d7cd1-fa95-4a9d-c067-ba924569ef01"
      },
      "execution_count": null,
      "outputs": [
        {
          "output_type": "stream",
          "name": "stdout",
          "text": [
            "Erin, please take our poll!\n"
          ]
        }
      ]
    },
    {
      "cell_type": "markdown",
      "source": [
        "## Percorrendo as chaves de um dicionário em ordem usando um laço\n",
        "\n",
        "Uma maneira de fazer os itens serem devolvidos em determinada sequência é ordenar as chaves à medida que são devolvidas no laço `for`.\n",
        "Podemos usar a função `sorted()` para obter uma cópia ordenada das chaves:"
      ],
      "metadata": {
        "id": "yfKure3EiXgx"
      }
    },
    {
      "cell_type": "code",
      "source": [
        "favorite_languages = {\n",
        "    'jen': 'python',\n",
        "    'sarah': 'c',\n",
        "    'edward': 'ruby',\n",
        "    'phil': 'python',\n",
        "}\n",
        "\n",
        "for name in sorted(favorite_languages.keys()):\n",
        "  print(name.title() + \", thank you for taking the poll.\")\n",
        "\n"
      ],
      "metadata": {
        "colab": {
          "base_uri": "https://localhost:8080/"
        },
        "id": "wCfxNRt6Abmz",
        "outputId": "8448bd02-d158-4b54-8485-f21bed07a9fc"
      },
      "execution_count": null,
      "outputs": [
        {
          "output_type": "stream",
          "name": "stdout",
          "text": [
            "Edward, thank you for taking the poll.\n",
            "Jen, thank you for taking the poll.\n",
            "Phil, thank you for taking the poll.\n",
            "Sarah, thank you for taking the poll.\n"
          ]
        }
      ]
    },
    {
      "cell_type": "code",
      "source": [
        "favorite_languages = {\n",
        "    'jen': 'python',\n",
        "    'sarah': 'c',\n",
        "    'edward': 'ruby',\n",
        "    'phil': 'python',\n",
        "}\n",
        "\n",
        "print(\"The following languages have been mentioned:\")\n",
        "for language in sorted(favorite_languages.values()): print(language.title())"
      ],
      "metadata": {
        "colab": {
          "base_uri": "https://localhost:8080/"
        },
        "id": "2TPZbErKX-xd",
        "outputId": "6fe7b672-97e7-40e4-d907-7beb46db8650"
      },
      "execution_count": null,
      "outputs": [
        {
          "output_type": "stream",
          "name": "stdout",
          "text": [
            "The following languages have been mentioned:\n",
            "C\n",
            "Python\n",
            "Python\n",
            "Ruby\n"
          ]
        }
      ]
    },
    {
      "cell_type": "markdown",
      "source": [
        "## Percorrendo todos os valores de um dicionário com um laço\n",
        "\n",
        "Se você estiver mais interessado nos valores contidos em um dicionário,\n",
        "o método `values()` pode ser usado para devolver uma lista de valores sem\n",
        "as chaves."
      ],
      "metadata": {
        "id": "m-5nCkxZXJCA"
      }
    },
    {
      "cell_type": "code",
      "source": [
        "favorite_languages = {\n",
        "    'jen': 'python',\n",
        "    'sarah': 'c',\n",
        "    'edward': 'ruby',\n",
        "    'phil': 'python',\n",
        "}\n",
        "\n",
        "print(\"The following languages have been mentioned:\")\n",
        "for language in favorite_languages.values(): print(language.title())"
      ],
      "metadata": {
        "colab": {
          "base_uri": "https://localhost:8080/"
        },
        "id": "65pWKldYXP5q",
        "outputId": "a1191fcf-b25a-4e7e-8208-78d2b6d50aa3"
      },
      "execution_count": null,
      "outputs": [
        {
          "output_type": "stream",
          "name": "stdout",
          "text": [
            "The following languages have been mentioned:\n",
            "Python\n",
            "C\n",
            "Ruby\n",
            "Python\n"
          ]
        }
      ]
    },
    {
      "cell_type": "markdown",
      "source": [
        "Essa abordagem extrai todos os valores do dicionário, sem verificar se\n",
        "há repetições. Isso pode funcionar bem com uma quantidade pequena\n",
        "de valores, mas em uma enquete com um número grande de\n",
        "entrevistados, o resultado seria uma lista com muitas repetições.\n",
        "Para ver cada linguagem escolhida sem repetições, podemos usar um `conjunto`\n",
        "(set). Um conjunto é semelhante a uma lista, exceto que cada item de\n",
        "um conjunto deve ser único:"
      ],
      "metadata": {
        "id": "E3M-XFfRXi1K"
      }
    },
    {
      "cell_type": "code",
      "source": [
        "favorite_languages = {\n",
        "    'jen': 'python',\n",
        "    'sarah': 'c',\n",
        "    'edward': 'ruby',\n",
        "    'phil': 'python',\n",
        "}\n",
        "\n",
        "print(\"The following languages have been mentioned:\")\n",
        "for language in set(favorite_languages.values()): print(language.title())"
      ],
      "metadata": {
        "colab": {
          "base_uri": "https://localhost:8080/"
        },
        "id": "-Fdw_qK7XyHd",
        "outputId": "c1796ff5-a334-4b03-d76f-e7a80725d0dd"
      },
      "execution_count": null,
      "outputs": [
        {
          "output_type": "stream",
          "name": "stdout",
          "text": [
            "The following languages have been mentioned:\n",
            "Python\n",
            "C\n",
            "Ruby\n"
          ]
        }
      ]
    },
    {
      "cell_type": "code",
      "source": [
        "favorite_languages = {\n",
        "    'jen': 'python',\n",
        "    'sarah': 'c',\n",
        "    'edward': 'ruby',\n",
        "    'phil': 'python',\n",
        "}\n",
        "\n",
        "print(\"The following languages have been mentioned:\")\n",
        "for language in sorted(set(favorite_languages.values())): print(language.title())"
      ],
      "metadata": {
        "colab": {
          "base_uri": "https://localhost:8080/"
        },
        "id": "OvZ0ifGpYJJW",
        "outputId": "4b61b857-dbe2-40af-823e-000cdc805c79"
      },
      "execution_count": null,
      "outputs": [
        {
          "output_type": "stream",
          "name": "stdout",
          "text": [
            "The following languages have been mentioned:\n",
            "C\n",
            "Python\n",
            "Ruby\n"
          ]
        }
      ]
    },
    {
      "cell_type": "markdown",
      "source": [
        "## Uma lista de dicionários\n",
        "\n"
      ],
      "metadata": {
        "id": "jJQ9ylcEYXHM"
      }
    },
    {
      "cell_type": "code",
      "source": [
        "# Cria uma lista vazia para armazenar alienígenas\n",
        "aliens = []\n",
        "\n",
        "# Cria 30 alienígenas verdes\n",
        "for alien_number in range(30):\n",
        "  new_alien = {'color': 'green', 'points': 5, 'speed': 'slow'}\n",
        "  aliens.append(new_alien)\n",
        "\n",
        "# Mostra os 5 primeiros alienígenas\n",
        "for alien in aliens[:5]:\n",
        "  print(alien)\n",
        "  print(\"...\")\n",
        "\n",
        "# Mostra quantos alienígenas foram criados\n",
        "print(\"Total number of aliens: \" + str(len(aliens)))"
      ],
      "metadata": {
        "colab": {
          "base_uri": "https://localhost:8080/"
        },
        "id": "OWvJi6gBYuwy",
        "outputId": "dd3ccb6c-7a65-4dc3-a836-155434330532"
      },
      "execution_count": null,
      "outputs": [
        {
          "output_type": "stream",
          "name": "stdout",
          "text": [
            "{'color': 'green', 'points': 5, 'speed': 'slow'}\n",
            "...\n",
            "{'color': 'green', 'points': 5, 'speed': 'slow'}\n",
            "...\n",
            "{'color': 'green', 'points': 5, 'speed': 'slow'}\n",
            "...\n",
            "{'color': 'green', 'points': 5, 'speed': 'slow'}\n",
            "...\n",
            "{'color': 'green', 'points': 5, 'speed': 'slow'}\n",
            "...\n",
            "Total number of aliens: 30\n"
          ]
        }
      ]
    },
    {
      "cell_type": "code",
      "source": [
        "# Cria uma lista vazia para armazenar alienígenas\n",
        "aliens = []\n",
        "\n",
        "# Cria 30 alienígenas verdes\n",
        "for alien_number in range (0,30):\n",
        "  new_alien = {'color': 'green', 'points': 5, 'speed': 'slow'}\n",
        "  aliens.append(new_alien)\n",
        "\n",
        "for alien in aliens[0:3]:\n",
        "  if alien['color'] == 'green':\n",
        "    alien['color'] = 'yellow'\n",
        "    alien['speed'] = 'medium'\n",
        "    alien['points'] = 10\n",
        "  elif alien['color'] == 'yellow':\n",
        "    alien['color'] = 'red'\n",
        "    alien['speed'] = 'fast'\n",
        "    alien['points'] = 15\n",
        "\n",
        "# Mostra os 5 primeiros alienígenas\n",
        "for alien in aliens[0:5]:\n",
        "  print(alien)\n",
        "  print(\"...\")"
      ],
      "metadata": {
        "colab": {
          "base_uri": "https://localhost:8080/"
        },
        "id": "3YjAcYI9ZY7J",
        "outputId": "9b3945c6-8405-474f-8bb7-4fd05b5fcaa7"
      },
      "execution_count": null,
      "outputs": [
        {
          "output_type": "stream",
          "name": "stdout",
          "text": [
            "{'color': 'yellow', 'points': 10, 'speed': 'medium'}\n",
            "...\n",
            "{'color': 'yellow', 'points': 10, 'speed': 'medium'}\n",
            "...\n",
            "{'color': 'yellow', 'points': 10, 'speed': 'medium'}\n",
            "...\n",
            "{'color': 'green', 'points': 5, 'speed': 'slow'}\n",
            "...\n",
            "{'color': 'green', 'points': 5, 'speed': 'slow'}\n",
            "...\n"
          ]
        }
      ]
    },
    {
      "cell_type": "markdown",
      "source": [
        "É comum armazenar vários dicionários em uma lista quando cada\n",
        "dicionário tiver diversos tipos de informação sobre um objeto.\n",
        "\n",
        "Todos os dicionários da lista devem ter uma\n",
        "estrutura idêntica para que possamos percorrer a lista com um laço e\n",
        "trabalhar com cada objeto representado por um dicionário do mesmo\n",
        "modo."
      ],
      "metadata": {
        "id": "pCChg7afaIvk"
      }
    },
    {
      "cell_type": "markdown",
      "source": [
        "## Uma lista em um dicionário\n",
        "\n",
        "Em vez de colocar um dicionário em uma lista, às vezes é conveniente\n",
        "colocar uma lista em um dicionário.\n",
        "\n"
      ],
      "metadata": {
        "id": "uteU0zniaO6U"
      }
    },
    {
      "cell_type": "code",
      "source": [
        "# Armazena informações sobre uma pizza que está sendo pedida\n",
        "pizza = {\n",
        "    'crust': 'thick',\n",
        "    'toppings': ['mushrooms', 'extra cheese'],\n",
        "}\n",
        "\n",
        "# Resume o pedido\n",
        "print(\"You ordered a \" + pizza['crust'] + \"-crust pizza \" + \"with the following toppings:\")\n",
        "\n",
        "for topping in pizza['toppings']: print(\"\\t\" + topping)"
      ],
      "metadata": {
        "colab": {
          "base_uri": "https://localhost:8080/"
        },
        "id": "GutfqVjEaXTc",
        "outputId": "e81e639d-7ce6-4a02-fed2-2fdd3475ca07"
      },
      "execution_count": null,
      "outputs": [
        {
          "output_type": "stream",
          "name": "stdout",
          "text": [
            "You ordered a thick-crust pizza with the following toppings:\n",
            "\tmushrooms\n",
            "\textra cheese\n"
          ]
        }
      ]
    },
    {
      "cell_type": "code",
      "source": [
        "favorite_languages = {\n",
        "    'jen': ['python', 'ruby'],\n",
        "    'sarah': ['c'],\n",
        "    'edward': ['ruby', 'go'],\n",
        "    'phil': ['python', 'haskell'],\n",
        "}\n",
        "\n",
        "for name, languages in favorite_languages.items():\n",
        "  print(\"\\n\" + name.title() + \"'s favorite languages are:\")\n",
        "  for language in languages:\n",
        "    print(\"\\t\" + language.title())"
      ],
      "metadata": {
        "colab": {
          "base_uri": "https://localhost:8080/"
        },
        "id": "L0emFmxba4vE",
        "outputId": "05dc5fca-2d4e-4e3a-fb48-423ee0fe15bb"
      },
      "execution_count": null,
      "outputs": [
        {
          "output_type": "stream",
          "name": "stdout",
          "text": [
            "\n",
            "Jen's favorite languages are:\n",
            "\tPython\n",
            "\tRuby\n",
            "\n",
            "Sarah's favorite languages are:\n",
            "\tC\n",
            "\n",
            "Edward's favorite languages are:\n",
            "\tRuby\n",
            "\tGo\n",
            "\n",
            "Phil's favorite languages are:\n",
            "\tPython\n",
            "\tHaskell\n"
          ]
        }
      ]
    },
    {
      "cell_type": "markdown",
      "source": [
        "**NOTA:** Não aninhe listas e dicionários com muitos níveis de profundidade. Se\n",
        "estiver aninhando itens com um nível de profundidade muito maior do\n",
        "que vimos nos exemplos anteriores ou se estiver trabalhando com o\n",
        "código de outra pessoa, e esse código tiver níveis significativos de\n",
        "informações aninhadas, é mais provável que haja uma maneira mais\n",
        "simples de solucionar o problema existente."
      ],
      "metadata": {
        "id": "7DlUahrxbgvU"
      }
    },
    {
      "cell_type": "markdown",
      "source": [
        "## Um dicionário em um dicionário\n",
        "\n",
        "Podemos aninhar um dicionário em outro dicionário, mas o código\n",
        "poderá ficar complicado rapidamente se isso for feito."
      ],
      "metadata": {
        "id": "Hx_8yxBjbmmd"
      }
    },
    {
      "cell_type": "code",
      "source": [
        "users = {\n",
        "    'aeinstein': {\n",
        "        'first': 'albert',\n",
        "        'last': 'einstein',\n",
        "        'location': 'princeton',\n",
        "        },\n",
        "    'mcurie': {\n",
        "        'first': 'marie',\n",
        "        'last': 'curie',\n",
        "        'location': 'paris',\n",
        "        },\n",
        "}\n",
        "\n",
        "for username, user_info in users.items():\n",
        "  print(\"\\nUsername: \" + username)\n",
        "  full_name = user_info['first'] + \" \" + user_info['last']\n",
        "  location = user_info['location']\n",
        "  print(\"\\tFull name: \" + full_name.title())\n",
        "  print(\"\\tLocation: \" + location.title())"
      ],
      "metadata": {
        "colab": {
          "base_uri": "https://localhost:8080/"
        },
        "id": "DN5hCXINb0dw",
        "outputId": "86b28c20-956d-41ed-dab2-5ce832770c34"
      },
      "execution_count": null,
      "outputs": [
        {
          "output_type": "stream",
          "name": "stdout",
          "text": [
            "\n",
            "Username: aeinstein\n",
            "\tFull name: Albert Einstein\n",
            "\tLocation: Princeton\n",
            "\n",
            "Username: mcurie\n",
            "\tFull name: Marie Curie\n",
            "\tLocation: Paris\n"
          ]
        }
      ]
    }
  ]
}