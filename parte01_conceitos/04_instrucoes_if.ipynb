{
  "nbformat": 4,
  "nbformat_minor": 0,
  "metadata": {
    "colab": {
      "provenance": [],
      "authorship_tag": "ABX9TyOvij4Ukvmyo2RY4N1jQBlk"
    },
    "kernelspec": {
      "name": "python3",
      "display_name": "Python 3"
    },
    "language_info": {
      "name": "python"
    }
  },
  "cells": [
    {
      "cell_type": "markdown",
      "source": [
        "## Um exemplo simples"
      ],
      "metadata": {
        "id": "0AY_SFHxYhIm"
      }
    },
    {
      "cell_type": "code",
      "execution_count": null,
      "metadata": {
        "id": "LF8Nm5pLYakF",
        "colab": {
          "base_uri": "https://localhost:8080/"
        },
        "outputId": "51712273-1b8c-4ad8-f443-25e9547b7cb8"
      },
      "outputs": [
        {
          "output_type": "stream",
          "name": "stdout",
          "text": [
            "BMW\n",
            "Audi\n",
            "Toyota\n",
            "Subaru\n"
          ]
        }
      ],
      "source": [
        "cars = ['bmw', 'audi', 'toyota', 'subaru']\n",
        "\n",
        "for car in cars:\n",
        "  if car == 'bmw':\n",
        "    print(car.upper())\n",
        "  else:\n",
        "    print(car.title())"
      ]
    },
    {
      "cell_type": "markdown",
      "source": [
        "## Verificando a diferença"
      ],
      "metadata": {
        "id": "seujNGVkYgjX"
      }
    },
    {
      "cell_type": "code",
      "source": [
        "requested_topping = 'mushrooms'\n",
        "\n",
        "if requested_topping != 'anchovies':\n",
        "  print(\"Hold the anchovies!\")"
      ],
      "metadata": {
        "id": "byDof4TfYhsv",
        "colab": {
          "base_uri": "https://localhost:8080/"
        },
        "outputId": "c916bf16-b2a4-4d8b-e2b8-1b362e80b594"
      },
      "execution_count": null,
      "outputs": [
        {
          "output_type": "stream",
          "name": "stdout",
          "text": [
            "Hold the anchovies!\n"
          ]
        }
      ]
    },
    {
      "cell_type": "markdown",
      "source": [
        "## Comparações numéricas"
      ],
      "metadata": {
        "id": "akJqMWDWwE3N"
      }
    },
    {
      "cell_type": "code",
      "source": [
        "answer = 17\n",
        "\n",
        "if answer != 42:\n",
        "  print(\"That is not the correct answer. Please try again!\")\n"
      ],
      "metadata": {
        "colab": {
          "base_uri": "https://localhost:8080/"
        },
        "id": "SReavLbjwFK0",
        "outputId": "8badcabe-60e3-4275-a737-ff24ca924a63"
      },
      "execution_count": null,
      "outputs": [
        {
          "output_type": "stream",
          "name": "stdout",
          "text": [
            "That is not the correct answer. Please try again!\n"
          ]
        }
      ]
    },
    {
      "cell_type": "markdown",
      "source": [
        "## Testando várias condições"
      ],
      "metadata": {
        "id": "7v85b2tDwU2w"
      }
    },
    {
      "cell_type": "markdown",
      "source": [
        "### Usando AND para testar várias condições"
      ],
      "metadata": {
        "id": "4q8LAo9_wa4b"
      }
    },
    {
      "cell_type": "code",
      "source": [
        "age_0 = 22\n",
        "age_1 = 18\n",
        "\n",
        "print(age_0 >= 21 and age_1 >= 21)\n",
        "\n",
        "age_1 = 22\n",
        "print(age_0 >= 21 and age_1 >= 21)"
      ],
      "metadata": {
        "colab": {
          "base_uri": "https://localhost:8080/"
        },
        "id": "1dMwRJnQwVQL",
        "outputId": "65d9cb0d-706d-4c53-fb9e-eef7a12e4f45"
      },
      "execution_count": null,
      "outputs": [
        {
          "output_type": "stream",
          "name": "stdout",
          "text": [
            "False\n",
            "True\n"
          ]
        }
      ]
    },
    {
      "cell_type": "markdown",
      "source": [
        "### Usando OR para testar várias condições"
      ],
      "metadata": {
        "id": "yny3xpOaw5tV"
      }
    },
    {
      "cell_type": "code",
      "source": [
        "age_0 = 22\n",
        "age_1 = 18\n",
        "print(age_0 >= 21 or age_1 >= 21)\n",
        "\n",
        "age_0 = 18\n",
        "age_0 >= 21 or age_1 >= 21"
      ],
      "metadata": {
        "colab": {
          "base_uri": "https://localhost:8080/"
        },
        "id": "45-FxJJXw6Rq",
        "outputId": "8b1a0226-7d18-4c0d-c3dc-a611ba05ad56"
      },
      "execution_count": null,
      "outputs": [
        {
          "output_type": "stream",
          "name": "stdout",
          "text": [
            "True\n"
          ]
        },
        {
          "output_type": "execute_result",
          "data": {
            "text/plain": [
              "False"
            ]
          },
          "metadata": {},
          "execution_count": 11
        }
      ]
    },
    {
      "cell_type": "markdown",
      "source": [
        "## Verificando se um valor está em uma lista (IN)\n",
        "\n",
        "Para descobrir se um valor em particular já está em uma lista, utilize a\n",
        "palavra reservada `in`."
      ],
      "metadata": {
        "id": "BKXsVuPa9OYH"
      }
    },
    {
      "cell_type": "code",
      "source": [
        "requested_toppings = ['mushrooms', 'onions', 'pineapple']\n",
        "\n",
        "print('mushrooms' in requested_toppings)\n",
        "print('pepperoni' in requested_toppings)"
      ],
      "metadata": {
        "colab": {
          "base_uri": "https://localhost:8080/"
        },
        "id": "YKGUDXfE9Pv9",
        "outputId": "f0802171-3b02-4be2-90f7-dad2be4162e2"
      },
      "execution_count": null,
      "outputs": [
        {
          "output_type": "stream",
          "name": "stdout",
          "text": [
            "True\n",
            "False\n"
          ]
        }
      ]
    },
    {
      "cell_type": "markdown",
      "source": [
        "## Verificando se um valor não está em uma lista (NOT)\n",
        "\n",
        "Em outras ocasiões, é importante saber se um valor não está em uma\n",
        "lista. Podemos usar a palavra reservada `not` nesse caso."
      ],
      "metadata": {
        "id": "CjlnLc6e9yDe"
      }
    },
    {
      "cell_type": "code",
      "source": [
        "banned_users = ['andrew', 'carolina', 'david']\n",
        "user = 'marie'\n",
        "\n",
        "if user not in banned_users:\n",
        "  print(user.title() + \", you can post a response if you wish.\")\n"
      ],
      "metadata": {
        "colab": {
          "base_uri": "https://localhost:8080/"
        },
        "id": "rGox39CH95j8",
        "outputId": "5a107b88-a5ca-40ca-ef06-723e7de60d1c"
      },
      "execution_count": null,
      "outputs": [
        {
          "output_type": "stream",
          "name": "stdout",
          "text": [
            "Marie, you can post a response if you wish.\n"
          ]
        }
      ]
    },
    {
      "cell_type": "markdown",
      "source": [
        "## Instruções if simples\n",
        "\n"
      ],
      "metadata": {
        "id": "t1W9ZpNx96De"
      }
    },
    {
      "cell_type": "code",
      "source": [
        "age = 19\n",
        "\n",
        "if age >= 18:\n",
        "  print(\"You are old enough to vote!\")\n",
        "  print(\"Have you registered to vote yet?\")"
      ],
      "metadata": {
        "colab": {
          "base_uri": "https://localhost:8080/"
        },
        "id": "Z5JU4AZi-YFk",
        "outputId": "c7b0ba8c-38f9-4c57-b1e7-dd3bb84094cd"
      },
      "execution_count": null,
      "outputs": [
        {
          "output_type": "stream",
          "name": "stdout",
          "text": [
            "You are old enough to vote!\n",
            "Have you registered to vote yet?\n"
          ]
        }
      ]
    },
    {
      "cell_type": "markdown",
      "source": [
        "## Instruções if-else\n",
        "\n"
      ],
      "metadata": {
        "id": "QfUGp5qf-Z0V"
      }
    },
    {
      "cell_type": "code",
      "source": [
        "age = 17\n",
        "\n",
        "if age >= 18:\n",
        "  print(\"You are old enough to vote!\")\n",
        "  print(\"Have you registered to vote yet?\")\n",
        "else:\n",
        "  print(\"Sorry, you are too young to vote.\")\n",
        "  print(\"Please register to vote as soon as you turn 18!\")"
      ],
      "metadata": {
        "colab": {
          "base_uri": "https://localhost:8080/"
        },
        "id": "xEoBlwbx-U--",
        "outputId": "fe48bacb-3995-4e2a-945e-cbad7ed8533c"
      },
      "execution_count": null,
      "outputs": [
        {
          "output_type": "stream",
          "name": "stdout",
          "text": [
            "Sorry, you are too young to vote.\n",
            "Please register to vote as soon as you turn 18!\n"
          ]
        }
      ]
    },
    {
      "cell_type": "markdown",
      "source": [
        "## Sintaxe if-elif-else\n",
        "\n"
      ],
      "metadata": {
        "id": "6stXFzS5-9Rv"
      }
    },
    {
      "cell_type": "code",
      "source": [
        "age = 12\n",
        "\n",
        "if age < 4:\n",
        "  print(\"Your admission cost is $0.\")\n",
        "elif age < 18:\n",
        "  print(\"Your admission cost is $5.\")\n",
        "else:\n",
        "  print(\"Your admission cost is $10.\")"
      ],
      "metadata": {
        "colab": {
          "base_uri": "https://localhost:8080/"
        },
        "id": "zpF6nlNg_Ena",
        "outputId": "36266a0d-af6a-4bd7-ca5f-776300dc66a9"
      },
      "execution_count": null,
      "outputs": [
        {
          "output_type": "stream",
          "name": "stdout",
          "text": [
            "Your admission cost is $5.\n"
          ]
        }
      ]
    },
    {
      "cell_type": "code",
      "source": [
        "age = 12\n",
        "\n",
        "if age < 4: price = 0\n",
        "elif age < 18: price = 5\n",
        "else: price = 10\n",
        "\n",
        "print(\"Your admission cost is $\" + str(price) + \".\")"
      ],
      "metadata": {
        "colab": {
          "base_uri": "https://localhost:8080/"
        },
        "id": "ffU3HxuD_cWz",
        "outputId": "88fc3d95-6c71-4fe5-d7ec-03a40be6e76b"
      },
      "execution_count": null,
      "outputs": [
        {
          "output_type": "stream",
          "name": "stdout",
          "text": [
            "Your admission cost is $5.\n"
          ]
        }
      ]
    },
    {
      "cell_type": "markdown",
      "source": [
        "## Usando vários blocos elif"
      ],
      "metadata": {
        "id": "nWTAVSKz_FM_"
      }
    },
    {
      "cell_type": "code",
      "source": [
        "age = 12\n",
        "\n",
        "if age < 4: price = 0\n",
        "elif age < 18: price = 5\n",
        "elif age < 65: price = 10\n",
        "else: price = 5\n",
        "\n",
        "print(\"Your admission cost is $\" + str(price) + \".\")"
      ],
      "metadata": {
        "colab": {
          "base_uri": "https://localhost:8080/"
        },
        "id": "WzDerdKL_t_O",
        "outputId": "3a8ac16d-c012-4dbf-f39a-6ae12f043edb"
      },
      "execution_count": null,
      "outputs": [
        {
          "output_type": "stream",
          "name": "stdout",
          "text": [
            "Your admission cost is $5.\n"
          ]
        }
      ]
    },
    {
      "cell_type": "markdown",
      "source": [
        "## Omitindo o bloco else\n",
        "\n",
        "Python não exige um bloco `else` no final de uma cadeia `if-elif`. Às vezes,\n",
        "um bloco `else` é útil; outras vezes, é mais claro usar uma instrução `elif`\n",
        "adicional que capture a condição específica de interesse"
      ],
      "metadata": {
        "id": "MwCS-no__uqF"
      }
    },
    {
      "cell_type": "code",
      "source": [
        "age = 12\n",
        "\n",
        "if age < 4: price = 0\n",
        "elif age < 18: price = 5\n",
        "elif age < 65: price = 10\n",
        "elif age >= 65: price = 5\n",
        "\n",
        "print(\"Your admission cost is $\" + str(price) + \".\")"
      ],
      "metadata": {
        "colab": {
          "base_uri": "https://localhost:8080/"
        },
        "id": "kfmbJ4Jm_vCI",
        "outputId": "d32fe4ab-f052-465c-ac7f-099aa09a646e"
      },
      "execution_count": null,
      "outputs": [
        {
          "output_type": "stream",
          "name": "stdout",
          "text": [
            "Your admission cost is $5.\n"
          ]
        }
      ]
    },
    {
      "cell_type": "markdown",
      "source": [
        "## Testando várias condições\n",
        "\n",
        "Às vezes, é importante verificar todas as condições de\n",
        "interesse. Nesse caso, você deve usar uma série de instruções `if` simples,\n",
        "sem blocos `elif` ou `else`. Essa técnica faz sentido quando mais de uma\n",
        "condição pode ser True e você quer atuar em todas as condições que\n",
        "sejam verdadeiras."
      ],
      "metadata": {
        "id": "DznwkDruAV2I"
      }
    },
    {
      "cell_type": "code",
      "source": [
        "requested_toppings = ['mushrooms', 'extra cheese']\n",
        "\n",
        "if 'mushrooms' in requested_toppings:\n",
        "  print(\"Adding mushrooms.\")\n",
        "\n",
        "if 'pepperoni' in requested_toppings:\n",
        "  print(\"Adding pepperoni.\")\n",
        "\n",
        "if 'extra cheese' in requested_toppings:\n",
        "  print(\"Adding extra cheese.\")\n",
        "\n",
        "print(\"\\nFinished making your pizza!\")"
      ],
      "metadata": {
        "colab": {
          "base_uri": "https://localhost:8080/"
        },
        "id": "XseuNwGnAlw1",
        "outputId": "4513e6df-e9be-4427-bc92-2faed7a0bf09"
      },
      "execution_count": null,
      "outputs": [
        {
          "output_type": "stream",
          "name": "stdout",
          "text": [
            "Adding mushrooms.\n",
            "Adding extra cheese.\n",
            "\n",
            "Finished making your pizza!\n"
          ]
        }
      ]
    },
    {
      "cell_type": "markdown",
      "source": [
        "## Usando instruções if com listas\n",
        "\n",
        "Algumas tarefas interessantes podem ser feitas se combinarmos listas\n",
        "com instruções if. Podemos prestar atenção em valores especiais, que\n",
        "devam ser tratados de modo diferente de outros valores da lista."
      ],
      "metadata": {
        "id": "RW8B2aECBIUc"
      }
    },
    {
      "cell_type": "markdown",
      "source": [
        "## Verificando itens especiais\n",
        "\n"
      ],
      "metadata": {
        "id": "D1kXAETDBStV"
      }
    },
    {
      "cell_type": "code",
      "source": [
        "requested_toppings = ['mushrooms', 'green peppers', 'extra cheese']\n",
        "\n",
        "for requested_topping in requested_toppings:\n",
        "  if requested_topping == 'green peppers':\n",
        "    print(\"Sorry, we are out of green peppers right now.\")\n",
        "  else:\n",
        "    print(\"Adding \" + requested_topping + \".\")\n",
        "\n",
        "print(\"\\nFinished making your pizza!\")"
      ],
      "metadata": {
        "colab": {
          "base_uri": "https://localhost:8080/"
        },
        "id": "XmIgnW3RBc5i",
        "outputId": "49d4d6ff-c7b5-4fa8-9fb4-659a1e4f7cfb"
      },
      "execution_count": null,
      "outputs": [
        {
          "output_type": "stream",
          "name": "stdout",
          "text": [
            "Adding mushrooms.\n",
            "Sorry, we are out of green peppers right now.\n",
            "Adding extra cheese.\n",
            "\n",
            "Finished making your pizza!\n"
          ]
        }
      ]
    },
    {
      "cell_type": "markdown",
      "source": [
        "## Verificando se uma lista não está vazia"
      ],
      "metadata": {
        "id": "iBVUBfRDB3gV"
      }
    },
    {
      "cell_type": "code",
      "source": [
        "requested_toppings = []\n",
        "\n",
        "if requested_toppings:\n",
        "  for requested_topping in requested_toppings:\n",
        "    print(\"Adding \" + requested_topping + \".\")\n",
        "    print(\"\\nFinished making your pizza!\")\n",
        "else:\n",
        "  print(\"Are you sure you want a plain pizza?\")"
      ],
      "metadata": {
        "colab": {
          "base_uri": "https://localhost:8080/"
        },
        "id": "SXfFwnJMB9P3",
        "outputId": "c22eb4a8-4174-49a4-b7dc-26c5284e1756"
      },
      "execution_count": null,
      "outputs": [
        {
          "output_type": "stream",
          "name": "stdout",
          "text": [
            "Are you sure you want a plain pizza?\n"
          ]
        }
      ]
    },
    {
      "cell_type": "markdown",
      "source": [
        "## Usando várias listas"
      ],
      "metadata": {
        "id": "UF09czPKCRa-"
      }
    },
    {
      "cell_type": "code",
      "source": [
        "available_toppings = ['mushrooms', 'olives', 'green peppers', 'pepperoni', 'pineapple', 'extra cheese']\n",
        "requested_toppings = ['mushrooms', 'french fries', 'extra cheese']\n",
        "\n",
        "for requested_topping in requested_toppings:\n",
        "  if requested_topping in available_toppings:\n",
        "    print(\"Adding \" + requested_topping + \".\")\n",
        "  else:\n",
        "    print(\"Sorry, we don't have \" + requested_topping + \".\")\n",
        "\n",
        "print(\"\\nFinished making your pizza!\")"
      ],
      "metadata": {
        "colab": {
          "base_uri": "https://localhost:8080/"
        },
        "id": "6co-7hHkCXEc",
        "outputId": "4febdb0d-1735-43ad-f119-a7eb2a158833"
      },
      "execution_count": null,
      "outputs": [
        {
          "output_type": "stream",
          "name": "stdout",
          "text": [
            "Adding mushrooms.\n",
            "Sorry, we don't have french fries.\n",
            "Adding extra cheese.\n",
            "\n",
            "Finished making your pizza!\n"
          ]
        }
      ]
    }
  ]
}