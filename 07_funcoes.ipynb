{
  "nbformat": 4,
  "nbformat_minor": 0,
  "metadata": {
    "colab": {
      "provenance": [],
      "authorship_tag": "ABX9TyOqfYnepP+ONUYVqFq04Llj"
    },
    "kernelspec": {
      "name": "python3",
      "display_name": "Python 3"
    },
    "language_info": {
      "name": "python"
    }
  },
  "cells": [
    {
      "cell_type": "markdown",
      "source": [
        "## Definindo uma função"
      ],
      "metadata": {
        "id": "0AY_SFHxYhIm"
      }
    },
    {
      "cell_type": "code",
      "execution_count": null,
      "metadata": {
        "id": "LF8Nm5pLYakF",
        "colab": {
          "base_uri": "https://localhost:8080/"
        },
        "outputId": "3280d4bb-0a34-4471-a12f-719d2cf8c2f0"
      },
      "outputs": [
        {
          "output_type": "stream",
          "name": "stdout",
          "text": [
            "Hello!\n"
          ]
        }
      ],
      "source": [
        "def greet_user():\n",
        "  \"\"\"Exibe uma saudação simples.\"\"\"\n",
        "  print(\"Hello!\")\n",
        "\n",
        "greet_user()"
      ]
    },
    {
      "cell_type": "markdown",
      "source": [
        "## Passando informações para uma função"
      ],
      "metadata": {
        "id": "seujNGVkYgjX"
      }
    },
    {
      "cell_type": "code",
      "source": [
        "def greet_user(username):\n",
        "  \"\"\"Exibe uma saudação simples.\"\"\"\n",
        "  print(\"Hello, \" + username.title() + \"!\")\n",
        "\n",
        "greet_user('Julian Genaro')"
      ],
      "metadata": {
        "id": "byDof4TfYhsv",
        "colab": {
          "base_uri": "https://localhost:8080/"
        },
        "outputId": "bed48eec-f901-4c82-ba9a-2dacdf0dfc0e"
      },
      "execution_count": null,
      "outputs": [
        {
          "output_type": "stream",
          "name": "stdout",
          "text": [
            "Hello, Julian Genaro!\n"
          ]
        }
      ]
    },
    {
      "cell_type": "markdown",
      "source": [
        "## Argumentos e parâmetros\n",
        "\n",
        "**NOTA:** Às vezes, as pessoas falam de argumentos e parâmetros de modo indistinto. Não fique surpreso se vir as variáveis de uma definição de função serem referenciadas como argumentos, ou as variáveis de uma chamada de função serem chamadas de parâmetros."
      ],
      "metadata": {
        "id": "TYSNewaF15ac"
      }
    },
    {
      "cell_type": "markdown",
      "source": [
        "## Passando argumentos\n",
        "\n",
        "Os argumentos podem ser passados para as funções de várias maneiras. Podemos usar `argumentos posicionais`, que devem estar na mesma ordem em que os parâmetros foram escritos, `argumentos nomeados` (*keyword arguments*), em que cada argumento é constituído de um nome de variável e de um valor, ou por meio de listas e dicionários de valores."
      ],
      "metadata": {
        "id": "UjvBKH-l3v0v"
      }
    },
    {
      "cell_type": "markdown",
      "source": [
        "## Argumentos posicionais\n",
        "\n"
      ],
      "metadata": {
        "id": "HHk2JEqS5i1t"
      }
    },
    {
      "cell_type": "code",
      "source": [
        "def describe_pet(animal_type, pet_name):\n",
        "  \"\"\"Exibe informações sobre um animal de estimação.\"\"\"\n",
        "  print(\"\\nI have a \" + animal_type + \".\")\n",
        "  print(\"My \" + animal_type + \"'s name is \" + pet_name.title() + \".\")\n",
        "\n",
        "describe_pet('hamster', 'harry')"
      ],
      "metadata": {
        "colab": {
          "base_uri": "https://localhost:8080/"
        },
        "id": "zsXmrlq515q1",
        "outputId": "d7ae7ebc-4d60-4897-e996-d82918417086"
      },
      "execution_count": null,
      "outputs": [
        {
          "output_type": "stream",
          "name": "stdout",
          "text": [
            "\n",
            "I have a hamster.\n",
            "My hamster's name is Harry.\n"
          ]
        }
      ]
    },
    {
      "cell_type": "markdown",
      "source": [
        "## Argumentos nomeados\n",
        "\n",
        "\n",
        "Um `argumento nomeado` (*keyword argument*) é um par nome-valor passado para uma função."
      ],
      "metadata": {
        "id": "ewEpgNVx16Hh"
      }
    },
    {
      "cell_type": "code",
      "source": [
        "def describe_pet(animal_type, pet_name):\n",
        "  \"\"\"Exibe informações sobre um animal de estimação.\"\"\"\n",
        "  print(\"\\nI have a \" + animal_type + \".\")\n",
        "  print(\"My \" + animal_type + \"'s name is \" + pet_name.title() + \".\")\n",
        "\n",
        "describe_pet(pet_name='harry', animal_type='hamster')"
      ],
      "metadata": {
        "colab": {
          "base_uri": "https://localhost:8080/"
        },
        "id": "562hqUvY16hs",
        "outputId": "c54480c3-edfc-46f2-9251-2ef87b66a354"
      },
      "execution_count": null,
      "outputs": [
        {
          "output_type": "stream",
          "name": "stdout",
          "text": [
            "\n",
            "I have a hamster.\n",
            "My hamster's name is Harry.\n"
          ]
        }
      ]
    },
    {
      "cell_type": "markdown",
      "source": [
        "## Valores default\n",
        "\n",
        "Ao escrever uma função, podemos definir um `valor default` para cada parâmetro. Se um argumento para um parâmetro for especificado na chamada da função, Python usará o valor desse argumento. Se não for, o valor default do parâmetro será utilizado. Portanto, se um valor default for definido para um parâmetro, você poderá excluir o argumento correspondente, que normalmente seria especificado na chamada da função. Usar valores default pode simplificar suas chamadas de função e deixar mais claro o modo como suas funções normalmente são\n",
        "utilizadas."
      ],
      "metadata": {
        "id": "pA_ltHV216-z"
      }
    },
    {
      "cell_type": "code",
      "source": [
        "def describe_pet(pet_name, animal_type='dog'):\n",
        "  \"\"\"Exibe informações sobre um animal de estimação.\"\"\"\n",
        "  print(\"\\nI have a \" + animal_type + \".\")\n",
        "  print(\"My \" + animal_type + \"'s name is \" + pet_name.title() + \".\")\n",
        "\n",
        "describe_pet(pet_name='willie')\n",
        "describe_pet(pet_name='Kitty', animal_type='cat')"
      ],
      "metadata": {
        "colab": {
          "base_uri": "https://localhost:8080/"
        },
        "id": "nxhXELWF17ak",
        "outputId": "d5bf98af-2509-4013-ef87-a19293996c21"
      },
      "execution_count": null,
      "outputs": [
        {
          "output_type": "stream",
          "name": "stdout",
          "text": [
            "\n",
            "I have a dog.\n",
            "My dog's name is Willie.\n",
            "\n",
            "I have a cat.\n",
            "My cat's name is Kitty.\n"
          ]
        }
      ]
    },
    {
      "cell_type": "markdown",
      "source": [
        "## Chamadas de função equivalentes"
      ],
      "metadata": {
        "id": "t1JnPJ1z6aPJ"
      }
    },
    {
      "cell_type": "code",
      "source": [
        "def describe_pet(pet_name, animal_type='dog'):\n",
        "  print(\"\\nI have a \" + animal_type + \".\")\n",
        "  print(\"My \" + animal_type + \"'s name is \" + pet_name.title() + \".\")\n",
        "\n",
        "describe_pet('willie')\n",
        "describe_pet(pet_name='willie')\n",
        "describe_pet(pet_name='harry', animal_type='hamster')\n",
        "describe_pet(animal_type='hamster', pet_name='harry')"
      ],
      "metadata": {
        "colab": {
          "base_uri": "https://localhost:8080/"
        },
        "id": "xrHW9zE56akP",
        "outputId": "49818270-417b-492d-b409-29fac95ba761"
      },
      "execution_count": null,
      "outputs": [
        {
          "output_type": "stream",
          "name": "stdout",
          "text": [
            "\n",
            "I have a dog.\n",
            "My dog's name is Willie.\n",
            "\n",
            "I have a dog.\n",
            "My dog's name is Willie.\n",
            "\n",
            "I have a hamster.\n",
            "My hamster's name is Harry.\n",
            "\n",
            "I have a hamster.\n",
            "My hamster's name is Harry.\n"
          ]
        }
      ]
    },
    {
      "cell_type": "markdown",
      "source": [
        "## Valores de retorno\n",
        "\n",
        "A instrução `return` toma um valor que está em uma função e o envia de volta à linha que a chamou. Valores de retorno permitem passar boa parte do trabalho pesado de um programa para funções, o que pode simplificar o corpo de seu programa."
      ],
      "metadata": {
        "id": "RONLxlh09ZPt"
      }
    },
    {
      "cell_type": "markdown",
      "source": [
        "## Devolvendo um valor simples"
      ],
      "metadata": {
        "id": "3fvbpoIB6a8d"
      }
    },
    {
      "cell_type": "code",
      "source": [
        "def get_formatted_name(first_name, last_name):\n",
        "  \"\"\"Devolve um nome completo formatado de modo elegante.\"\"\"\n",
        "  full_name = first_name + ' ' + last_name\n",
        "  return full_name.title()\n",
        "\n",
        "musician = get_formatted_name('jimi', 'hendrix')\n",
        "print(musician)"
      ],
      "metadata": {
        "colab": {
          "base_uri": "https://localhost:8080/"
        },
        "id": "ZGBZtt-I6bSk",
        "outputId": "f99d7d93-4d7b-48a0-ba46-9d9477a10a59"
      },
      "execution_count": null,
      "outputs": [
        {
          "output_type": "stream",
          "name": "stdout",
          "text": [
            "Jimi Hendrix\n"
          ]
        }
      ]
    },
    {
      "cell_type": "markdown",
      "source": [
        "## Deixando um argumento opcional\n",
        "\n",
        "Valores `default` podem ser usados para deixar um argumento opcional.\n",
        "\n",
        "O valor `default` passamos para o final da lista de parâmetros."
      ],
      "metadata": {
        "id": "REPSCeUY88FD"
      }
    },
    {
      "cell_type": "code",
      "source": [
        "def get_formatted_name(first_name, last_name, middle_name=''):\n",
        "  \"\"\"Devolve um nome completo formatado de modo elegante.\"\"\"\n",
        "  full_name = first_name + ' ' + middle_name + ' ' + last_name\n",
        "  return full_name.title()\n",
        "\n",
        "musician1 = get_formatted_name('john', 'lee', 'hooker')\n",
        "print(musician1)\n",
        "\n",
        "musician2 = get_formatted_name('jimi', 'hendrix')\n",
        "print(musician2)"
      ],
      "metadata": {
        "colab": {
          "base_uri": "https://localhost:8080/"
        },
        "id": "zXZCAEM889Wn",
        "outputId": "961197ac-7c8a-4bf9-b95c-9476f1cbe26f"
      },
      "execution_count": null,
      "outputs": [
        {
          "output_type": "stream",
          "name": "stdout",
          "text": [
            "John Hooker Lee\n",
            "Jimi  Hendrix\n"
          ]
        }
      ]
    },
    {
      "cell_type": "markdown",
      "source": [
        "## Devolvendo um dicionário\n",
        "\n",
        "Uma função pode devolver qualquer tipo de valor necessário, incluindo estruturas de dados mais complexas como listas e dicionários.\n"
      ],
      "metadata": {
        "id": "mLB7g5xv8M5A"
      }
    },
    {
      "cell_type": "code",
      "source": [
        "def build_person(first_name, last_name, age=''):\n",
        "  \"\"\"Devolve um dicionário com informações sobre uma pessoa.\"\"\"\n",
        "  person = {'first': first_name, 'last': last_name}\n",
        "  if age: person['age'] = age\n",
        "  return person\n",
        "\n",
        "musician1 = build_person('jimi', 'hendrix')\n",
        "print(musician)\n",
        "\n",
        "musician2 = build_person('john', 'hooker', age=60)\n",
        "print(musician2)"
      ],
      "metadata": {
        "colab": {
          "base_uri": "https://localhost:8080/"
        },
        "id": "NX2Nfzfm8Nf1",
        "outputId": "c2832ff9-50bc-43da-97ea-5a06b2387a48"
      },
      "execution_count": null,
      "outputs": [
        {
          "output_type": "stream",
          "name": "stdout",
          "text": [
            "{'first': 'jimi', 'last': 'hendrix'}\n",
            "{'first': 'john', 'last': 'hooker', 'age': 60}\n"
          ]
        }
      ]
    },
    {
      "cell_type": "markdown",
      "source": [
        "## Usando uma função com um laço while\n",
        "\n"
      ],
      "metadata": {
        "id": "8mKSflQk8OCB"
      }
    },
    {
      "cell_type": "code",
      "source": [
        "def get_formatted_name(first_name, last_name):\n",
        "  \"\"\"Devolve um nome completo formatado de modo elegante.\"\"\"\n",
        "  full_name = first_name + ' ' + last_name\n",
        "  return full_name.title()\n",
        "\n",
        "# Este é um loop infinito!\n",
        "while True:\n",
        "  print(\"\\nPlease tell me your name:\")\n",
        "  f_name = input(\"First name: \")\n",
        "  if f_name == 'q': break\n",
        "  l_name = input(\"Last name: \")\n",
        "  if l_name == 'q': break\n",
        "  formatted_name = get_formatted_name(f_name, l_name)\n",
        "  print(\"\\nHello, \" + formatted_name + \"!\")"
      ],
      "metadata": {
        "colab": {
          "base_uri": "https://localhost:8080/"
        },
        "id": "jLtZxZpX8Oa_",
        "outputId": "a75f4075-c9cf-491f-cd4e-f8da43ca02ff"
      },
      "execution_count": null,
      "outputs": [
        {
          "name": "stdout",
          "output_type": "stream",
          "text": [
            "\n",
            "Please tell me your name:\n",
            "First name: Alex\n",
            "Last name: First\n",
            "\n",
            "Hello, Alex First!\n",
            "\n",
            "Please tell me your name:\n",
            "First name: John\n",
            "Last name: John Johneiro\n",
            "\n",
            "Hello, John John Johneiro!\n",
            "\n",
            "Please tell me your name:\n",
            "First name: Manguso\n",
            "Last name: Hermano\n",
            "\n",
            "Hello, Manguso Hermano!\n",
            "\n",
            "Please tell me your name:\n",
            "First name: q\n"
          ]
        }
      ]
    },
    {
      "cell_type": "markdown",
      "source": [
        "## Passando uma lista para uma função\n",
        "\n",
        "Com frequência, você achará útil passar uma lista para uma função, seja uma lista de nomes, de números ou de objetos mais complexos, como dicionários. Se passarmos uma lista a uma função, ela terá acesso direto ao conteúdo dessa lista. Vamos usar funções para que o trabalho com listas seja mais eficiente."
      ],
      "metadata": {
        "id": "NhM-FBcP8Oyu"
      }
    },
    {
      "cell_type": "code",
      "source": [
        "def greet_users(names):\n",
        "  \"\"\"Exibe uma saudação simples a cada usuário da lista.\"\"\"\n",
        "  for name in names:\n",
        "    msg = \"Hello, \" + name.title() + \"!\"\n",
        "    print(msg)\n",
        "\n",
        "usernames = ['hannah', 'ty', 'margot']\n",
        "greet_users(usernames)"
      ],
      "metadata": {
        "colab": {
          "base_uri": "https://localhost:8080/"
        },
        "id": "O_whcpJB8PLM",
        "outputId": "597dd371-9319-4993-c645-6457596c96e9"
      },
      "execution_count": null,
      "outputs": [
        {
          "output_type": "stream",
          "name": "stdout",
          "text": [
            "Hello, Hannah!\n",
            "Hello, Ty!\n",
            "Hello, Margot!\n"
          ]
        }
      ]
    },
    {
      "cell_type": "markdown",
      "source": [
        "## Modificando uma lista em uma função\n",
        "\n",
        "Quando passamos uma lista a uma função, ela pode ser modificada. Qualquer alteração feita na lista no corpo da função é permanente, permitindo trabalhar de modo eficiente, mesmo quando lidamos com grandes quantidades de dados."
      ],
      "metadata": {
        "id": "vED4wnAV8Poz"
      }
    },
    {
      "cell_type": "code",
      "source": [
        "def print_models(unprinted_designs, completed_models):\n",
        "  \"\"\"\n",
        "  Simula a impressão de cada design, até que não haja mais nenhum.\n",
        "  Transfere cada design para completed_models após a impressão.\n",
        "  \"\"\"\n",
        "  while unprinted_designs:\n",
        "    current_design = unprinted_designs.pop()\n",
        "    # Simula a criação de uma impressão 3D a partir do design\n",
        "    print(\"Printing model: \" + current_design)\n",
        "    completed_models.append(current_design)\n",
        "\n",
        "def show_completed_models(completed_models):\n",
        "  \"\"\"Mostra todos os modelos impressos.\"\"\"\n",
        "  print(\"\\nThe following models have been printed:\")\n",
        "  for completed_model in completed_models:\n",
        "    print(completed_model)\n",
        "\n",
        "\n",
        "unprinted_designs = ['iphone case', 'robot pendant', 'dodecahedron']\n",
        "completed_models = []\n",
        "\n",
        "print_models(unprinted_designs, completed_models)\n",
        "show_completed_models(completed_models)"
      ],
      "metadata": {
        "id": "ghOPeuZj8P_L",
        "colab": {
          "base_uri": "https://localhost:8080/"
        },
        "outputId": "ceecb7b9-9a58-48e0-c10b-8dcfdb11bcdd"
      },
      "execution_count": null,
      "outputs": [
        {
          "output_type": "stream",
          "name": "stdout",
          "text": [
            "Printing model: dodecahedron\n",
            "Printing model: robot pendant\n",
            "Printing model: iphone case\n",
            "\n",
            "The following models have been printed:\n",
            "dodecahedron\n",
            "robot pendant\n",
            "iphone case\n"
          ]
        }
      ]
    },
    {
      "cell_type": "markdown",
      "source": [
        "## Evitando que uma função modifique uma lista\n",
        "\n",
        "Você pode enviar uma cópia de uma lista para uma função assim: `nome_da_função(nome_da_lista[:])`\n",
        "\n",
        "A notação de fatia `[:]` cria uma cópia da lista para ser enviada à função.\n",
        "\n",
        "Apesar de poder preservar o conteúdo de uma lista passando uma cópia dela para suas funções, você deve passar a lista original para as funções, a menos que tenha um motivo específico para passar uma cópia. Para uma função, é mais eficiente trabalhar com uma lista existente a fim de evitar o uso de tempo e de memória necessários para criar uma cópia separada, em especial quando trabalhamos com listas grandes."
      ],
      "metadata": {
        "id": "SplBxV3BMWau"
      }
    },
    {
      "cell_type": "code",
      "source": [
        "def print_models(unprinted_designs, completed_models):\n",
        "  \"\"\"\n",
        "  Simula a impressão de cada design, até que não haja mais nenhum.\n",
        "  Transfere cada design para completed_models após a impressão.\n",
        "  \"\"\"\n",
        "  while unprinted_designs:\n",
        "    current_design = unprinted_designs.pop()\n",
        "    # Simula a criação de uma impressão 3D a partir do design\n",
        "    print(\"Printing model: \" + current_design)\n",
        "    completed_models.append(current_design)\n",
        "\n",
        "def show_completed_models(completed_models):\n",
        "  \"\"\"Mostra todos os modelos impressos.\"\"\"\n",
        "  print(\"\\nThe following models have been printed:\")\n",
        "  for completed_model in completed_models:\n",
        "    print(completed_model)\n",
        "\n",
        "\n",
        "unprinted_designs = ['iphone case', 'robot pendant', 'dodecahedron']\n",
        "completed_models = []\n",
        "\n",
        "print_models(unprinted_designs[:], completed_models)\n",
        "show_completed_models(completed_models)\n",
        "show_completed_models(unprinted_designs)"
      ],
      "metadata": {
        "id": "arqRFo7-MW4m",
        "colab": {
          "base_uri": "https://localhost:8080/"
        },
        "outputId": "8d0c47c0-d41e-44c2-e297-d634bd6de816"
      },
      "execution_count": null,
      "outputs": [
        {
          "output_type": "stream",
          "name": "stdout",
          "text": [
            "Printing model: dodecahedron\n",
            "Printing model: robot pendant\n",
            "Printing model: iphone case\n",
            "\n",
            "The following models have been printed:\n",
            "dodecahedron\n",
            "robot pendant\n",
            "iphone case\n",
            "\n",
            "The following models have been printed:\n",
            "iphone case\n",
            "robot pendant\n",
            "dodecahedron\n"
          ]
        }
      ]
    },
    {
      "cell_type": "markdown",
      "source": [
        "## Passando um número arbitrário de argumentos\n",
        "\n",
        "Às vezes, você não saberá com antecedência quantos argumentos uma função deve aceitar. Felizmente, Python permite que uma função receba um número arbitrário de argumentos da instrução de chamada."
      ],
      "metadata": {
        "id": "S79zKhTmMXcW"
      }
    },
    {
      "cell_type": "code",
      "source": [
        "def make_pizza(*toppings):\n",
        "  \"\"\"Exibe a lista de ingredientes pedidos.\"\"\"\n",
        "  print(toppings)\n",
        "\n",
        "make_pizza('pepperoni')\n",
        "make_pizza('mushrooms', 'green peppers', 'extra cheese')"
      ],
      "metadata": {
        "id": "VyMFuTQOMXw8",
        "colab": {
          "base_uri": "https://localhost:8080/"
        },
        "outputId": "e33da64e-83e0-42f1-e846-c47427ca4402"
      },
      "execution_count": null,
      "outputs": [
        {
          "output_type": "stream",
          "name": "stdout",
          "text": [
            "('pepperoni',)\n",
            "('mushrooms', 'green peppers', 'extra cheese')\n"
          ]
        }
      ]
    },
    {
      "cell_type": "markdown",
      "source": [
        "**NOTA**: O asterisco no nome do parâmetro `*toppings` diz a Python para ***criar uma tupla vazia chamada toppings e reunir os valores recebidos nessa tupla***.\n",
        "\n",
        "Também poderíamos substituir a instrução print por um laço que percorra a lista de ingredientes:"
      ],
      "metadata": {
        "id": "04t_6im3xIdg"
      }
    },
    {
      "cell_type": "code",
      "source": [
        "def make_pizza(*toppings):\n",
        "  \"\"\"Exibe a lista de ingredientes pedidos.\"\"\"\n",
        "  print(\"\\nMaking a pizza with the following toppings:\")\n",
        "  for topping in toppings:\n",
        "    print(\"- \" + topping)\n",
        "\n",
        "make_pizza('pepperoni')\n",
        "make_pizza('mushrooms', 'green peppers', 'extra cheese')"
      ],
      "metadata": {
        "colab": {
          "base_uri": "https://localhost:8080/"
        },
        "id": "8hyo3xF6yIO3",
        "outputId": "3b13b096-bcf8-4fc4-8b8b-a5c58ee3ad70"
      },
      "execution_count": null,
      "outputs": [
        {
          "output_type": "stream",
          "name": "stdout",
          "text": [
            "\n",
            "Making a pizza with the following toppings:\n",
            "- pepperoni\n",
            "\n",
            "Making a pizza with the following toppings:\n",
            "- mushrooms\n",
            "- green peppers\n",
            "- extra cheese\n"
          ]
        }
      ]
    },
    {
      "cell_type": "markdown",
      "source": [
        "## Misturando argumentos posicionais e arbitrários\n",
        "\n",
        "Se quiser que uma função aceite vários tipos de argumentos, o parâmetro que aceita um número arbitrário de argumentos deve ser colocado por último na definição da função. Python faz a correspondência de argumentos posicionais e nomeados antes, e depois agrupa qualquer argumento remanescente no último parâmetro."
      ],
      "metadata": {
        "id": "492NsvU5MYO1"
      }
    },
    {
      "cell_type": "code",
      "source": [
        "def make_pizza(size, *toppings):\n",
        "  \"\"\"Apresenta a pizza que estamos prestes a preparar.\"\"\"\n",
        "  print(\"\\nMaking a \" + str(size) + \"-inch pizza with the following toppings:\")\n",
        "  for topping in toppings:\n",
        "    print(\"- \" + topping)\n",
        "\n",
        "make_pizza(16, 'pepperoni')\n",
        "make_pizza(12, 'mushrooms', 'green peppers','extra cheese')"
      ],
      "metadata": {
        "id": "u_uRkcJmMY7D",
        "colab": {
          "base_uri": "https://localhost:8080/"
        },
        "outputId": "50a7024b-091c-406c-95f9-4fba14f3afa2"
      },
      "execution_count": null,
      "outputs": [
        {
          "output_type": "stream",
          "name": "stdout",
          "text": [
            "\n",
            "Making a 16-inch pizza with the following toppings:\n",
            "- pepperoni\n",
            "\n",
            "Making a 12-inch pizza with the following toppings:\n",
            "- mushrooms\n",
            "- green peppers\n",
            "- extra cheese\n"
          ]
        }
      ]
    },
    {
      "cell_type": "markdown",
      "source": [
        "## Usando argumentos nomeados arbitrários\n",
        "\n",
        "Às vezes, você vai querer aceitar um número arbitrário de argumentos, mas não saberá com antecedência qual tipo de informação será passado para a função. Nesse caso, podemos escrever funções que aceitem tantos pares chave-valor quantos forem fornecidos pela instrução que faz a chamada."
      ],
      "metadata": {
        "id": "Sftoln9bMb7l"
      }
    },
    {
      "cell_type": "code",
      "source": [
        "def build_profile(first, last, **user_info):\n",
        "  \"\"\"Constrói um dicionário contendo tudo que sabemos sobre um usuário.\"\"\"\n",
        "  profile = {}\n",
        "  profile['first_name'] = first\n",
        "  profile['last_name'] = last\n",
        "  for key, value in user_info.items():\n",
        "    profile[key] = value\n",
        "  return profile\n",
        "\n",
        "user_profile = build_profile('albert', 'einstein', location='princeton', field='physics')\n",
        "print(user_profile)"
      ],
      "metadata": {
        "id": "gi6TtHW0McTv",
        "colab": {
          "base_uri": "https://localhost:8080/"
        },
        "outputId": "17e73645-5f51-4221-9013-2b4752123fdd"
      },
      "execution_count": null,
      "outputs": [
        {
          "output_type": "stream",
          "name": "stdout",
          "text": [
            "{'first_name': 'albert', 'last_name': 'einstein', 'location': 'princeton', 'field': 'physics'}\n"
          ]
        }
      ]
    },
    {
      "cell_type": "markdown",
      "source": [
        "**NOTA:** A função será apropriada, não importa quantos pares chave-valor adicionais sejam fornecidos na chamada da função.\n",
        "\n",
        "Podemos misturar valores posicionais, nomeados e arbitrários de várias maneiras diferentes quando escrevermos nossas próprias funções."
      ],
      "metadata": {
        "id": "J4ZPTNTE1gOa"
      }
    },
    {
      "cell_type": "markdown",
      "source": [
        "## Armazenando suas funções em módulos\n",
        "\n",
        "Você pode dar um passo além armazenando suas funções em um arquivo separado chamado `módulo` e, então, `importar` esse módulo em seu programa principal.\n",
        "\n",
        "Uma instrução `import` diz ao Python para deixar o código de um módulo disponível no arquivo de programa em execução no momento.\n",
        "\n",
        "\n"
      ],
      "metadata": {
        "id": "zf4iKnew0oI6"
      }
    },
    {
      "cell_type": "markdown",
      "source": [
        "## Importando um módulo completo\n",
        "\n",
        "\n",
        "Para começar a importar funções, inicialmente precisamos criar um módulo. Um `módulo` é um arquivo terminado em `.py` que contém o código que queremos importar para o nosso programa.\n",
        "\n",
        "Essa primeira abordagem à importação, em que simplesmente escrevemos `import` seguido do nome do módulo, deixa todas as funções do módulo disponíveis ao seu programa. Se você usar esse tipo de instrução `import` para importar um módulo completo chamado ***nome_do_módulo.py***, todas as funções do módulo estarão disponíveis por meio da sintaxe a seguir: `nome_do_módulo.nome_da_função()`"
      ],
      "metadata": {
        "id": "whHKMazKMe05"
      }
    },
    {
      "cell_type": "code",
      "source": [
        "def make_pizza(size, *toppings):\n",
        "  \"\"\"Apresenta a pizza que estamos prestes a preparar.\"\"\"\n",
        "  print(\"\\nMaking a \" + str(size) + \"-inch pizza with the following toppings:\")\n",
        "  for topping in toppings:\n",
        "    print(\"- \" + topping)"
      ],
      "metadata": {
        "id": "hNlvktCj0ohL"
      },
      "execution_count": null,
      "outputs": []
    },
    {
      "cell_type": "markdown",
      "source": [
        "Para chamar uma função que está em um módulo importado, forneça o nome do módulo, seguido do nome da função, separados por um ponto."
      ],
      "metadata": {
        "id": "X6w7robh0o92"
      }
    },
    {
      "cell_type": "code",
      "source": [
        "\"\"\" Como estamos trabalhando com cenários dentro do Colab,\n",
        "não importarei de outro arquivo no momento \"\"\"\n",
        "#import make_pizza\n",
        "\n",
        "make_pizza(16, 'pepperoni')\n",
        "make_pizza(12, 'mushrooms','green peppers', 'extra cheese')"
      ],
      "metadata": {
        "colab": {
          "base_uri": "https://localhost:8080/"
        },
        "id": "gAUG_ZtS0pYP",
        "outputId": "87b12f44-2cdb-4cb5-c018-4f6615a87df0"
      },
      "execution_count": null,
      "outputs": [
        {
          "output_type": "stream",
          "name": "stdout",
          "text": [
            "\n",
            "Making a 16-inch pizza with the following toppings:\n",
            "- pepperoni\n",
            "\n",
            "Making a 12-inch pizza with the following toppings:\n",
            "- mushrooms\n",
            "- green peppers\n",
            "- extra cheese\n"
          ]
        }
      ]
    },
    {
      "cell_type": "markdown",
      "source": [
        "## Usando a palavra reservada as para atribuir um alias a uma função\n",
        "\n",
        "Se o nome de uma função que você importar puder entrar em conflito com um nome existente em seu programa ou se o nome da função for longo, podemos usar um `alias` único e conciso, que é um nome alternativo, semelhante a um apelido para a função. Dê esse apelido especial à função quando importá-la.\n",
        "\n",
        "A sintaxe geral para fornecer um alias é: **from** `nome_do_módulo` **import**\n",
        "`nome_da_função` **as** `nf`.\n",
        "\n",
        "Abaixo, um exemplo utilizando a importação do Selenium WebDriver e dando um alias para facilitar a utilização."
      ],
      "metadata": {
        "id": "x4qKYHMZPLXE"
      }
    },
    {
      "cell_type": "code",
      "source": [
        "!pip install selenium"
      ],
      "metadata": {
        "colab": {
          "base_uri": "https://localhost:8080/"
        },
        "id": "jf4BVBHGSKmD",
        "outputId": "f92bb5e9-9032-4110-dd91-cc957339a9ff"
      },
      "execution_count": null,
      "outputs": [
        {
          "output_type": "stream",
          "name": "stdout",
          "text": [
            "Collecting selenium\n",
            "  Downloading selenium-4.16.0-py3-none-any.whl (10.0 MB)\n",
            "\u001b[2K     \u001b[90m━━━━━━━━━━━━━━━━━━━━━━━━━━━━━━━━━━━━━━━━\u001b[0m \u001b[32m10.0/10.0 MB\u001b[0m \u001b[31m16.3 MB/s\u001b[0m eta \u001b[36m0:00:00\u001b[0m\n",
            "\u001b[?25hRequirement already satisfied: urllib3[socks]<3,>=1.26 in /usr/local/lib/python3.10/dist-packages (from selenium) (2.0.7)\n",
            "Collecting trio~=0.17 (from selenium)\n",
            "  Downloading trio-0.24.0-py3-none-any.whl (460 kB)\n",
            "\u001b[2K     \u001b[90m━━━━━━━━━━━━━━━━━━━━━━━━━━━━━━━━━━━━━━━━\u001b[0m \u001b[32m460.2/460.2 kB\u001b[0m \u001b[31m30.4 MB/s\u001b[0m eta \u001b[36m0:00:00\u001b[0m\n",
            "\u001b[?25hCollecting trio-websocket~=0.9 (from selenium)\n",
            "  Downloading trio_websocket-0.11.1-py3-none-any.whl (17 kB)\n",
            "Requirement already satisfied: certifi>=2021.10.8 in /usr/local/lib/python3.10/dist-packages (from selenium) (2023.11.17)\n",
            "Requirement already satisfied: attrs>=20.1.0 in /usr/local/lib/python3.10/dist-packages (from trio~=0.17->selenium) (23.2.0)\n",
            "Requirement already satisfied: sortedcontainers in /usr/local/lib/python3.10/dist-packages (from trio~=0.17->selenium) (2.4.0)\n",
            "Requirement already satisfied: idna in /usr/local/lib/python3.10/dist-packages (from trio~=0.17->selenium) (3.6)\n",
            "Collecting outcome (from trio~=0.17->selenium)\n",
            "  Downloading outcome-1.3.0.post0-py2.py3-none-any.whl (10 kB)\n",
            "Requirement already satisfied: sniffio>=1.3.0 in /usr/local/lib/python3.10/dist-packages (from trio~=0.17->selenium) (1.3.0)\n",
            "Requirement already satisfied: exceptiongroup in /usr/local/lib/python3.10/dist-packages (from trio~=0.17->selenium) (1.2.0)\n",
            "Collecting wsproto>=0.14 (from trio-websocket~=0.9->selenium)\n",
            "  Downloading wsproto-1.2.0-py3-none-any.whl (24 kB)\n",
            "Requirement already satisfied: pysocks!=1.5.7,<2.0,>=1.5.6 in /usr/local/lib/python3.10/dist-packages (from urllib3[socks]<3,>=1.26->selenium) (1.7.1)\n",
            "Collecting h11<1,>=0.9.0 (from wsproto>=0.14->trio-websocket~=0.9->selenium)\n",
            "  Downloading h11-0.14.0-py3-none-any.whl (58 kB)\n",
            "\u001b[2K     \u001b[90m━━━━━━━━━━━━━━━━━━━━━━━━━━━━━━━━━━━━━━━━\u001b[0m \u001b[32m58.3/58.3 kB\u001b[0m \u001b[31m6.4 MB/s\u001b[0m eta \u001b[36m0:00:00\u001b[0m\n",
            "\u001b[?25hInstalling collected packages: outcome, h11, wsproto, trio, trio-websocket, selenium\n",
            "Successfully installed h11-0.14.0 outcome-1.3.0.post0 selenium-4.16.0 trio-0.24.0 trio-websocket-0.11.1 wsproto-1.2.0\n"
          ]
        }
      ]
    },
    {
      "cell_type": "code",
      "source": [
        "from selenium import webdriver as wd"
      ],
      "metadata": {
        "id": "f3CIk9UrPjNG"
      },
      "execution_count": null,
      "outputs": []
    },
    {
      "cell_type": "markdown",
      "source": [
        "## Importando todas as funções de um módulo\n",
        "\n",
        "Podemos dizer a Python para importar todas as funções de um módulo\n",
        "usando o operador asterisco (*):"
      ],
      "metadata": {
        "id": "lcH_zEeFP7P4"
      }
    },
    {
      "cell_type": "code",
      "source": [
        "from selenium import *"
      ],
      "metadata": {
        "id": "QuwzJiw4RfKD"
      },
      "execution_count": null,
      "outputs": []
    },
    {
      "cell_type": "markdown",
      "source": [
        "## Estilizando funções\n",
        "\n",
        "As funções devem ter nomes descritivos, e esses nomes devem usar\n",
        "`letras minúsculas` e `underscores`. Os `nomes de módulos` devem usar essas convenções também.\n",
        "\n",
        "Toda função deve ter um comentário que explique o que ela faz de modo conciso. Esse comentário deve estar imediatamente após a definição da função e deve utilizar o formato de docstring (`\"\"\" comentário \"\"\"`)\n",
        "\n",
        "Se você especificar um valor default para um parâmetro, não deve haver espaços em nenhum dos lados do sinal de igualdade:\n",
        "`def nome_da_função(parâmetro_0, parâmetro_1='valor default')`. A mesma convenção deve ser usada para argumentos nomeados em chamadas de função: `nome_da_função(valor_0, parâmetro_1='valor')`\n",
        "\n",
        "Todas as instruções `import` devem estar no ***início de um arquivo***."
      ],
      "metadata": {
        "id": "itpIaY9FQT3R"
      }
    },
    {
      "cell_type": "code",
      "source": [
        "import unittest\n",
        "from selenium import webdriver\n",
        "from selenium.webdriver.common.keys import Keys\n",
        "from selenium.webdriver.common.by import By\n",
        "\n",
        "class PythonOrgSearch(unittest.TestCase):\n",
        "\n",
        "    def setUp(self):\n",
        "        self.driver = webdriver.Firefox()\n",
        "\n",
        "    def test_search_in_python_org(self):\n",
        "        driver = self.driver\n",
        "        driver.get(\"http://www.python.org\")\n",
        "        self.assertIn(\"Python\", driver.title)\n",
        "        elem = driver.find_element(By.NAME, \"q\")\n",
        "        elem.send_keys(\"pycon\")\n",
        "        elem.send_keys(Keys.RETURN)\n",
        "        self.assertNotIn(\"No results found.\", driver.page_source)\n",
        "\n",
        "\n",
        "    def tearDown(self):\n",
        "        self.driver.close()\n",
        "\n",
        "if __name__ == \"__main__\":\n",
        "    unittest.main()"
      ],
      "metadata": {
        "colab": {
          "base_uri": "https://localhost:8080/",
          "height": 331
        },
        "id": "DwyIe3mnR9wO",
        "outputId": "d1f9f3da-1990-4a67-ea6b-d7344875bdca"
      },
      "execution_count": null,
      "outputs": [
        {
          "output_type": "stream",
          "name": "stderr",
          "text": [
            "E\n",
            "======================================================================\n",
            "ERROR: /root/ (unittest.loader._FailedTest)\n",
            "----------------------------------------------------------------------\n",
            "AttributeError: module '__main__' has no attribute '/root/'\n",
            "\n",
            "----------------------------------------------------------------------\n",
            "Ran 1 test in 0.006s\n",
            "\n",
            "FAILED (errors=1)\n"
          ]
        },
        {
          "output_type": "error",
          "ename": "SystemExit",
          "evalue": "True",
          "traceback": [
            "An exception has occurred, use %tb to see the full traceback.\n",
            "\u001b[0;31mSystemExit\u001b[0m\u001b[0;31m:\u001b[0m True\n"
          ]
        },
        {
          "output_type": "stream",
          "name": "stderr",
          "text": [
            "/usr/local/lib/python3.10/dist-packages/IPython/core/interactiveshell.py:3561: UserWarning: To exit: use 'exit', 'quit', or Ctrl-D.\n",
            "  warn(\"To exit: use 'exit', 'quit', or Ctrl-D.\", stacklevel=1)\n"
          ]
        }
      ]
    }
  ]
}