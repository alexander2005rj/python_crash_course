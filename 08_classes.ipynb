{
  "nbformat": 4,
  "nbformat_minor": 0,
  "metadata": {
    "colab": {
      "provenance": [],
      "authorship_tag": "ABX9TyMI+FspENvvceCSY4FMd2x2"
    },
    "kernelspec": {
      "name": "python3",
      "display_name": "Python 3"
    },
    "language_info": {
      "name": "python"
    }
  },
  "cells": [
    {
      "cell_type": "markdown",
      "source": [
        "## Criando e usando uma classe\n",
        "\n"
      ],
      "metadata": {
        "id": "0AY_SFHxYhIm"
      }
    },
    {
      "cell_type": "code",
      "source": [],
      "metadata": {
        "id": "hEimKhwoahh6"
      },
      "execution_count": null,
      "outputs": []
    },
    {
      "cell_type": "code",
      "execution_count": null,
      "metadata": {
        "id": "LF8Nm5pLYakF"
      },
      "outputs": [],
      "source": [
        "class Dog():\n",
        "  \"\"\"Uma tentativa simples de modelar um cachorro.\"\"\"\n",
        "  def __init__(self, name, age):\n",
        "    \"\"\"Inicializa os atributos name e age.\"\"\"\n",
        "    self.name = name\n",
        "    self.age = age\n",
        "\n",
        "  def sit(self):\n",
        "    \"\"\"Simula um cachorro sentando em resposta a um comando.\"\"\"\n",
        "    print(self.name.title() + \" is now sitting.\")\n",
        "\n",
        "  def roll_over(self):\n",
        "    \"\"\"Simula um cachorro rolando em resposta a um comando.\"\"\"\n",
        "    print(self.name.title() + \" rolled over!\")"
      ]
    },
    {
      "cell_type": "markdown",
      "source": [
        "### Método __init__()\n",
        "\n",
        "O método `__init__()` em é um método especial que Python executa automaticamente sempre que criamos uma nova instância baseada na classe. Esse método tem dois underscores no início e dois no final – uma convenção que ajuda a evitar que os nomes default de métodos Python entrem em conflito com nomes de métodos criados por você.\n",
        "\n",
        "Definimos o método `__init__()` para que tenha três parâmetros: `self`,\n",
        "***name*** e ***age***. O parâmetro `self` é obrigatório na definição do método e deve estar antes dos demais parâmetros. Deve estar incluído na definição,\n",
        "pois, quando Python chama esse método `__init__()` depois (para criar uma instância de Dog), a chamada do método passará o argumento `self` automaticamente. Toda chamada de método associada a uma classe\n",
        "passa `self`, que é uma referência à própria instância, de modo\n",
        "automático; **ele dá acesso aos atributos e métodos da classe à instância\n",
        "individual**. Quando criamos uma instância da classe, Python chamará o\n",
        "método `__init__()` da classe. `self` é passado automaticamente, portanto\n",
        "não é preciso especificá-lo. Sempre que quisermos criar uma instância\n",
        "de uma classe, forneceremos valores apenas para os parâmetros que, neste exemplo acima, são ***name*** e ***age***.\n",
        "\n",
        "Qualquer variável prefixada com `self` está disponível a todos os métodos da classe; além disso, podemos acessar essas variáveis por meio de qualquer instância criada a partir da classe."
      ],
      "metadata": {
        "id": "seujNGVkYgjX"
      }
    },
    {
      "cell_type": "markdown",
      "source": [
        "## Criando uma instância a partir de uma classe\n",
        "\n"
      ],
      "metadata": {
        "id": "jMFdTt9vnLFg"
      }
    },
    {
      "cell_type": "code",
      "source": [
        "\"\"\"Instanciando um objeto da classe Dog\"\"\"\n",
        "little_dog = Dog(\"bingo\", \"7\")"
      ],
      "metadata": {
        "id": "byDof4TfYhsv"
      },
      "execution_count": null,
      "outputs": []
    },
    {
      "cell_type": "markdown",
      "source": [
        "### Acessando atributos\n",
        "\n",
        "Para acessar os atributos de uma instância utilize a notação de ponto.\n",
        "\n",
        "A notação de ponto é usada com frequência em Python. Essa sintaxe\n",
        "mostra como Python encontra o valor de um atributo."
      ],
      "metadata": {
        "id": "wdGEFds_xZ3Y"
      }
    },
    {
      "cell_type": "code",
      "source": [
        "print(little_dog.name.title())\n",
        "print(little_dog.age)"
      ],
      "metadata": {
        "id": "IAK_7PMuxaVq",
        "colab": {
          "base_uri": "https://localhost:8080/"
        },
        "outputId": "4ca66f63-d45e-4807-969d-fca4b1744ce8"
      },
      "execution_count": null,
      "outputs": [
        {
          "output_type": "stream",
          "name": "stdout",
          "text": [
            "Bingo\n",
            "7\n"
          ]
        }
      ]
    },
    {
      "cell_type": "markdown",
      "source": [
        "### Chamando métodos\n",
        "\n",
        "Podemos usar a notação de ponto para chamar qualquer método definido nessa classe."
      ],
      "metadata": {
        "id": "cDn0CXZoxbCo"
      }
    },
    {
      "cell_type": "code",
      "source": [
        "little_dog.sit()\n",
        "little_dog.roll_over()"
      ],
      "metadata": {
        "id": "cyat00ZSxbr6",
        "colab": {
          "base_uri": "https://localhost:8080/"
        },
        "outputId": "5a91886b-558e-4e84-d5f9-8b50a3bd010d"
      },
      "execution_count": null,
      "outputs": [
        {
          "output_type": "stream",
          "name": "stdout",
          "text": [
            "Bingo is now sitting.\n",
            "Bingo rolled over!\n"
          ]
        }
      ]
    },
    {
      "cell_type": "markdown",
      "source": [
        "### Criando várias instâncias\n",
        "\n",
        "Você pode criar tantas instâncias de uma classe quantas forem necessárias."
      ],
      "metadata": {
        "id": "cFpuHokBnj4R"
      }
    },
    {
      "cell_type": "code",
      "source": [
        "my_dog = Dog('willie', 6)\n",
        "your_dog = Dog('lucy', 3)\n",
        "\n",
        "print(\"My dog's name is \" + my_dog.name.title() + \".\")\n",
        "print(\"My dog is \"+ str(my_dog.age) + \" years old.\")\n",
        "my_dog.sit()\n",
        "\n",
        "print(\"\\nYour dog's name is \" + your_dog.name.title() + \".\")\n",
        "print(\"Your dog is \" + str(your_dog.age) + \" years old.\")\n",
        "your_dog.sit()"
      ],
      "metadata": {
        "id": "ulZjx56lnkK6",
        "colab": {
          "base_uri": "https://localhost:8080/"
        },
        "outputId": "6ce80c1e-828f-418e-cc2b-0ec61412a6b1"
      },
      "execution_count": null,
      "outputs": [
        {
          "output_type": "stream",
          "name": "stdout",
          "text": [
            "My dog's name is Willie.\n",
            "My dog is 6 years old.\n",
            "Willie is now sitting.\n",
            "\n",
            "Your dog's name is Lucy.\n",
            "Your dog is 3 years old.\n",
            "Lucy is now sitting.\n"
          ]
        }
      ]
    },
    {
      "cell_type": "markdown",
      "source": [
        "## Trabalhando com classes e instâncias"
      ],
      "metadata": {
        "id": "3aSlY3-jnqQj"
      }
    },
    {
      "cell_type": "code",
      "source": [
        "class Car():\n",
        "  \"\"\"Uma tentativa simples de representar um carro.\"\"\"\n",
        "  def __init__(self, make, model, year):\n",
        "    \"\"\"Inicializa os atributos que descrevem um carro.\"\"\"\n",
        "    self.make = make\n",
        "    self.model = model\n",
        "    self.year = year\n",
        "\n",
        "  def get_descriptive_name(self):\n",
        "    \"\"\"Devolve um nome descritivo, formatado de modo elegante.\"\"\"\n",
        "    long_name = str(self.year) + ' ' + self.make + ' ' + self.model\n",
        "    return long_name.title()\n",
        "\n",
        "my_new_car = Car('audi', 'a4', 2016)\n",
        "print(my_new_car.get_descriptive_name())"
      ],
      "metadata": {
        "id": "Ep6AAxvtnqvS",
        "colab": {
          "base_uri": "https://localhost:8080/"
        },
        "outputId": "1de8c3cc-9d37-46ac-d4c7-e188a13a47af"
      },
      "execution_count": null,
      "outputs": [
        {
          "output_type": "stream",
          "name": "stdout",
          "text": [
            "2016 Audi A4\n"
          ]
        }
      ]
    },
    {
      "cell_type": "markdown",
      "source": [
        "## Definindo um valor default para um atributo\n",
        "\n",
        "Todo atributo de uma classe precisa de um valor inicial, mesmo que esse valor seja 0 ou uma string vazia. Em alguns casos, por exemplo, quando definimos um valor default, faz sentido especificar esse valor inicial no corpo do método `__init__()`; se isso for feito para um atributo, você não precisará incluir um parâmetro para ele."
      ],
      "metadata": {
        "id": "NE25s-1rY274"
      }
    },
    {
      "cell_type": "code",
      "source": [
        "class Car():\n",
        "  def __init__(self, make, model, year):\n",
        "    \"\"\"Inicializa os atributos que descrevem um carro.\"\"\"\n",
        "    self.make = make\n",
        "    self.model = model\n",
        "    self.year = year\n",
        "    self.odometer_reading = 0\n",
        "\n",
        "  def get_descriptive_name(self):\n",
        "    \"\"\"Devolve um nome descritivo, formatado de modo elegante.\"\"\"\n",
        "    long_name = str(self.year) + ' ' + self.make + ' ' + self.model\n",
        "    return long_name.title()\n",
        "\n",
        "  def read_odometer(self):\n",
        "    \"\"\"Exibe uma frase que mostra a milhagem do carro.\"\"\"\n",
        "    print(\"This car has \" + str(self.odometer_reading) + \" miles on it.\")\n",
        "\n",
        "my_new_car = Car('audi', 'a4', 2016)\n",
        "print(my_new_car.get_descriptive_name())\n",
        "my_new_car.read_odometer()"
      ],
      "metadata": {
        "colab": {
          "base_uri": "https://localhost:8080/"
        },
        "id": "mvxpjI_XY3V4",
        "outputId": "4112c5fb-c07e-4112-b05c-243ccb559b27"
      },
      "execution_count": null,
      "outputs": [
        {
          "output_type": "stream",
          "name": "stdout",
          "text": [
            "2016 Audi A4\n",
            "This car has 0 miles on it.\n"
          ]
        }
      ]
    },
    {
      "cell_type": "markdown",
      "source": [
        "## Modificando valores de atributos"
      ],
      "metadata": {
        "id": "bESJ9NrAY3tN"
      }
    },
    {
      "cell_type": "markdown",
      "source": [
        "### Modificando o valor de um atributo diretamente\n",
        "\n",
        "A maneira mais simples de modificar o valor de um atributo é acessá-lo diretamente por meio de uma instância."
      ],
      "metadata": {
        "id": "TSeWDZOgaR-D"
      }
    },
    {
      "cell_type": "code",
      "source": [
        "my_new_car.odometer_reading = 23\n",
        "my_new_car.read_odometer()"
      ],
      "metadata": {
        "colab": {
          "base_uri": "https://localhost:8080/"
        },
        "id": "OkGwkIrtY4E7",
        "outputId": "e2f60770-76ce-4047-eced-1d633d7fe97c"
      },
      "execution_count": null,
      "outputs": [
        {
          "output_type": "stream",
          "name": "stdout",
          "text": [
            "This car has 23 miles on it.\n"
          ]
        }
      ]
    },
    {
      "cell_type": "markdown",
      "source": [
        "### Modificando o valor de um atributo com um método\n",
        "\n",
        "Pode ser conveniente ter métodos que atualizem determinados atributos para você. Em vez de acessar o atributo de modo direto, passe o novo valor para um método que trate a atualização internamente."
      ],
      "metadata": {
        "id": "X4qzQNh_affR"
      }
    },
    {
      "cell_type": "code",
      "source": [
        "class Car():\n",
        "  def __init__(self, make, model, year):\n",
        "    \"\"\"Inicializa os atributos que descrevem um carro.\"\"\"\n",
        "    self.make = make\n",
        "    self.model = model\n",
        "    self.year = year\n",
        "    self.odometer_reading = 0\n",
        "\n",
        "  def get_descriptive_name(self):\n",
        "    \"\"\"Devolve um nome descritivo, formatado de modo elegante.\"\"\"\n",
        "    long_name = str(self.year) + ' ' + self.make + ' ' + self.model\n",
        "    return long_name.title()\n",
        "\n",
        "  def read_odometer(self):\n",
        "    \"\"\"Exibe uma frase que mostra a milhagem do carro.\"\"\"\n",
        "    print(\"This car has \" + str(self.odometer_reading) + \" miles on it.\")\n",
        "\n",
        "  def update_odometer(self, mileage):\n",
        "    \"\"\"Define o valor de leitura do hodômetro com o valor especificado.\"\"\"\n",
        "    \"\"\"Rejeita a alteração se for tentativa de definir um valor menor para o hodômetro \"\"\"\n",
        "    if mileage >= self.odometer_reading:\n",
        "      self.odometer_reading = mileage\n",
        "    else:\n",
        "      print(\"You can't roll back an odometer!\")\n",
        "\n",
        "my_new_car = Car('audi', 'a4', 2016)\n",
        "print(my_new_car.get_descriptive_name())\n",
        "my_new_car.update_odometer(23)\n",
        "my_new_car.read_odometer()"
      ],
      "metadata": {
        "id": "Pyexj-glahIW"
      },
      "execution_count": null,
      "outputs": []
    },
    {
      "cell_type": "markdown",
      "source": [
        "### Incrementando o valor de um atributo com um método\n",
        "\n",
        "Às vezes, você vai querer incrementar o valor de um atributo de determinada quantidade, em vez de definir um valor totalmente novo."
      ],
      "metadata": {
        "id": "es2oAaasfG0Q"
      }
    },
    {
      "cell_type": "code",
      "source": [
        "class Car():\n",
        "  def __init__(self, make, model, year):\n",
        "    \"\"\"Inicializa os atributos que descrevem um carro.\"\"\"\n",
        "    self.make = make\n",
        "    self.model = model\n",
        "    self.year = year\n",
        "    self.odometer_reading = 0\n",
        "\n",
        "  def get_descriptive_name(self):\n",
        "    \"\"\"Devolve um nome descritivo, formatado de modo elegante.\"\"\"\n",
        "    long_name = str(self.year) + ' ' + self.make + ' ' + self.model\n",
        "    return long_name.title()\n",
        "\n",
        "  def read_odometer(self):\n",
        "    \"\"\"Exibe uma frase que mostra a milhagem do carro.\"\"\"\n",
        "    print(\"This car has \" + str(self.odometer_reading) + \" miles on it.\")\n",
        "\n",
        "  def update_odometer(self, mileage):\n",
        "    \"\"\"Define o valor de leitura do hodômetro com o valor especificado.\"\"\"\n",
        "    \"\"\"Rejeita a alteração se for tentativa de definir um valor menor para o hodômetro \"\"\"\n",
        "    if mileage >= self.odometer_reading:\n",
        "      self.odometer_reading = mileage\n",
        "    else:\n",
        "      print(\"You can't roll back an odometer!\")\n",
        "\n",
        "  def increment_odometer(self, miles):\n",
        "    \"\"\"Soma a quantidade especificada ao valor de leitura do hodômetro.\"\"\"\n",
        "    self.odometer_reading += miles\n",
        "\n",
        "my_used_car = Car('subaru', 'outback', 2013)\n",
        "print(my_used_car.get_descriptive_name())\n",
        "my_used_car.update_odometer(23500)\n",
        "my_used_car.read_odometer()\n",
        "my_used_car.increment_odometer(100)\n",
        "my_used_car.read_odometer()"
      ],
      "metadata": {
        "colab": {
          "base_uri": "https://localhost:8080/"
        },
        "id": "q7dppED8fHPK",
        "outputId": "af2481d0-fe65-4915-b07d-1a464abee0aa"
      },
      "execution_count": null,
      "outputs": [
        {
          "output_type": "stream",
          "name": "stdout",
          "text": [
            "2013 Subaru Outback\n",
            "This car has 23500 miles on it.\n",
            "This car has 23600 miles on it.\n"
          ]
        }
      ]
    },
    {
      "cell_type": "markdown",
      "source": [
        "## Herança\n",
        "\n",
        "Se a classe que você estiver escrevendo for uma versão especializada de outra classe já criada, a *herança* poderá ser usada. Quando uma classe *herda* de outra, ela assumirá automaticamente todos os atributos e métodos da primeira classe. A classe original se chama *classe-pai* e a nova classe é a *classe-filha*. A classe-filha herda todos os atributos e método de sua classe-pai, mas também é livre para definir novos atributos e métodos próprios."
      ],
      "metadata": {
        "id": "a-LQDvs6fHoM"
      }
    },
    {
      "cell_type": "markdown",
      "source": [
        "## Método ***__ init __()*** de uma classe-filha\n",
        "\n",
        "\n",
        "A primeira tarefa de Python ao criar uma instância de uma classe-filha é atribuir valores a todos os atributos da classe-pai. Para isso, o método `__init__()` de uma classe-filha precisa da ajuda de sua classe-pai.\n",
        "\n",
        "Como exemplo, vamos modelar um carro elétrico. Um carro elétrico é apenas um tipo específico de carro, portanto podemos basear nossa nova classe ***ElectricCar*** na classe ***Car*** que escrevemos antes. Então só precisaremos escrever código para os atributos e os comportamentos específicos de carros elétricos.\n",
        "\n",
        "Vamos começar criando uma versão simples da classe ***ElectricCar*** que\n",
        "faz tudo que a classe ***Car*** faz:"
      ],
      "metadata": {
        "id": "6qPCvkpKi4_j"
      }
    },
    {
      "cell_type": "code",
      "source": [
        "class Car():\n",
        "  \"\"\"Uma tentativa simples de representar um carro.\"\"\"\n",
        "  def __init__(self, make, model, year):\n",
        "    self.make = make\n",
        "    self.model = model\n",
        "    self.year = year\n",
        "    self.odometer_reading = 0\n",
        "\n",
        "  def get_descriptive_name(self):\n",
        "    long_name = str(self.year) + ' ' + self.make + ' ' + self.model\n",
        "    return long_name.title()\n",
        "\n",
        "  def read_odometer(self):\n",
        "    print(\"This car has \" + str(self.odometer_reading) + \" miles on it.\")\n",
        "\n",
        "  def update_odometer(self, mileage):\n",
        "    if mileage >= self.odometer_reading:\n",
        "      self.odometer_reading = mileage\n",
        "    else:\n",
        "      print(\"You can't roll back an odometer!\")\n",
        "\n",
        "  def increment_odometer(self, miles):\n",
        "    self.odometer_reading += miles\n",
        "\n",
        "class ElectricCar(Car):\n",
        "  \"\"\"Representa aspectos específicos de veículos elétricos.\"\"\"\n",
        "  def __init__(self, make, model, year):\n",
        "    \"\"\"Inicializa os atributos da classe-pai.\"\"\"\n",
        "    super().__init__(make, model, year)\n",
        "\n",
        "my_tesla = ElectricCar('tesla', 'model s', 2016)\n",
        "print(my_tesla.get_descriptive_name())"
      ],
      "metadata": {
        "id": "7O_jrL2VfIC2"
      },
      "execution_count": null,
      "outputs": []
    },
    {
      "cell_type": "markdown",
      "source": [
        "A função `super()` em é uma função especial que ajuda Python a criar conexões entre a classe-pai e a classe-filha. Essa linha diz a Python para\n",
        "chamar o método `__init__()` da classe-pai de ***ElectricCar***, que confere\n",
        "todos os atributos da classe-pai a ***ElectricCar***. O nome `super` é derivado\n",
        "de uma convenção segundo a qual a classe-pai se chama `superclasse` e a\n",
        "classe-filha é a `subclasse`."
      ],
      "metadata": {
        "id": "y0MsCqkzt01F"
      }
    },
    {
      "cell_type": "markdown",
      "source": [
        "## Definindo atributos e métodos da classe-filha\n",
        "\n"
      ],
      "metadata": {
        "id": "PuhmNTaTxB-j"
      }
    },
    {
      "cell_type": "code",
      "source": [
        "class Car():\n",
        "  \"\"\"Uma tentativa simples de representar um carro.\"\"\"\n",
        "  def __init__(self, make, model, year):\n",
        "    self.make = make\n",
        "    self.model = model\n",
        "    self.year = year\n",
        "    self.odometer_reading = 0\n",
        "\n",
        "  def get_descriptive_name(self):\n",
        "    long_name = str(self.year) + ' ' + self.make + ' ' + self.model\n",
        "    return long_name.title()\n",
        "\n",
        "  def read_odometer(self):\n",
        "    print(\"This car has \" + str(self.odometer_reading) + \" miles on it.\")\n",
        "\n",
        "  def update_odometer(self, mileage):\n",
        "    if mileage >= self.odometer_reading:\n",
        "      self.odometer_reading = mileage\n",
        "    else:\n",
        "      print(\"You can't roll back an odometer!\")\n",
        "\n",
        "  def increment_odometer(self, miles):\n",
        "    self.odometer_reading += miles\n",
        "\n",
        "class ElectricCar(Car):\n",
        "  \"\"\"Representa aspectos específicos de veículos elétricos.\"\"\"\n",
        "  def __init__(self, make, model, year):\n",
        "    \"\"\"Inicializa os atributos da classe pai Em seguida, inicializa os atributos específicos de um carro elétrico\"\"\"\n",
        "    super().__init__(make, model, year)\n",
        "    self.battery_size = 70\n",
        "\n",
        "  def describe_battery(self):\n",
        "    \"\"\"Exibe uma frase que descreve a capacidade da bateria.\"\"\"\n",
        "    print(\"This car has a \" + str(self.battery_size) + \"-kWh battery.\")\n",
        "\n",
        "\n",
        "my_tesla = ElectricCar('tesla', 'model s', 2016)\n",
        "print(my_tesla.get_descriptive_name())\n",
        "my_tesla.describe_battery()"
      ],
      "metadata": {
        "colab": {
          "base_uri": "https://localhost:8080/"
        },
        "id": "rrFsrr52t1nY",
        "outputId": "189a919a-a209-4d38-81a4-d173d1474677"
      },
      "execution_count": null,
      "outputs": [
        {
          "output_type": "stream",
          "name": "stdout",
          "text": [
            "2016 Tesla Model S\n",
            "This car has a 70-kWh battery.\n"
          ]
        }
      ]
    },
    {
      "cell_type": "markdown",
      "source": [
        "## Sobrescrevendo métodos da classe-pai\n",
        "\n",
        "\n",
        "Defina um método na classe-filha com o mesmo nome do método da classe-pai que você deseja sobrescrever. Python desprezará o método da classe-pai e só prestará atenção no método definido na classe-filha."
      ],
      "metadata": {
        "id": "dJDTCjoYt1-w"
      }
    },
    {
      "cell_type": "code",
      "source": [
        "class Car():\n",
        "  \"\"\"Uma tentativa simples de representar um carro.\"\"\"\n",
        "  def __init__(self, make, model, year):\n",
        "    self.make = make\n",
        "    self.model = model\n",
        "    self.year = year\n",
        "    self.odometer_reading = 0\n",
        "\n",
        "  def get_descriptive_name(self):\n",
        "    long_name = str(self.year) + ' ' + self.make + ' ' + self.model\n",
        "    return long_name.title()\n",
        "\n",
        "  def read_odometer(self):\n",
        "    print(\"This car has \" + str(self.odometer_reading) + \" miles on it.\")\n",
        "\n",
        "  def update_odometer(self, mileage):\n",
        "    if mileage >= self.odometer_reading:\n",
        "      self.odometer_reading = mileage\n",
        "    else:\n",
        "      print(\"You can't roll back an odometer!\")\n",
        "\n",
        "  def increment_odometer(self, miles):\n",
        "    self.odometer_reading += miles\n",
        "\n",
        "  def fill_gas_tank(self):\n",
        "    \"\"\"Preenchendo o tanque de gasolina.\"\"\"\n",
        "    print(\"This car need a gas tank!\")\n",
        "\n",
        "class ElectricCar(Car):\n",
        "  \"\"\"Representa aspectos específicos de veículos elétricos.\"\"\"\n",
        "  def __init__(self, make, model, year):\n",
        "    \"\"\"Inicializa os atributos da classe pai Em seguida, inicializa os atributos específicos de um carro elétrico\"\"\"\n",
        "    super().__init__(make, model, year)\n",
        "    self.battery_size = 70\n",
        "\n",
        "  def describe_battery(self):\n",
        "    \"\"\"Exibe uma frase que descreve a capacidade da bateria.\"\"\"\n",
        "    print(\"This car has a \" + str(self.battery_size) + \"-kWh battery.\")\n",
        "\n",
        "  def fill_gas_tank(self):\n",
        "    \"\"\"Carros elétricos não têm tanques de gasolina.\"\"\"\n",
        "    print(\"This car doesn't need a gas tank!\")\n",
        "\n",
        "my_tesla = ElectricCar('tesla', 'model s', 2016)\n",
        "print(my_tesla.get_descriptive_name())\n",
        "my_tesla.describe_battery()\n",
        "my_tesla.fill_gas_tank()"
      ],
      "metadata": {
        "id": "cTLJJsbKt2dW",
        "colab": {
          "base_uri": "https://localhost:8080/"
        },
        "outputId": "f8e880e8-61bc-4d99-e7cc-4e50a91cce15"
      },
      "execution_count": null,
      "outputs": [
        {
          "output_type": "stream",
          "name": "stdout",
          "text": [
            "2016 Tesla Model S\n",
            "This car has a 70-kWh battery.\n",
            "This car doesn't need a gas tank!\n"
          ]
        }
      ]
    },
    {
      "cell_type": "markdown",
      "source": [
        "## Instâncias como atributos\n",
        "\n",
        "Talvez você perceba que parte de uma classe pode ser escrita como uma classe separada. Sua classe maior poderá ser dividida em partes menores que funcionem em conjunto."
      ],
      "metadata": {
        "id": "nXDSvn3Nx4Sf"
      }
    },
    {
      "cell_type": "code",
      "source": [
        "class Car():\n",
        "  \"\"\"Uma tentativa simples de representar um carro.\"\"\"\n",
        "  def __init__(self, make, model, year):\n",
        "    self.make = make\n",
        "    self.model = model\n",
        "    self.year = year\n",
        "    self.odometer_reading = 0\n",
        "\n",
        "  def get_descriptive_name(self):\n",
        "    long_name = str(self.year) + ' ' + self.make + ' ' + self.model\n",
        "    return long_name.title()\n",
        "\n",
        "  def read_odometer(self):\n",
        "    print(\"This car has \" + str(self.odometer_reading) + \" miles on it.\")\n",
        "\n",
        "  def update_odometer(self, mileage):\n",
        "    if mileage >= self.odometer_reading:\n",
        "      self.odometer_reading = mileage\n",
        "    else:\n",
        "      print(\"You can't roll back an odometer!\")\n",
        "\n",
        "  def increment_odometer(self, miles):\n",
        "    self.odometer_reading += miles\n",
        "\n",
        "  def fill_gas_tank(self):\n",
        "    \"\"\"Preenchendo o tanque de gasolina.\"\"\"\n",
        "    print(\"This car need a gas tank!\")"
      ],
      "metadata": {
        "id": "ojqJZ0GIIeQv"
      },
      "execution_count": null,
      "outputs": []
    },
    {
      "cell_type": "code",
      "source": [
        "class Battery():\n",
        "  \"\"\"Uma tentativa simples de modelar uma bateria para um carro elétrico.\"\"\"\n",
        "  def __init__(self, battery_size=70):\n",
        "    \"\"\"Inicializa os atributos da bateria.\"\"\"\n",
        "    self.battery_size = battery_size\n",
        "\n",
        "  def describe_battery(self):\n",
        "    \"\"\"Exibe uma frase que descreve a capacidade da bateria.\"\"\"\n",
        "    print(\"This car has a \" + str(self.battery_size) + \"-kWh battery.\")\n",
        "\n",
        "  def get_range(self):\n",
        "    \"\"\"Exibe uma frase sobre a distância que o carro é  capaz de percorrer com essa bateria.\"\"\"\n",
        "    if self.battery_size == 70:\n",
        "      range = 240\n",
        "    elif self.battery_size == 85:\n",
        "      range = 270\n",
        "    message = \"This car can go approximately \" + str(range)\n",
        "    message += \" miles on a full charge.\"\n",
        "    print(message)\n",
        "\n",
        "class ElectricCar(Car):\n",
        "  \"\"\"Representa aspectos específicos de veículos elétricos.\"\"\"\n",
        "  def __init__(self, make, model, year):\n",
        "    \"\"\" Inicializa os atributos da classe-pai Em seguida, inicializa os atributos específicos de um carro elétrico \"\"\"\n",
        "    super().__init__(make, model, year)\n",
        "    self.battery = Battery()\n",
        "\n",
        "my_tesla = ElectricCar('tesla', 'model s', 2016)\n",
        "print(my_tesla.get_descriptive_name())\n",
        "my_tesla.battery.describe_battery()\n",
        "my_tesla.battery.get_range()"
      ],
      "metadata": {
        "colab": {
          "base_uri": "https://localhost:8080/"
        },
        "id": "ugFjwcYcIgTy",
        "outputId": "294d3aac-2bfa-428e-b46c-adaa98cf21d7"
      },
      "execution_count": null,
      "outputs": [
        {
          "output_type": "stream",
          "name": "stdout",
          "text": [
            "2016 Tesla Model S\n",
            "This car has a 70-kWh battery.\n",
            "This car can go approximately 240 miles on a full charge.\n"
          ]
        }
      ]
    },
    {
      "cell_type": "markdown",
      "source": [
        "## Importando uma única classe\n",
        "\n",
        "Vamos criar um módulo que contenha apenas a classe `Car`. Resolveremos esse problema de nomenclatura armazenando a classe `Car` em um módulo chamado `car.py`.\n",
        "\n",
        "O exmeplo abaixo importará a classe `Car` e então criará uma instância dessa classe:"
      ],
      "metadata": {
        "id": "MwghkC5oMji9"
      }
    },
    {
      "cell_type": "code",
      "source": [
        "# Importanto a classe Car de um arquivo externo\n",
        "import sys\n",
        "sys.path.append('/content/*.py')\n",
        "\n",
        "from car import Car\n",
        "\n",
        "my_new_car = Car('audi', 'a4', 2016)\n",
        "print(my_new_car.get_descriptive_name())\n",
        "my_new_car.odometer_reading = 23\n",
        "my_new_car.read_odometer()"
      ],
      "metadata": {
        "id": "3EoEuFL_x4vI",
        "colab": {
          "base_uri": "https://localhost:8080/"
        },
        "outputId": "2f7eb441-3e4e-453c-f8d5-5653031a04fa"
      },
      "execution_count": null,
      "outputs": [
        {
          "output_type": "stream",
          "name": "stdout",
          "text": [
            "2016 Audi A4\n",
            "This car has 23 miles on it.\n"
          ]
        }
      ]
    },
    {
      "cell_type": "markdown",
      "source": [
        "## Armazenando várias classes em um módulo\n",
        "\n",
        "Você pode armazenar tantas classes quantas forem necessárias em um único módulo, embora cada classe em um módulo deva estar, de algum modo, relacionada com outra classe.\n",
        "\n"
      ],
      "metadata": {
        "id": "wHy0HoGyhjpH"
      }
    },
    {
      "cell_type": "markdown",
      "source": [
        "## Importando várias classes de um módulo\n",
        "\n",
        "Podemos importar quantas classes forem necessárias em um arquivo de programa."
      ],
      "metadata": {
        "id": "ni4wqbM1nafM"
      }
    },
    {
      "cell_type": "code",
      "source": [
        "# Importanto a classe Car de um arquivo externo\n",
        "import sys\n",
        "sys.path.append('/content/')\n",
        "\n",
        "from car import Car, ElectricCar\n",
        "my_beetle = Car('volkswagen', 'beetle', 2016)\n",
        "print(my_beetle.get_descriptive_name())\n",
        "my_tesla = ElectricCar('tesla', 'roadster', 2016)\n",
        "print(my_tesla.get_descriptive_name())"
      ],
      "metadata": {
        "id": "HhVGEyVQfcYc"
      },
      "execution_count": null,
      "outputs": []
    },
    {
      "cell_type": "markdown",
      "source": [
        "## Estilizando classes\n",
        "\n",
        "Os nomes das classes devem ser escritos com `CamelCaps`. Para isso, cada palavra do nome deve ter a primeira letra maiúscula, e você não deve usar underscores. Nomes de instâncias e de módulos devem ser escritos com letras minúsculas e underscores entre as palavras.\n",
        "\n",
        "Toda classe deve ter uma docstring logo depois de sua definição. A docstring deve conter uma breve descrição do que a classe faz, e as mesmas convenções de formatação devem ser usadas para escrever docstrings em funções. Cada módulo também deve ter uma docstring que descreva para que servem as classes de um módulo.\n",
        "\n",
        "Se houver necessidade de importar um módulo da biblioteca-padrão e um módulo escrito por você, coloque a instrução de importação do módulo da biblioteca-padrão antes. Então acrescente uma linha em branco e a instrução de importação para o módulo que você escreveu. Em programas com várias instruções de importação, essa convenção facilita ver a origem dos diferentes módulos utilizados pelo programa."
      ],
      "metadata": {
        "id": "7rfZQSNIx5N0"
      }
    }
  ]
}